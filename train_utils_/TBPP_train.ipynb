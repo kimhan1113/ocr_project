{
 "cells": [
  {
   "cell_type": "code",
   "execution_count": 1,
   "metadata": {},
   "outputs": [
    {
     "name": "stderr",
     "output_type": "stream",
     "text": [
      "Using TensorFlow backend.\n"
     ]
    }
   ],
   "source": [
    "import numpy as np\n",
    "import matplotlib.pyplot as plt\n",
    "import keras\n",
    "import time\n",
    "import os\n",
    "import pickle\n",
    "\n",
    "from tbpp_model import TBPP512, TBPP512_dense\n",
    "from tbpp_utils import PriorUtil\n",
    "from ssd_data import InputGenerator\n",
    "from tbpp_training import TBPPFocalLoss\n",
    "from utils.model import load_weights\n",
    "from utils.training import Logger"
   ]
  },
  {
   "cell_type": "markdown",
   "metadata": {},
   "source": [
    "### Data"
   ]
  },
  {
   "cell_type": "code",
   "execution_count": 2,
   "metadata": {},
   "outputs": [],
   "source": [
    "from data_icdar2015fst import GTUtility\n",
    "# with open('gt_util_synthtext.pkl', 'rb') as f:\n",
    "#     gt_util = pickle.load(f)\n",
    "gt_util_train = GTUtility('../data/icdar')\n",
    "# gt_util_train, gt_util_val = gt_util.split(split=0.95)"
   ]
  },
  {
   "cell_type": "markdown",
   "metadata": {},
   "source": [
    "### Model"
   ]
  },
  {
   "cell_type": "code",
   "execution_count": null,
   "metadata": {},
   "outputs": [],
   "source": [
    "# TextBoxes++\n",
    "model = TBPP512(softmax=False)\n",
    "weights_path = 'models/ssd512_voc_weights_fixed.hdf5'\n",
    "freeze = ['conv1_1', 'conv1_2',\n",
    "          'conv2_1', 'conv2_2',\n",
    "          'conv3_1', 'conv3_2', 'conv3_3',\n",
    "          #'conv4_1', 'conv4_2', 'conv4_3',\n",
    "          #'conv5_1', 'conv5_2', 'conv5_3',\n",
    "         ]\n",
    "batch_size = 24\n",
    "experiment = 'tbpp512fl_synthtext'"
   ]
  },
  {
   "cell_type": "code",
   "execution_count": 3,
   "metadata": {},
   "outputs": [],
   "source": [
    "# TextBoxes++ + DenseNet\n",
    "model = TBPP512_dense(softmax=False)\n",
    "weights_path = 'models/tbpp/weights.018.h5'\n",
    "freeze = []\n",
    "batch_size = 6\n",
    "experiment = 'dsodtbpp512fl_synthtext'"
   ]
  },
  {
   "cell_type": "code",
   "execution_count": 4,
   "metadata": {},
   "outputs": [
    {
     "name": "stderr",
     "output_type": "stream",
     "text": [
      "ssd_utils.py:210: RuntimeWarning: divide by zero encountered in double_scalars\n",
      "  box_wh.append([min_size * np.sqrt(ar), min_size / np.sqrt(ar)])\n"
     ]
    },
    {
     "name": "stdout",
     "output_type": "stream",
     "text": [
      "layer missing max_pooling2d_9\n",
      "    file  []\n"
     ]
    }
   ],
   "source": [
    "prior_util = PriorUtil(model)\n",
    "\n",
    "if weights_path is not None:\n",
    "    load_weights(model, weights_path)"
   ]
  },
  {
   "cell_type": "markdown",
   "metadata": {},
   "source": [
    "### Training"
   ]
  },
  {
   "cell_type": "code",
   "execution_count": 5,
   "metadata": {
    "scrolled": true
   },
   "outputs": [
    {
     "name": "stdout",
     "output_type": "stream",
     "text": [
      "Epoch 1/100\n"
     ]
    },
    {
     "name": "stderr",
     "output_type": "stream",
     "text": [
      "ssd_utils.py:37: RuntimeWarning: invalid value encountered in multiply\n",
      "  area_gt = (priors[:, 2] - priors[:, 0]) * (priors[:, 3] - priors[:, 1])\n",
      "tbpp_utils.py:43: RuntimeWarning: invalid value encountered in greater\n",
      "  prior_mask = max_val > overlap_threshold\n"
     ]
    },
    {
     "name": "stdout",
     "output_type": "stream",
     "text": [
      "19/19 [==============================] - 26s 1s/step - loss: 3.3397 - conf_loss: 2.6509e-04 - loc_loss: 3.0746 - precision: 0.6876 - recall: 0.6590 - accuracy: 0.7805 - fmeasure: 0.6624 - num_pos: 111.0000 - num_neg: 229251.0000\n",
      "Epoch 2/100\n",
      "19/19 [==============================] - 6s 295ms/step - loss: 2.8189 - conf_loss: 2.1693e-04 - loc_loss: 2.6020 - precision: 0.6719 - recall: 0.6963 - accuracy: 0.8093 - fmeasure: 0.6624 - num_pos: 99.6842 - num_neg: 229262.3158\n",
      "Epoch 3/100\n",
      "19/19 [==============================] - 6s 295ms/step - loss: 2.9193 - conf_loss: 3.0755e-04 - loc_loss: 2.6117 - precision: 0.7373 - recall: 0.6216 - accuracy: 0.8035 - fmeasure: 0.6610 - num_pos: 110.0000 - num_neg: 229252.0000\n",
      "Epoch 4/100\n",
      " 8/19 [===========>..................] - ETA: 3s - loss: 3.2187 - conf_loss: 4.5493e-04 - loc_loss: 2.7638 - precision: 0.7818 - recall: 0.7586 - accuracy: 0.7592 - fmeasure: 0.7617 - num_pos: 145.8750 - num_neg: 229216.1250NEW epoch\n",
      "19/19 [==============================] - 6s 298ms/step - loss: 2.5308 - conf_loss: 3.0933e-04 - loc_loss: 2.2215 - precision: 0.7507 - recall: 0.7679 - accuracy: 0.7944 - fmeasure: 0.7457 - num_pos: 126.2632 - num_neg: 229235.7368\n",
      "Epoch 5/100\n",
      "19/19 [==============================] - 6s 298ms/step - loss: 3.4196 - conf_loss: 3.2199e-04 - loc_loss: 3.0976 - precision: 0.7384 - recall: 0.6456 - accuracy: 0.7756 - fmeasure: 0.6779 - num_pos: 141.8421 - num_neg: 229220.1579\n",
      "Epoch 6/100\n",
      "19/19 [==============================] - 6s 297ms/step - loss: 2.2875 - conf_loss: 1.5415e-04 - loc_loss: 2.1334 - precision: 0.6914 - recall: 0.6204 - accuracy: 0.8463 - fmeasure: 0.6403 - num_pos: 93.7368 - num_neg: 229268.2632\n",
      "Epoch 7/100\n",
      "19/19 [==============================] - 6s 297ms/step - loss: 1.3513 - conf_loss: 1.2073e-04 - loc_loss: 1.2306 - precision: 0.8749 - recall: 0.6880 - accuracy: 0.8665 - fmeasure: 0.7649 - num_pos: 99.2105 - num_neg: 229262.7895\n",
      "Epoch 8/100\n",
      " 8/19 [===========>..................] - ETA: 3s - loss: 1.3290 - conf_loss: 1.3065e-04 - loc_loss: 1.1983 - precision: 0.8698 - recall: 0.7385 - accuracy: 0.8633 - fmeasure: 0.7972 - num_pos: 118.8750 - num_neg: 229243.1250NEW epoch\n",
      "19/19 [==============================] - 6s 297ms/step - loss: 1.2020 - conf_loss: 1.2736e-04 - loc_loss: 1.0746 - precision: 0.8705 - recall: 0.7292 - accuracy: 0.8667 - fmeasure: 0.7897 - num_pos: 112.0526 - num_neg: 229249.9474\n",
      "Epoch 9/100\n",
      "19/19 [==============================] - 6s 298ms/step - loss: 1.3988 - conf_loss: 1.3116e-04 - loc_loss: 1.2676 - precision: 0.8195 - recall: 0.6919 - accuracy: 0.8489 - fmeasure: 0.7413 - num_pos: 102.3158 - num_neg: 229259.6842\n",
      "Epoch 10/100\n",
      "19/19 [==============================] - 6s 297ms/step - loss: 1.0693 - conf_loss: 1.4247e-04 - loc_loss: 0.9268 - precision: 0.8831 - recall: 0.7580 - accuracy: 0.8479 - fmeasure: 0.8102 - num_pos: 129.1579 - num_neg: 229232.8421\n",
      "Epoch 11/100\n",
      "19/19 [==============================] - 6s 298ms/step - loss: 1.6189 - conf_loss: 2.0924e-04 - loc_loss: 1.4097 - precision: 0.8593 - recall: 0.7492 - accuracy: 0.8698 - fmeasure: 0.7904 - num_pos: 104.2105 - num_neg: 229257.7895\n",
      "Epoch 12/100\n",
      " 8/19 [===========>..................] - ETA: 3s - loss: 2.7963 - conf_loss: 1.1431e-04 - loc_loss: 2.6820 - precision: 0.7371 - recall: 0.6495 - accuracy: 0.9000 - fmeasure: 0.6705 - num_pos: 72.8750 - num_neg: 229289.1250NEW epoch\n",
      "19/19 [==============================] - 6s 297ms/step - loss: 1.9335 - conf_loss: 1.3159e-04 - loc_loss: 1.8019 - precision: 0.7980 - recall: 0.6917 - accuracy: 0.8758 - fmeasure: 0.7271 - num_pos: 110.8947 - num_neg: 229251.1053\n",
      "Epoch 13/100\n",
      "19/19 [==============================] - 6s 297ms/step - loss: 0.8267 - conf_loss: 1.1602e-04 - loc_loss: 0.7107 - precision: 0.9032 - recall: 0.7464 - accuracy: 0.8677 - fmeasure: 0.8137 - num_pos: 118.8947 - num_neg: 229243.1053\n",
      "Epoch 14/100\n",
      "19/19 [==============================] - 6s 297ms/step - loss: 1.3486 - conf_loss: 9.8516e-05 - loc_loss: 1.2501 - precision: 0.8890 - recall: 0.7259 - accuracy: 0.8893 - fmeasure: 0.7906 - num_pos: 99.9474 - num_neg: 229262.0526\n",
      "Epoch 15/100\n",
      "19/19 [==============================] - 6s 297ms/step - loss: 1.3412 - conf_loss: 2.2916e-04 - loc_loss: 1.1120 - precision: 0.8522 - recall: 0.7316 - accuracy: 0.8391 - fmeasure: 0.7649 - num_pos: 124.3684 - num_neg: 229237.6316\n",
      "Epoch 16/100\n",
      " 8/19 [===========>..................] - ETA: 3s - loss: 0.9269 - conf_loss: 8.9846e-05 - loc_loss: 0.8371 - precision: 0.8840 - recall: 0.7758 - accuracy: 0.9008 - fmeasure: 0.8177 - num_pos: 102.8750 - num_neg: 229259.1250NEW epoch\n",
      "19/19 [==============================] - 6s 297ms/step - loss: 0.9188 - conf_loss: 8.4214e-05 - loc_loss: 0.8346 - precision: 0.8469 - recall: 0.7715 - accuracy: 0.9026 - fmeasure: 0.7975 - num_pos: 100.0000 - num_neg: 229262.0000\n",
      "Epoch 17/100\n",
      "19/19 [==============================] - 6s 297ms/step - loss: 0.8397 - conf_loss: 9.8428e-05 - loc_loss: 0.7413 - precision: 0.8900 - recall: 0.7765 - accuracy: 0.8942 - fmeasure: 0.8264 - num_pos: 107.2105 - num_neg: 229254.7895\n",
      "Epoch 18/100\n",
      "19/19 [==============================] - 6s 296ms/step - loss: 0.8657 - conf_loss: 1.6035e-04 - loc_loss: 0.7054 - precision: 0.8907 - recall: 0.7468 - accuracy: 0.8746 - fmeasure: 0.8042 - num_pos: 108.9474 - num_neg: 229253.0526\n",
      "Epoch 19/100\n",
      "19/19 [==============================] - 6s 298ms/step - loss: 0.5892 - conf_loss: 9.3250e-05 - loc_loss: 0.4959 - precision: 0.8275 - recall: 0.7842 - accuracy: 0.8916 - fmeasure: 0.7963 - num_pos: 111.6842 - num_neg: 229250.3158\n",
      "Epoch 20/100\n",
      " 8/19 [===========>..................] - ETA: 3s - loss: 0.5766 - conf_loss: 8.5937e-05 - loc_loss: 0.4906 - precision: 0.8750 - recall: 0.7933 - accuracy: 0.8979 - fmeasure: 0.8265 - num_pos: 103.8750 - num_neg: 229258.1250NEW epoch\n",
      "19/19 [==============================] - 6s 297ms/step - loss: 0.8530 - conf_loss: 1.0628e-04 - loc_loss: 0.7467 - precision: 0.9149 - recall: 0.7242 - accuracy: 0.8789 - fmeasure: 0.7954 - num_pos: 119.0000 - num_neg: 229243.0000\n",
      "Epoch 21/100\n",
      "19/19 [==============================] - 6s 295ms/step - loss: 0.6593 - conf_loss: 8.4166e-05 - loc_loss: 0.5752 - precision: 0.8817 - recall: 0.7640 - accuracy: 0.8996 - fmeasure: 0.8115 - num_pos: 97.9474 - num_neg: 229264.0526\n",
      "Epoch 22/100\n",
      "19/19 [==============================] - 6s 299ms/step - loss: 0.6746 - conf_loss: 9.0405e-05 - loc_loss: 0.5842 - precision: 0.9125 - recall: 0.7870 - accuracy: 0.8977 - fmeasure: 0.8412 - num_pos: 124.5263 - num_neg: 229237.4737\n",
      "Epoch 23/100\n",
      "19/19 [==============================] - 6s 298ms/step - loss: 1.0832 - conf_loss: 1.8024e-04 - loc_loss: 0.9029 - precision: 0.8767 - recall: 0.7427 - accuracy: 0.8600 - fmeasure: 0.7914 - num_pos: 125.3158 - num_neg: 229236.6842\n",
      "Epoch 24/100\n",
      " 8/19 [===========>..................] - ETA: 3s - loss: 1.7331 - conf_loss: 8.3173e-05 - loc_loss: 1.6499 - precision: 0.8374 - recall: 0.8139 - accuracy: 0.9088 - fmeasure: 0.8219 - num_pos: 80.6250 - num_neg: 229281.3750NEW epoch\n",
      "19/19 [==============================] - 6s 296ms/step - loss: 1.0989 - conf_loss: 9.0964e-05 - loc_loss: 1.0079 - precision: 0.8515 - recall: 0.8123 - accuracy: 0.8942 - fmeasure: 0.8289 - num_pos: 99.1579 - num_neg: 229262.8421\n",
      "Epoch 25/100\n",
      "19/19 [==============================] - 6s 298ms/step - loss: 0.6110 - conf_loss: 7.2044e-05 - loc_loss: 0.5390 - precision: 0.8928 - recall: 0.7720 - accuracy: 0.9102 - fmeasure: 0.8242 - num_pos: 94.1053 - num_neg: 229267.8947\n",
      "Epoch 26/100\n",
      "19/19 [==============================] - 6s 299ms/step - loss: 0.8640 - conf_loss: 1.5354e-04 - loc_loss: 0.7105 - precision: 0.8697 - recall: 0.7528 - accuracy: 0.8900 - fmeasure: 0.7927 - num_pos: 100.8947 - num_neg: 229261.1053\n",
      "Epoch 27/100\n",
      "19/19 [==============================] - 6s 298ms/step - loss: 0.7213 - conf_loss: 9.5390e-05 - loc_loss: 0.6260 - precision: 0.9303 - recall: 0.8014 - accuracy: 0.8881 - fmeasure: 0.8593 - num_pos: 137.5789 - num_neg: 229224.4211\n",
      "Epoch 28/100\n"
     ]
    },
    {
     "name": "stdout",
     "output_type": "stream",
     "text": [
      " 8/19 [===========>..................] - ETA: 3s - loss: 0.3826 - conf_loss: 7.3919e-05 - loc_loss: 0.3087 - precision: 0.9151 - recall: 0.7788 - accuracy: 0.9029 - fmeasure: 0.8396 - num_pos: 100.5000 - num_neg: 229261.5000NEW epoch\n",
      "19/19 [==============================] - 6s 299ms/step - loss: 0.5606 - conf_loss: 8.2768e-05 - loc_loss: 0.4779 - precision: 0.9156 - recall: 0.7852 - accuracy: 0.8939 - fmeasure: 0.8422 - num_pos: 113.3684 - num_neg: 229248.6316\n",
      "Epoch 29/100\n",
      "19/19 [==============================] - 6s 297ms/step - loss: 0.7249 - conf_loss: 1.2662e-04 - loc_loss: 0.5983 - precision: 0.9044 - recall: 0.7925 - accuracy: 0.9072 - fmeasure: 0.8305 - num_pos: 93.1579 - num_neg: 229268.8421\n",
      "Epoch 30/100\n",
      "19/19 [==============================] - 6s 296ms/step - loss: 0.4146 - conf_loss: 7.1468e-05 - loc_loss: 0.3431 - precision: 0.9177 - recall: 0.8188 - accuracy: 0.9193 - fmeasure: 0.8620 - num_pos: 100.6842 - num_neg: 229261.3158\n",
      "Epoch 31/100\n",
      "19/19 [==============================] - 6s 298ms/step - loss: 0.5874 - conf_loss: 7.4970e-05 - loc_loss: 0.5124 - precision: 0.8744 - recall: 0.7772 - accuracy: 0.9035 - fmeasure: 0.8185 - num_pos: 109.2105 - num_neg: 229252.7895\n",
      "Epoch 32/100\n",
      " 8/19 [===========>..................] - ETA: 3s - loss: 0.5161 - conf_loss: 1.2357e-04 - loc_loss: 0.3926 - precision: 0.8793 - recall: 0.7839 - accuracy: 0.8708 - fmeasure: 0.8139 - num_pos: 159.8750 - num_neg: 229202.1250NEW epoch\n",
      "19/19 [==============================] - 6s 300ms/step - loss: 0.6053 - conf_loss: 1.0709e-04 - loc_loss: 0.4982 - precision: 0.8886 - recall: 0.7900 - accuracy: 0.8791 - fmeasure: 0.8291 - num_pos: 137.9474 - num_neg: 229224.0526\n",
      "Epoch 33/100\n",
      "19/19 [==============================] - 6s 297ms/step - loss: 0.5312 - conf_loss: 7.0166e-05 - loc_loss: 0.4610 - precision: 0.9079 - recall: 0.8118 - accuracy: 0.9165 - fmeasure: 0.8540 - num_pos: 99.6316 - num_neg: 229262.3684\n",
      "Epoch 34/100\n",
      "19/19 [==============================] - 6s 299ms/step - loss: 0.6377 - conf_loss: 1.4669e-04 - loc_loss: 0.4910 - precision: 0.9024 - recall: 0.7680 - accuracy: 0.8661 - fmeasure: 0.8245 - num_pos: 125.1053 - num_neg: 229236.8947\n",
      "Epoch 35/100\n",
      "19/19 [==============================] - 6s 299ms/step - loss: 0.4448 - conf_loss: 6.9633e-05 - loc_loss: 0.3752 - precision: 0.8964 - recall: 0.7875 - accuracy: 0.9142 - fmeasure: 0.8319 - num_pos: 98.7368 - num_neg: 229263.2632\n",
      "Epoch 36/100\n",
      " 8/19 [===========>..................] - ETA: 3s - loss: 0.3713 - conf_loss: 8.5677e-05 - loc_loss: 0.2856 - precision: 0.9598 - recall: 0.8327 - accuracy: 0.8904 - fmeasure: 0.8904 - num_pos: 160.6250 - num_neg: 229201.3750NEW epoch\n",
      "19/19 [==============================] - 6s 301ms/step - loss: 0.4193 - conf_loss: 7.6997e-05 - loc_loss: 0.3423 - precision: 0.9405 - recall: 0.8002 - accuracy: 0.9084 - fmeasure: 0.8605 - num_pos: 123.4737 - num_neg: 229238.5263\n",
      "Epoch 37/100\n",
      "19/19 [==============================] - 6s 297ms/step - loss: 0.2571 - conf_loss: 6.6956e-05 - loc_loss: 0.1901 - precision: 0.8847 - recall: 0.7888 - accuracy: 0.9186 - fmeasure: 0.8323 - num_pos: 109.8947 - num_neg: 229252.1053\n",
      "Epoch 38/100\n",
      "19/19 [==============================] - 6s 300ms/step - loss: 0.5265 - conf_loss: 6.2284e-05 - loc_loss: 0.4642 - precision: 0.8895 - recall: 0.7849 - accuracy: 0.9200 - fmeasure: 0.8320 - num_pos: 105.6316 - num_neg: 229256.3684\n",
      "Epoch 39/100\n",
      "19/19 [==============================] - 6s 300ms/step - loss: 0.3197 - conf_loss: 6.4326e-05 - loc_loss: 0.2554 - precision: 0.9390 - recall: 0.8360 - accuracy: 0.9223 - fmeasure: 0.8830 - num_pos: 113.2105 - num_neg: 229248.7895\n",
      "Epoch 40/100\n",
      " 8/19 [===========>..................] - ETA: 3s - loss: 0.4040 - conf_loss: 7.9397e-05 - loc_loss: 0.3246 - precision: 0.9352 - recall: 0.8552 - accuracy: 0.9100 - fmeasure: 0.8923 - num_pos: 125.2500 - num_neg: 229236.7500NEW epoch\n",
      "19/19 [==============================] - 6s 298ms/step - loss: 0.9382 - conf_loss: 1.2193e-04 - loc_loss: 0.8163 - precision: 0.9129 - recall: 0.7615 - accuracy: 0.8865 - fmeasure: 0.8211 - num_pos: 118.3158 - num_neg: 229243.6842\n",
      "Epoch 41/100\n",
      "19/19 [==============================] - 6s 298ms/step - loss: 0.2329 - conf_loss: 6.7154e-05 - loc_loss: 0.1657 - precision: 0.9321 - recall: 0.8653 - accuracy: 0.9260 - fmeasure: 0.8954 - num_pos: 122.6842 - num_neg: 229239.3158\n",
      "Epoch 42/100\n",
      "19/19 [==============================] - 6s 297ms/step - loss: 0.6185 - conf_loss: 1.2013e-04 - loc_loss: 0.4984 - precision: 0.8986 - recall: 0.7824 - accuracy: 0.8923 - fmeasure: 0.8168 - num_pos: 107.8421 - num_neg: 229254.1579\n",
      "Epoch 43/100\n",
      "19/19 [==============================] - 6s 301ms/step - loss: 0.5532 - conf_loss: 6.6419e-05 - loc_loss: 0.4867 - precision: 0.9316 - recall: 0.8024 - accuracy: 0.9205 - fmeasure: 0.8516 - num_pos: 111.5263 - num_neg: 229250.4737\n",
      "Epoch 44/100\n",
      " 8/19 [===========>..................] - ETA: 3s - loss: 0.3087 - conf_loss: 5.5234e-05 - loc_loss: 0.2535 - precision: 0.9475 - recall: 0.7769 - accuracy: 0.9308 - fmeasure: 0.8422 - num_pos: 89.2500 - num_neg: 229272.7500NEW epoch\n",
      "19/19 [==============================] - 6s 298ms/step - loss: 0.3143 - conf_loss: 6.3288e-05 - loc_loss: 0.2510 - precision: 0.9231 - recall: 0.7966 - accuracy: 0.9200 - fmeasure: 0.8478 - num_pos: 100.5789 - num_neg: 229261.4211\n",
      "Epoch 45/100\n",
      "19/19 [==============================] - 6s 296ms/step - loss: 0.4428 - conf_loss: 1.1773e-04 - loc_loss: 0.3250 - precision: 0.9555 - recall: 0.8273 - accuracy: 0.9046 - fmeasure: 0.8792 - num_pos: 129.7895 - num_neg: 229232.2105\n",
      "Epoch 46/100\n",
      "19/19 [==============================] - 6s 298ms/step - loss: 0.2648 - conf_loss: 6.4218e-05 - loc_loss: 0.2005 - precision: 0.9221 - recall: 0.8304 - accuracy: 0.9209 - fmeasure: 0.8717 - num_pos: 107.7368 - num_neg: 229254.2632\n",
      "Epoch 47/100\n",
      "19/19 [==============================] - 6s 297ms/step - loss: 0.2931 - conf_loss: 6.4568e-05 - loc_loss: 0.2285 - precision: 0.9088 - recall: 0.8439 - accuracy: 0.9282 - fmeasure: 0.8690 - num_pos: 93.5263 - num_neg: 229268.4737\n",
      "Epoch 48/100\n",
      " 8/19 [===========>..................] - ETA: 3s - loss: 0.3512 - conf_loss: 6.8740e-05 - loc_loss: 0.2824 - precision: 0.9339 - recall: 0.7753 - accuracy: 0.9104 - fmeasure: 0.8453 - num_pos: 108.1250 - num_neg: 229253.8750NEW epoch\n",
      "19/19 [==============================] - 6s 297ms/step - loss: 0.3018 - conf_loss: 6.5308e-05 - loc_loss: 0.2364 - precision: 0.9483 - recall: 0.8205 - accuracy: 0.9160 - fmeasure: 0.8780 - num_pos: 115.8421 - num_neg: 229246.1579\n",
      "Epoch 49/100\n",
      "19/19 [==============================] - 6s 298ms/step - loss: 0.2406 - conf_loss: 5.8593e-05 - loc_loss: 0.1820 - precision: 0.9650 - recall: 0.8155 - accuracy: 0.9235 - fmeasure: 0.8695 - num_pos: 122.0000 - num_neg: 229240.0000\n",
      "Epoch 50/100\n",
      "19/19 [==============================] - 6s 298ms/step - loss: 0.4616 - conf_loss: 9.6525e-05 - loc_loss: 0.3650 - precision: 0.8709 - recall: 0.7576 - accuracy: 0.9144 - fmeasure: 0.8060 - num_pos: 100.0526 - num_neg: 229261.9474\n",
      "Epoch 51/100\n",
      "19/19 [==============================] - 6s 299ms/step - loss: 0.2706 - conf_loss: 5.9033e-05 - loc_loss: 0.2116 - precision: 0.9302 - recall: 0.8282 - accuracy: 0.9295 - fmeasure: 0.8715 - num_pos: 94.5263 - num_neg: 229267.4737\n",
      "Epoch 52/100\n",
      " 8/19 [===========>..................] - ETA: 3s - loss: 0.3940 - conf_loss: 7.5603e-05 - loc_loss: 0.3184 - precision: 0.9258 - recall: 0.7876 - accuracy: 0.9083 - fmeasure: 0.8501 - num_pos: 99.5000 - num_neg: 229262.5000 NEW epoch\n",
      "19/19 [==============================] - 6s 297ms/step - loss: 0.3732 - conf_loss: 8.3704e-05 - loc_loss: 0.2895 - precision: 0.9249 - recall: 0.8035 - accuracy: 0.8954 - fmeasure: 0.8589 - num_pos: 130.4211 - num_neg: 229231.5789\n",
      "Epoch 53/100\n",
      "19/19 [==============================] - 6s 298ms/step - loss: 0.2420 - conf_loss: 5.7798e-05 - loc_loss: 0.1842 - precision: 0.9093 - recall: 0.8226 - accuracy: 0.9274 - fmeasure: 0.8623 - num_pos: 95.9474 - num_neg: 229266.0526\n",
      "Epoch 54/100\n"
     ]
    },
    {
     "name": "stdout",
     "output_type": "stream",
     "text": [
      "19/19 [==============================] - 6s 296ms/step - loss: 0.2559 - conf_loss: 6.2750e-05 - loc_loss: 0.1932 - precision: 0.9568 - recall: 0.8405 - accuracy: 0.9244 - fmeasure: 0.8917 - num_pos: 122.4211 - num_neg: 229239.5789\n",
      "Epoch 55/100\n",
      "19/19 [==============================] - 6s 299ms/step - loss: 0.4290 - conf_loss: 9.1193e-05 - loc_loss: 0.3378 - precision: 0.9409 - recall: 0.7852 - accuracy: 0.9061 - fmeasure: 0.8449 - num_pos: 107.8421 - num_neg: 229254.1579\n",
      "Epoch 56/100\n",
      " 8/19 [===========>..................] - ETA: 3s - loss: 0.2445 - conf_loss: 9.4216e-05 - loc_loss: 0.1503 - precision: 0.9428 - recall: 0.8294 - accuracy: 0.8821 - fmeasure: 0.8814 - num_pos: 173.0000 - num_neg: 229189.0000NEW epoch\n",
      "19/19 [==============================] - 6s 297ms/step - loss: 0.2016 - conf_loss: 6.7154e-05 - loc_loss: 0.1345 - precision: 0.9337 - recall: 0.8277 - accuracy: 0.9165 - fmeasure: 0.8747 - num_pos: 119.7368 - num_neg: 229242.2632\n",
      "Epoch 57/100\n",
      "19/19 [==============================] - 6s 299ms/step - loss: 0.3924 - conf_loss: 9.6879e-05 - loc_loss: 0.2955 - precision: 0.9421 - recall: 0.7935 - accuracy: 0.9000 - fmeasure: 0.8545 - num_pos: 125.8421 - num_neg: 229236.1579\n",
      "Epoch 58/100\n",
      "19/19 [==============================] - 6s 299ms/step - loss: 0.4375 - conf_loss: 4.6142e-05 - loc_loss: 0.3914 - precision: 0.8955 - recall: 0.8286 - accuracy: 0.9430 - fmeasure: 0.8588 - num_pos: 95.6842 - num_neg: 229266.3158\n",
      "Epoch 59/100\n",
      "19/19 [==============================] - 6s 299ms/step - loss: 0.2351 - conf_loss: 5.9587e-05 - loc_loss: 0.1755 - precision: 0.9496 - recall: 0.8049 - accuracy: 0.9251 - fmeasure: 0.8698 - num_pos: 107.9474 - num_neg: 229254.0526\n",
      "Epoch 60/100\n",
      " 8/19 [===========>..................] - ETA: 3s - loss: 0.2477 - conf_loss: 5.8466e-05 - loc_loss: 0.1892 - precision: 0.9550 - recall: 0.8102 - accuracy: 0.9229 - fmeasure: 0.8712 - num_pos: 108.0000 - num_neg: 229254.0000NEW epoch\n",
      "19/19 [==============================] - 6s 298ms/step - loss: 0.2792 - conf_loss: 6.5552e-05 - loc_loss: 0.2136 - precision: 0.9332 - recall: 0.8201 - accuracy: 0.9149 - fmeasure: 0.8693 - num_pos: 117.1053 - num_neg: 229244.8947\n",
      "Epoch 61/100\n",
      "19/19 [==============================] - 6s 298ms/step - loss: 0.3993 - conf_loss: 9.2618e-05 - loc_loss: 0.3067 - precision: 0.9357 - recall: 0.8109 - accuracy: 0.9204 - fmeasure: 0.8645 - num_pos: 103.7895 - num_neg: 229258.2105\n",
      "Epoch 62/100\n",
      "19/19 [==============================] - 6s 298ms/step - loss: 0.2428 - conf_loss: 6.6856e-05 - loc_loss: 0.1760 - precision: 0.9486 - recall: 0.8322 - accuracy: 0.9109 - fmeasure: 0.8849 - num_pos: 133.6316 - num_neg: 229228.3684\n",
      "Epoch 63/100\n",
      "19/19 [==============================] - 6s 299ms/step - loss: 0.2750 - conf_loss: 6.1367e-05 - loc_loss: 0.2136 - precision: 0.9563 - recall: 0.8296 - accuracy: 0.9258 - fmeasure: 0.8844 - num_pos: 117.9474 - num_neg: 229244.0526\n",
      "Epoch 64/100\n",
      " 8/19 [===========>..................] - ETA: 3s - loss: 0.2777 - conf_loss: 4.8823e-05 - loc_loss: 0.2288 - precision: 0.9424 - recall: 0.8234 - accuracy: 0.9350 - fmeasure: 0.8768 - num_pos: 94.8750 - num_neg: 229267.1250 NEW epoch\n",
      "19/19 [==============================] - 6s 298ms/step - loss: 0.2485 - conf_loss: 4.5550e-05 - loc_loss: 0.2030 - precision: 0.9563 - recall: 0.8310 - accuracy: 0.9407 - fmeasure: 0.8871 - num_pos: 88.1579 - num_neg: 229273.8421\n",
      "Epoch 65/100\n",
      "19/19 [==============================] - 6s 298ms/step - loss: 0.1880 - conf_loss: 4.4202e-05 - loc_loss: 0.1438 - precision: 0.9576 - recall: 0.8498 - accuracy: 0.9488 - fmeasure: 0.8963 - num_pos: 96.3158 - num_neg: 229265.6842\n",
      "Epoch 66/100\n",
      "19/19 [==============================] - 6s 297ms/step - loss: 0.3704 - conf_loss: 8.0950e-05 - loc_loss: 0.2895 - precision: 0.9427 - recall: 0.8058 - accuracy: 0.9028 - fmeasure: 0.8663 - num_pos: 118.6316 - num_neg: 229243.3684\n",
      "Epoch 67/100\n",
      "19/19 [==============================] - 6s 299ms/step - loss: 0.3018 - conf_loss: 6.5998e-05 - loc_loss: 0.2358 - precision: 0.9439 - recall: 0.8367 - accuracy: 0.9184 - fmeasure: 0.8850 - num_pos: 120.1053 - num_neg: 229241.8947\n",
      "Epoch 68/100\n",
      " 8/19 [===========>..................] - ETA: 3s - loss: 0.2436 - conf_loss: 4.9829e-05 - loc_loss: 0.1938 - precision: 0.9713 - recall: 0.8602 - accuracy: 0.9333 - fmeasure: 0.9108 - num_pos: 106.8750 - num_neg: 229255.1250NEW epoch\n",
      "19/19 [==============================] - 6s 297ms/step - loss: 0.2651 - conf_loss: 5.2281e-05 - loc_loss: 0.2128 - precision: 0.9521 - recall: 0.8453 - accuracy: 0.9286 - fmeasure: 0.8945 - num_pos: 109.2632 - num_neg: 229252.7368\n",
      "Epoch 69/100\n",
      "19/19 [==============================] - 6s 297ms/step - loss: 0.3800 - conf_loss: 6.9717e-05 - loc_loss: 0.3103 - precision: 0.9587 - recall: 0.8289 - accuracy: 0.9207 - fmeasure: 0.8843 - num_pos: 124.8421 - num_neg: 229237.1579\n",
      "Epoch 70/100\n",
      "19/19 [==============================] - 6s 298ms/step - loss: 0.2441 - conf_loss: 5.7437e-05 - loc_loss: 0.1866 - precision: 0.9601 - recall: 0.8282 - accuracy: 0.9272 - fmeasure: 0.8857 - num_pos: 103.1579 - num_neg: 229258.8421\n",
      "Epoch 71/100\n",
      "19/19 [==============================] - 6s 298ms/step - loss: 0.2500 - conf_loss: 5.2379e-05 - loc_loss: 0.1977 - precision: 0.9418 - recall: 0.8577 - accuracy: 0.9398 - fmeasure: 0.8965 - num_pos: 109.7368 - num_neg: 229252.2632\n",
      "Epoch 72/100\n",
      " 8/19 [===========>..................] - ETA: 3s - loss: 0.2425 - conf_loss: 5.8085e-05 - loc_loss: 0.1844 - precision: 0.9665 - recall: 0.8145 - accuracy: 0.9221 - fmeasure: 0.8815 - num_pos: 103.8750 - num_neg: 229258.1250NEW epoch\n",
      "19/19 [==============================] - 6s 301ms/step - loss: 0.2279 - conf_loss: 5.4722e-05 - loc_loss: 0.1732 - precision: 0.9626 - recall: 0.8191 - accuracy: 0.9272 - fmeasure: 0.8826 - num_pos: 107.1053 - num_neg: 229254.8947\n",
      "Epoch 73/100\n",
      "19/19 [==============================] - 6s 298ms/step - loss: 0.2322 - conf_loss: 5.6416e-05 - loc_loss: 0.1758 - precision: 0.9568 - recall: 0.8183 - accuracy: 0.9226 - fmeasure: 0.8797 - num_pos: 113.2105 - num_neg: 229248.7895\n",
      "Epoch 74/100\n",
      "19/19 [==============================] - 6s 296ms/step - loss: 0.1891 - conf_loss: 5.4829e-05 - loc_loss: 0.1343 - precision: 0.9545 - recall: 0.8513 - accuracy: 0.9305 - fmeasure: 0.8992 - num_pos: 116.8947 - num_neg: 229245.1053\n",
      "Epoch 75/100\n",
      "19/19 [==============================] - 6s 297ms/step - loss: 0.2186 - conf_loss: 6.8646e-05 - loc_loss: 0.1499 - precision: 0.9523 - recall: 0.8460 - accuracy: 0.9165 - fmeasure: 0.8938 - num_pos: 122.1579 - num_neg: 229239.8421\n",
      "Epoch 76/100\n",
      " 8/19 [===========>..................] - ETA: 3s - loss: 0.7534 - conf_loss: 4.9902e-05 - loc_loss: 0.7035 - precision: 0.9354 - recall: 0.8236 - accuracy: 0.9383 - fmeasure: 0.8655 - num_pos: 97.6250 - num_neg: 229264.3750 NEW epoch\n",
      "19/19 [==============================] - 6s 298ms/step - loss: 0.5491 - conf_loss: 5.2020e-05 - loc_loss: 0.4971 - precision: 0.9284 - recall: 0.8401 - accuracy: 0.9374 - fmeasure: 0.8769 - num_pos: 94.7895 - num_neg: 229267.2105\n",
      "Epoch 77/100\n",
      "19/19 [==============================] - 6s 299ms/step - loss: 0.2516 - conf_loss: 5.4370e-05 - loc_loss: 0.1972 - precision: 0.9674 - recall: 0.8550 - accuracy: 0.9314 - fmeasure: 0.9069 - num_pos: 124.8421 - num_neg: 229237.1579\n",
      "Epoch 78/100\n",
      "19/19 [==============================] - 6s 300ms/step - loss: 0.2583 - conf_loss: 5.1951e-05 - loc_loss: 0.2063 - precision: 0.9559 - recall: 0.8304 - accuracy: 0.9314 - fmeasure: 0.8862 - num_pos: 105.0526 - num_neg: 229256.9474\n",
      "Epoch 79/100\n",
      "19/19 [==============================] - 6s 297ms/step - loss: 0.2286 - conf_loss: 5.6615e-05 - loc_loss: 0.1720 - precision: 0.9448 - recall: 0.8335 - accuracy: 0.9233 - fmeasure: 0.8832 - num_pos: 114.8947 - num_neg: 229247.1053\n",
      "Epoch 80/100\n",
      " 8/19 [===========>..................] - ETA: 3s - loss: 0.4096 - conf_loss: 9.7109e-05 - loc_loss: 0.3124 - precision: 0.9276 - recall: 0.7744 - accuracy: 0.8921 - fmeasure: 0.8300 - num_pos: 119.8750 - num_neg: 229242.1250NEW epoch\n"
     ]
    },
    {
     "name": "stdout",
     "output_type": "stream",
     "text": [
      "19/19 [==============================] - 6s 298ms/step - loss: 0.3415 - conf_loss: 6.2261e-05 - loc_loss: 0.2792 - precision: 0.9457 - recall: 0.8305 - accuracy: 0.9279 - fmeasure: 0.8767 - num_pos: 99.8947 - num_neg: 229262.1053\n",
      "Epoch 81/100\n",
      "19/19 [==============================] - 6s 299ms/step - loss: 0.2237 - conf_loss: 4.9923e-05 - loc_loss: 0.1738 - precision: 0.9552 - recall: 0.8524 - accuracy: 0.9339 - fmeasure: 0.8993 - num_pos: 115.0526 - num_neg: 229246.9474\n",
      "Epoch 82/100\n",
      "19/19 [==============================] - 6s 297ms/step - loss: 0.2161 - conf_loss: 5.5061e-05 - loc_loss: 0.1611 - precision: 0.9379 - recall: 0.8504 - accuracy: 0.9281 - fmeasure: 0.8905 - num_pos: 115.4737 - num_neg: 229246.5263\n",
      "Epoch 83/100\n",
      "19/19 [==============================] - 6s 299ms/step - loss: 0.2285 - conf_loss: 6.8430e-05 - loc_loss: 0.1601 - precision: 0.9581 - recall: 0.8337 - accuracy: 0.9175 - fmeasure: 0.8877 - num_pos: 115.8421 - num_neg: 229246.1579\n",
      "Epoch 84/100\n",
      " 8/19 [===========>..................] - ETA: 3s - loss: 0.1693 - conf_loss: 5.6662e-05 - loc_loss: 0.1127 - precision: 0.9567 - recall: 0.8726 - accuracy: 0.9254 - fmeasure: 0.9116 - num_pos: 125.7500 - num_neg: 229236.2500NEW epoch\n",
      "19/19 [==============================] - 6s 300ms/step - loss: 0.1646 - conf_loss: 5.0109e-05 - loc_loss: 0.1145 - precision: 0.9480 - recall: 0.8264 - accuracy: 0.9332 - fmeasure: 0.8808 - num_pos: 94.6316 - num_neg: 229267.3684\n",
      "Epoch 85/100\n",
      "19/19 [==============================] - 6s 299ms/step - loss: 0.1590 - conf_loss: 4.6405e-05 - loc_loss: 0.1126 - precision: 0.9527 - recall: 0.8639 - accuracy: 0.9409 - fmeasure: 0.9021 - num_pos: 109.1053 - num_neg: 229252.8947\n",
      "Epoch 86/100\n",
      "19/19 [==============================] - 6s 298ms/step - loss: 0.2624 - conf_loss: 6.3395e-05 - loc_loss: 0.1990 - precision: 0.9428 - recall: 0.8420 - accuracy: 0.9211 - fmeasure: 0.8860 - num_pos: 111.9474 - num_neg: 229250.0526\n",
      "Epoch 87/100\n",
      "19/19 [==============================] - 6s 300ms/step - loss: 0.1593 - conf_loss: 4.2381e-05 - loc_loss: 0.1170 - precision: 0.9516 - recall: 0.8345 - accuracy: 0.9384 - fmeasure: 0.8867 - num_pos: 102.1579 - num_neg: 229259.8421\n",
      "Epoch 88/100\n",
      " 8/19 [===========>..................] - ETA: 3s - loss: 0.1886 - conf_loss: 6.5294e-05 - loc_loss: 0.1233 - precision: 0.9663 - recall: 0.8379 - accuracy: 0.9267 - fmeasure: 0.8929 - num_pos: 143.6250 - num_neg: 229218.3750NEW epoch\n",
      "19/19 [==============================] - 6s 298ms/step - loss: 0.2014 - conf_loss: 5.7005e-05 - loc_loss: 0.1444 - precision: 0.9607 - recall: 0.8483 - accuracy: 0.9333 - fmeasure: 0.8982 - num_pos: 122.5789 - num_neg: 229239.4211\n",
      "Epoch 89/100\n",
      "19/19 [==============================] - 6s 297ms/step - loss: 0.1308 - conf_loss: 3.2913e-05 - loc_loss: 0.0979 - precision: 0.9181 - recall: 0.8276 - accuracy: 0.9560 - fmeasure: 0.8692 - num_pos: 86.3684 - num_neg: 229275.6316\n",
      "Epoch 90/100\n",
      "19/19 [==============================] - 6s 298ms/step - loss: 0.1650 - conf_loss: 4.2737e-05 - loc_loss: 0.1222 - precision: 0.9497 - recall: 0.8324 - accuracy: 0.9428 - fmeasure: 0.8847 - num_pos: 85.0526 - num_neg: 229276.9474\n",
      "Epoch 91/100\n",
      "19/19 [==============================] - 6s 300ms/step - loss: 0.2521 - conf_loss: 6.2018e-05 - loc_loss: 0.1901 - precision: 0.9734 - recall: 0.8346 - accuracy: 0.9263 - fmeasure: 0.8955 - num_pos: 126.3158 - num_neg: 229235.6842\n",
      "Epoch 92/100\n",
      " 8/19 [===========>..................] - ETA: 3s - loss: 0.1560 - conf_loss: 6.5675e-05 - loc_loss: 0.0903 - precision: 0.9593 - recall: 0.8739 - accuracy: 0.9154 - fmeasure: 0.9138 - num_pos: 149.5000 - num_neg: 229212.5000NEW epoch\n",
      "19/19 [==============================] - 6s 299ms/step - loss: 0.1623 - conf_loss: 6.6121e-05 - loc_loss: 0.0962 - precision: 0.9526 - recall: 0.8687 - accuracy: 0.9128 - fmeasure: 0.9079 - num_pos: 149.3158 - num_neg: 229212.6842\n",
      "Epoch 93/100\n",
      "19/19 [==============================] - 6s 298ms/step - loss: 0.1793 - conf_loss: 6.2868e-05 - loc_loss: 0.1165 - precision: 0.9005 - recall: 0.8075 - accuracy: 0.9174 - fmeasure: 0.8496 - num_pos: 136.5263 - num_neg: 229225.4737\n",
      "Epoch 94/100\n",
      "19/19 [==============================] - 6s 297ms/step - loss: 0.1448 - conf_loss: 4.4694e-05 - loc_loss: 0.1001 - precision: 0.9791 - recall: 0.8723 - accuracy: 0.9447 - fmeasure: 0.9221 - num_pos: 113.8947 - num_neg: 229248.1053\n",
      "Epoch 95/100\n",
      "19/19 [==============================] - 6s 299ms/step - loss: 0.1979 - conf_loss: 4.6040e-05 - loc_loss: 0.1518 - precision: 0.9530 - recall: 0.7912 - accuracy: 0.9330 - fmeasure: 0.8543 - num_pos: 104.9474 - num_neg: 229257.0526\n",
      "Epoch 96/100\n",
      " 8/19 [===========>..................] - ETA: 3s - loss: 0.1624 - conf_loss: 2.9825e-05 - loc_loss: 0.1326 - precision: 0.9579 - recall: 0.9014 - accuracy: 0.9638 - fmeasure: 0.9283 - num_pos: 76.1250 - num_neg: 229285.8750NEW epoch\n",
      "19/19 [==============================] - 6s 297ms/step - loss: 0.1600 - conf_loss: 4.2555e-05 - loc_loss: 0.1174 - precision: 0.9587 - recall: 0.8565 - accuracy: 0.9446 - fmeasure: 0.9015 - num_pos: 91.3684 - num_neg: 229270.6316\n",
      "Epoch 97/100\n",
      "19/19 [==============================] - 6s 299ms/step - loss: 0.1421 - conf_loss: 4.5534e-05 - loc_loss: 0.0966 - precision: 0.9173 - recall: 0.8076 - accuracy: 0.9381 - fmeasure: 0.8576 - num_pos: 111.4211 - num_neg: 229250.5789\n",
      "Epoch 98/100\n",
      "19/19 [==============================] - 6s 299ms/step - loss: 0.2170 - conf_loss: 5.5742e-05 - loc_loss: 0.1613 - precision: 0.9400 - recall: 0.8397 - accuracy: 0.9218 - fmeasure: 0.8787 - num_pos: 123.0526 - num_neg: 229238.9474\n",
      "Epoch 99/100\n",
      "19/19 [==============================] - 6s 299ms/step - loss: 0.1712 - conf_loss: 4.3658e-05 - loc_loss: 0.1275 - precision: 0.9617 - recall: 0.8654 - accuracy: 0.9430 - fmeasure: 0.9100 - num_pos: 101.7368 - num_neg: 229260.2632\n",
      "Epoch 100/100\n",
      " 8/19 [===========>..................] - ETA: 3s - loss: 0.1131 - conf_loss: 3.8622e-05 - loc_loss: 0.0744 - precision: 0.9561 - recall: 0.9150 - accuracy: 0.9558 - fmeasure: 0.9343 - num_pos: 104.8750 - num_neg: 229257.1250NEW epoch\n",
      "19/19 [==============================] - 6s 301ms/step - loss: 0.1530 - conf_loss: 4.3091e-05 - loc_loss: 0.1099 - precision: 0.9716 - recall: 0.8564 - accuracy: 0.9423 - fmeasure: 0.9078 - num_pos: 104.3684 - num_neg: 229257.6316\n"
     ]
    }
   ],
   "source": [
    "epochs = 100\n",
    "initial_epoch = 0\n",
    "batch_size = 3\n",
    "\n",
    "gen_train = InputGenerator(gt_util_train, prior_util, batch_size, model.image_size)\n",
    "# gen_val = InputGenerator(gt_util_val, prior_util, batch_size, model.image_size)\n",
    "\n",
    "for layer in model.layers:\n",
    "    layer.trainable = not layer.name in freeze\n",
    "\n",
    "checkdir = './checkpoints/' + time.strftime('%Y%m%d%H%M') + '_' + experiment\n",
    "if not os.path.exists(checkdir):\n",
    "    os.makedirs(checkdir)\n",
    "\n",
    "with open(checkdir+'/source.py','wb') as f:\n",
    "    source = ''.join(['# In[%i]\\n%s\\n\\n' % (i, In[i]) for i in range(len(In))])\n",
    "    f.write(source.encode())\n",
    "\n",
    "#optim = keras.optimizers.SGD(lr=1e-3, momentum=0.9, decay=0, nesterov=True)\n",
    "optim = keras.optimizers.Adam(lr=1e-3, beta_1=0.9, beta_2=0.999, epsilon=0.001, decay=0.0)\n",
    "\n",
    "# weight decay\n",
    "regularizer = keras.regularizers.l2(5e-4) # None if disabled\n",
    "regularizer = None\n",
    "for l in model.layers:\n",
    "    if l.__class__.__name__.startswith('Conv'):\n",
    "        l.kernel_regularizer = regularizer\n",
    "\n",
    "loss = TBPPFocalLoss()\n",
    "\n",
    "model.compile(optimizer=optim, loss=loss.compute, metrics=loss.metrics)\n",
    "\n",
    "history = model.fit_generator(\n",
    "        gen_train.generate(),\n",
    "        steps_per_epoch=int(gen_train.num_batches/4), \n",
    "        epochs=epochs, \n",
    "#         verbose=1, \n",
    "#         callbacks=[\n",
    "#             keras.callbacks.ModelCheckpoint(checkdir+'/weights.{epoch:03d}.h5', verbose=1, save_weights_only=True),\n",
    "# #             Logger(checkdir),\n",
    "#             #LearningRateDecay()\n",
    "#         ], \n",
    "# #         validation_data=gen_val.generate(), \n",
    "# #         validation_steps=gen_val.num_batches, \n",
    "#         class_weight=None,\n",
    "#         max_queue_size=1, \n",
    "#         workers=1, \n",
    "#         #use_multiprocessing=False, \n",
    "#         initial_epoch=initial_epoch, \n",
    "#         #pickle_safe=False, # will use threading instead of multiprocessing, which is lighter on memory use but slower\n",
    "        )"
   ]
  },
  {
   "cell_type": "markdown",
   "metadata": {},
   "source": [
    "from utils.model import calc_memory_usage, count_parameters\n",
    "count_parameters(model)\n",
    "calc_memory_usage(model)"
   ]
  },
  {
   "cell_type": "code",
   "execution_count": null,
   "metadata": {},
   "outputs": [],
   "source": []
  },
  {
   "cell_type": "code",
   "execution_count": null,
   "metadata": {},
   "outputs": [],
   "source": [
    "# frequency of class instance in local ground truth, used for weightning the focal loss\n",
    "s = np.zeros(gt_util.num_classes)\n",
    "for i in range(1000):#range(gt_util.num_samples):\n",
    "    egt = prior_util.encode(gt_util.data[i])\n",
    "    s += np.sum(egt[:,-gt_util.num_classes:], axis=0)\n",
    "sn = np.asarray(np.sum(s))/s\n",
    "print(np.array(sn, dtype=np.int32))\n",
    "print(sn/np.sum(sn))"
   ]
  },
  {
   "cell_type": "code",
   "execution_count": null,
   "metadata": {},
   "outputs": [],
   "source": []
  },
  {
   "cell_type": "code",
   "execution_count": null,
   "metadata": {},
   "outputs": [],
   "source": []
  }
 ],
 "metadata": {
  "kernelspec": {
   "display_name": "Python 2",
   "language": "python",
   "name": "python2"
  },
  "language_info": {
   "codemirror_mode": {
    "name": "ipython",
    "version": 2
   },
   "file_extension": ".py",
   "mimetype": "text/x-python",
   "name": "python",
   "nbconvert_exporter": "python",
   "pygments_lexer": "ipython2",
   "version": "2.7.15"
  }
 },
 "nbformat": 4,
 "nbformat_minor": 2
}
