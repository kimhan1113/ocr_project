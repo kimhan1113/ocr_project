{
 "cells": [
  {
   "cell_type": "code",
   "execution_count": 1,
   "metadata": {},
   "outputs": [
    {
     "name": "stderr",
     "output_type": "stream",
     "text": [
      "c:\\users\\jsson\\anaconda3\\envs\\ai_library\\lib\\site-packages\\tensorflow\\python\\framework\\dtypes.py:516: FutureWarning: Passing (type, 1) or '1type' as a synonym of type is deprecated; in a future version of numpy, it will be understood as (type, (1,)) / '(1,)type'.\n",
      "  _np_qint8 = np.dtype([(\"qint8\", np.int8, 1)])\n",
      "c:\\users\\jsson\\anaconda3\\envs\\ai_library\\lib\\site-packages\\tensorflow\\python\\framework\\dtypes.py:517: FutureWarning: Passing (type, 1) or '1type' as a synonym of type is deprecated; in a future version of numpy, it will be understood as (type, (1,)) / '(1,)type'.\n",
      "  _np_quint8 = np.dtype([(\"quint8\", np.uint8, 1)])\n",
      "c:\\users\\jsson\\anaconda3\\envs\\ai_library\\lib\\site-packages\\tensorflow\\python\\framework\\dtypes.py:518: FutureWarning: Passing (type, 1) or '1type' as a synonym of type is deprecated; in a future version of numpy, it will be understood as (type, (1,)) / '(1,)type'.\n",
      "  _np_qint16 = np.dtype([(\"qint16\", np.int16, 1)])\n",
      "c:\\users\\jsson\\anaconda3\\envs\\ai_library\\lib\\site-packages\\tensorflow\\python\\framework\\dtypes.py:519: FutureWarning: Passing (type, 1) or '1type' as a synonym of type is deprecated; in a future version of numpy, it will be understood as (type, (1,)) / '(1,)type'.\n",
      "  _np_quint16 = np.dtype([(\"quint16\", np.uint16, 1)])\n",
      "c:\\users\\jsson\\anaconda3\\envs\\ai_library\\lib\\site-packages\\tensorflow\\python\\framework\\dtypes.py:520: FutureWarning: Passing (type, 1) or '1type' as a synonym of type is deprecated; in a future version of numpy, it will be understood as (type, (1,)) / '(1,)type'.\n",
      "  _np_qint32 = np.dtype([(\"qint32\", np.int32, 1)])\n",
      "c:\\users\\jsson\\anaconda3\\envs\\ai_library\\lib\\site-packages\\tensorflow\\python\\framework\\dtypes.py:525: FutureWarning: Passing (type, 1) or '1type' as a synonym of type is deprecated; in a future version of numpy, it will be understood as (type, (1,)) / '(1,)type'.\n",
      "  np_resource = np.dtype([(\"resource\", np.ubyte, 1)])\n",
      "c:\\users\\jsson\\anaconda3\\envs\\ai_library\\lib\\site-packages\\tensorboard\\compat\\tensorflow_stub\\dtypes.py:541: FutureWarning: Passing (type, 1) or '1type' as a synonym of type is deprecated; in a future version of numpy, it will be understood as (type, (1,)) / '(1,)type'.\n",
      "  _np_qint8 = np.dtype([(\"qint8\", np.int8, 1)])\n",
      "c:\\users\\jsson\\anaconda3\\envs\\ai_library\\lib\\site-packages\\tensorboard\\compat\\tensorflow_stub\\dtypes.py:542: FutureWarning: Passing (type, 1) or '1type' as a synonym of type is deprecated; in a future version of numpy, it will be understood as (type, (1,)) / '(1,)type'.\n",
      "  _np_quint8 = np.dtype([(\"quint8\", np.uint8, 1)])\n",
      "c:\\users\\jsson\\anaconda3\\envs\\ai_library\\lib\\site-packages\\tensorboard\\compat\\tensorflow_stub\\dtypes.py:543: FutureWarning: Passing (type, 1) or '1type' as a synonym of type is deprecated; in a future version of numpy, it will be understood as (type, (1,)) / '(1,)type'.\n",
      "  _np_qint16 = np.dtype([(\"qint16\", np.int16, 1)])\n",
      "c:\\users\\jsson\\anaconda3\\envs\\ai_library\\lib\\site-packages\\tensorboard\\compat\\tensorflow_stub\\dtypes.py:544: FutureWarning: Passing (type, 1) or '1type' as a synonym of type is deprecated; in a future version of numpy, it will be understood as (type, (1,)) / '(1,)type'.\n",
      "  _np_quint16 = np.dtype([(\"quint16\", np.uint16, 1)])\n",
      "c:\\users\\jsson\\anaconda3\\envs\\ai_library\\lib\\site-packages\\tensorboard\\compat\\tensorflow_stub\\dtypes.py:545: FutureWarning: Passing (type, 1) or '1type' as a synonym of type is deprecated; in a future version of numpy, it will be understood as (type, (1,)) / '(1,)type'.\n",
      "  _np_qint32 = np.dtype([(\"qint32\", np.int32, 1)])\n",
      "c:\\users\\jsson\\anaconda3\\envs\\ai_library\\lib\\site-packages\\tensorboard\\compat\\tensorflow_stub\\dtypes.py:550: FutureWarning: Passing (type, 1) or '1type' as a synonym of type is deprecated; in a future version of numpy, it will be understood as (type, (1,)) / '(1,)type'.\n",
      "  np_resource = np.dtype([(\"resource\", np.ubyte, 1)])\n",
      "Using TensorFlow backend.\n"
     ]
    }
   ],
   "source": [
    "import numpy as np\n",
    "import tensorflow as tf\n",
    "import matplotlib.pyplot as plt\n",
    "import os\n",
    "import editdistance\n",
    "import pickle\n",
    "import time\n",
    "import keras\n",
    "import argparse\n",
    "import glob\n",
    "#import fastss\n",
    "import shutil\n",
    "import sys\n",
    "import time\n",
    "import cv2\n",
    "from keras.optimizers import SGD, Adam\n",
    "from keras.callbacks import ModelCheckpoint"
   ]
  },
  {
   "cell_type": "code",
   "execution_count": 2,
   "metadata": {},
   "outputs": [],
   "source": [
    "from crnn_model import CRNN\n",
    "from crnn_data import InputGenerator\n",
    "from crnn_utils import decode\n",
    "from utils.training import Logger, ModelSnapshot\n",
    "from crnn_utils import alphabet87 as alphabet"
   ]
  },
  {
   "cell_type": "code",
   "execution_count": 3,
   "metadata": {},
   "outputs": [],
   "source": [
    "interchangeble_pairs = [\n",
    "                        # similar looks\n",
    "                        ['I','l','1','i'],\n",
    "                        ['B','8'],\n",
    "                        ['o','0','O','D'],\n",
    "                        ['B','8'],\n",
    "                        ['G','6'],\n",
    "                        ['U','V'],\n",
    "\n",
    "                        # similar lower&upper cases\n",
    "                        ['Y','y'],\n",
    "                        ['V','v'] ,\n",
    "                        ['X','x'],\n",
    "                        ['Z','z','2'] ,\n",
    "                        ['c','C'],\n",
    "                        ['M','m'],\n",
    "                        ['S','s'],\n",
    "                        ['C','c'],\n",
    "                        ['J','j'],\n",
    "\n",
    "                        # this is added to filter out corner case \n",
    "                        ['a','o'],\n",
    "                       ]\n",
    "\n",
    "eps = 10**(-14)"
   ]
  },
  {
   "cell_type": "code",
   "execution_count": 4,
   "metadata": {},
   "outputs": [],
   "source": [
    "def postprocess(gt,res):\n",
    "    res_list = list(res)\n",
    "    for i,char in enumerate(res) : \n",
    "        gt_char = gt[i]\n",
    "        if char != gt_char : \n",
    "            for pair in interchangeble_pairs : \n",
    "                if char in pair and gt_char in pair:\n",
    "                    res_list[i] = gt_char\n",
    "                \n",
    "    res = ''.join(res_list)\n",
    "    return res"
   ]
  },
  {
   "cell_type": "code",
   "execution_count": 5,
   "metadata": {},
   "outputs": [
    {
     "name": "stdout",
     "output_type": "stream",
     "text": [
      "Background              0\n",
      "Text                   23\n",
      "\n",
      "images                 20\n",
      "objects                23\n",
      "per image            1.15\n",
      "no annotation           0\n",
      "\n"
     ]
    }
   ],
   "source": [
    "from data_ky import GTUtility\n",
    "\n",
    "gt_util = GTUtility('data/ky_test/', phase='test')\n",
    "print(gt_util)"
   ]
  },
  {
   "cell_type": "code",
   "execution_count": 6,
   "metadata": {},
   "outputs": [
    {
     "name": "stdout",
     "output_type": "stream",
     "text": [
      "WARNING:tensorflow:From c:\\users\\jsson\\anaconda3\\envs\\ai_library\\lib\\site-packages\\keras\\backend\\tensorflow_backend.py:4070: The name tf.nn.max_pool is deprecated. Please use tf.nn.max_pool2d instead.\n",
      "\n",
      "WARNING:tensorflow:From c:\\users\\jsson\\anaconda3\\envs\\ai_library\\lib\\site-packages\\tensorflow\\python\\ops\\array_ops.py:1354: add_dispatch_support.<locals>.wrapper (from tensorflow.python.ops.array_ops) is deprecated and will be removed in a future version.\n",
      "Instructions for updating:\n",
      "Use tf.where in 2.0, which has the same broadcast rule as np.where\n"
     ]
    }
   ],
   "source": [
    "sess = tf.Session()\n",
    "\n",
    "input_width = 256\n",
    "#input_width = 1024\n",
    "input_height = 32\n",
    "batch_size = 128\n",
    "\n",
    "input_shape = (input_width, input_height, 1)\n",
    "\n",
    "model, model_pred = CRNN(input_shape, len(alphabet))\n",
    "sess.run(tf.initializers.global_variables())\n",
    "max_string_len = model_pred.output_shape[1]\n"
   ]
  },
  {
   "cell_type": "code",
   "execution_count": 8,
   "metadata": {},
   "outputs": [],
   "source": [
    "gen_val = InputGenerator(gt_util, batch_size, alphabet, input_shape[:2], \n",
    "                        grayscale=True, max_string_len=max_string_len)\n",
    "model.load_weights('./checkpoints/202006231539_crnn_lstm_ky/weights.020.h5')"
   ]
  },
  {
   "cell_type": "code",
   "execution_count": 9,
   "metadata": {},
   "outputs": [],
   "source": [
    "g = gen_val.generate()\n",
    "n = gt_util.num_boxes\n",
    "#n = batch_size\n",
    "\n",
    "mean_ed = 0\n",
    "mean_ed_norm = 0\n",
    "mean_character_recogniton_rate = 0\n",
    "sum_ed = 0\n",
    "char_count = 0\n",
    "correct_word_count = 0 \n",
    "correct_word_count_post = 0 \n",
    "\n",
    "word_recognition_rate = 0\n",
    "\n",
    "mean_character_recogniton_rate = 0\n",
    "sum_ed = 0\n",
    "char_count = 0"
   ]
  },
  {
   "cell_type": "code",
   "execution_count": null,
   "metadata": {},
   "outputs": [],
   "source": []
  },
  {
   "cell_type": "code",
   "execution_count": 16,
   "metadata": {},
   "outputs": [
    {
     "name": "stdout",
     "output_type": "stream",
     "text": [
      "NEW epoch\n",
      "NEW epoch\n",
      "NEW epoch\n",
      "NEW epoch\n",
      "NEW epoch\n",
      "gt : 155 pred :  155  ed =  1.000000\n"
     ]
    },
    {
     "data": {
      "image/png": "[encoded data removed]",
      "text/plain": [
       "<Figure size 432x288 with 1 Axes>"
      ]
     },
     "metadata": {
      "needs_background": "light"
     },
     "output_type": "display_data"
    }
   ],
   "source": [
    "j = 0\n",
    "while j < n:\n",
    "    d = next(g)\n",
    "    image = d[0]['image_input']    \n",
    "    res = model_pred.predict(image)\n",
    "\n",
    "    for i in range(len(res)):\n",
    "        if not j < n: \n",
    "            break\n",
    "        j += 1\n",
    "\n",
    "        # best path, real ocr applications use beam search with dictionary and language model\n",
    "        try:\n",
    "            chars = [alphabet[c] for c in np.argmax(res[i], axis=1)]\n",
    "            gt_str = d[0]['source_str'][i]\n",
    "            res_str = decode(chars)\n",
    "        except:\n",
    "            continue\n",
    "        #print(res_str)\n",
    "        #if gt_str != res_str :\n",
    "        #    print res_str,gt_str\n",
    "\n",
    "        ed = editdistance.eval(gt_str, res_str)\n",
    "        #ed = levenshtein(gt_str, res_str)\n",
    "        ed_norm = ed / len(gt_str)\n",
    "        mean_ed += ed\n",
    "        mean_ed_norm += ed_norm\n",
    "\n",
    "\n",
    "        sum_ed += ed\n",
    "        char_count += len(gt_str)\n",
    "        if ed == 0.: \n",
    "            correct_word_count += 1\n",
    "            correct_word_count_post +=1 \n",
    "\n",
    "        if ed != 0 : \n",
    "            try : \n",
    "                res = postprocess(gt_str,res_str)\n",
    "                ed = editdistance.eval(gt_str,res)\n",
    "            except : \n",
    "                res = res_str\n",
    "                ed = ed\n",
    "            if ed == 0 :\n",
    "                correct_word_count_post += 1\n",
    "            else : \n",
    "                print('gt : %s pred : %s  ed =  %f' %(gt_str, res_str,ed))       \n",
    "            cv2.imwrite(os.path.join('weight_log',res_str+'.png'),d[0]['image_input'][i][::-1])\n",
    "            image_to_show = np.squeeze(np.rot90(d[0]['image_input'][i][::-1],k=3))\n",
    "            if ed != 0 : \n",
    "                plt.imshow(image_to_show)\n",
    "                plt.show()"
   ]
  },
  {
   "cell_type": "code",
   "execution_count": null,
   "metadata": {},
   "outputs": [],
   "source": [
    "mean_ed /= (j+eps)\n",
    "mean_ed_norm /= (j+eps)\n",
    "char_rate= (char_count-sum_ed) / (char_count+eps)\n",
    "word_rate= correct_word_count / (j+eps)\n",
    "word_rate_post = correct_word_count_post / (j)"
   ]
  },
  {
   "cell_type": "code",
   "execution_count": null,
   "metadata": {},
   "outputs": [],
   "source": [
    " print('%13s:%0.3f,%0.3f,%0.3f,%0.3f%0.3f\\n' % (os.path.basename(weight),mean_ed,mean_ed_norm,char_rate,word_rate,word_rate_post))"
   ]
  }
 ],
 "metadata": {
  "kernelspec": {
   "display_name": "Python 3",
   "language": "python",
   "name": "python3"
  },
  "language_info": {
   "codemirror_mode": {
    "name": "ipython",
    "version": 3
   },
   "file_extension": ".py",
   "mimetype": "text/x-python",
   "name": "python",
   "nbconvert_exporter": "python",
   "pygments_lexer": "ipython3",
   "version": "3.6.10"
  }
 },
 "nbformat": 4,
 "nbformat_minor": 4
}
