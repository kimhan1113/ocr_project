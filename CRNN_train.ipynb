{
 "cells": [
  {
   "cell_type": "code",
   "execution_count": 1,
   "metadata": {},
   "outputs": [
    {
     "name": "stderr",
     "output_type": "stream",
     "text": [
      "Using TensorFlow backend.\n",
      "c:\\users\\jsson\\anaconda3\\envs\\ai_library\\lib\\site-packages\\tensorflow\\python\\framework\\dtypes.py:516: FutureWarning: Passing (type, 1) or '1type' as a synonym of type is deprecated; in a future version of numpy, it will be understood as (type, (1,)) / '(1,)type'.\n",
      "  _np_qint8 = np.dtype([(\"qint8\", np.int8, 1)])\n",
      "c:\\users\\jsson\\anaconda3\\envs\\ai_library\\lib\\site-packages\\tensorflow\\python\\framework\\dtypes.py:517: FutureWarning: Passing (type, 1) or '1type' as a synonym of type is deprecated; in a future version of numpy, it will be understood as (type, (1,)) / '(1,)type'.\n",
      "  _np_quint8 = np.dtype([(\"quint8\", np.uint8, 1)])\n",
      "c:\\users\\jsson\\anaconda3\\envs\\ai_library\\lib\\site-packages\\tensorflow\\python\\framework\\dtypes.py:518: FutureWarning: Passing (type, 1) or '1type' as a synonym of type is deprecated; in a future version of numpy, it will be understood as (type, (1,)) / '(1,)type'.\n",
      "  _np_qint16 = np.dtype([(\"qint16\", np.int16, 1)])\n",
      "c:\\users\\jsson\\anaconda3\\envs\\ai_library\\lib\\site-packages\\tensorflow\\python\\framework\\dtypes.py:519: FutureWarning: Passing (type, 1) or '1type' as a synonym of type is deprecated; in a future version of numpy, it will be understood as (type, (1,)) / '(1,)type'.\n",
      "  _np_quint16 = np.dtype([(\"quint16\", np.uint16, 1)])\n",
      "c:\\users\\jsson\\anaconda3\\envs\\ai_library\\lib\\site-packages\\tensorflow\\python\\framework\\dtypes.py:520: FutureWarning: Passing (type, 1) or '1type' as a synonym of type is deprecated; in a future version of numpy, it will be understood as (type, (1,)) / '(1,)type'.\n",
      "  _np_qint32 = np.dtype([(\"qint32\", np.int32, 1)])\n",
      "c:\\users\\jsson\\anaconda3\\envs\\ai_library\\lib\\site-packages\\tensorflow\\python\\framework\\dtypes.py:525: FutureWarning: Passing (type, 1) or '1type' as a synonym of type is deprecated; in a future version of numpy, it will be understood as (type, (1,)) / '(1,)type'.\n",
      "  np_resource = np.dtype([(\"resource\", np.ubyte, 1)])\n",
      "c:\\users\\jsson\\anaconda3\\envs\\ai_library\\lib\\site-packages\\tensorboard\\compat\\tensorflow_stub\\dtypes.py:541: FutureWarning: Passing (type, 1) or '1type' as a synonym of type is deprecated; in a future version of numpy, it will be understood as (type, (1,)) / '(1,)type'.\n",
      "  _np_qint8 = np.dtype([(\"qint8\", np.int8, 1)])\n",
      "c:\\users\\jsson\\anaconda3\\envs\\ai_library\\lib\\site-packages\\tensorboard\\compat\\tensorflow_stub\\dtypes.py:542: FutureWarning: Passing (type, 1) or '1type' as a synonym of type is deprecated; in a future version of numpy, it will be understood as (type, (1,)) / '(1,)type'.\n",
      "  _np_quint8 = np.dtype([(\"quint8\", np.uint8, 1)])\n",
      "c:\\users\\jsson\\anaconda3\\envs\\ai_library\\lib\\site-packages\\tensorboard\\compat\\tensorflow_stub\\dtypes.py:543: FutureWarning: Passing (type, 1) or '1type' as a synonym of type is deprecated; in a future version of numpy, it will be understood as (type, (1,)) / '(1,)type'.\n",
      "  _np_qint16 = np.dtype([(\"qint16\", np.int16, 1)])\n",
      "c:\\users\\jsson\\anaconda3\\envs\\ai_library\\lib\\site-packages\\tensorboard\\compat\\tensorflow_stub\\dtypes.py:544: FutureWarning: Passing (type, 1) or '1type' as a synonym of type is deprecated; in a future version of numpy, it will be understood as (type, (1,)) / '(1,)type'.\n",
      "  _np_quint16 = np.dtype([(\"quint16\", np.uint16, 1)])\n",
      "c:\\users\\jsson\\anaconda3\\envs\\ai_library\\lib\\site-packages\\tensorboard\\compat\\tensorflow_stub\\dtypes.py:545: FutureWarning: Passing (type, 1) or '1type' as a synonym of type is deprecated; in a future version of numpy, it will be understood as (type, (1,)) / '(1,)type'.\n",
      "  _np_qint32 = np.dtype([(\"qint32\", np.int32, 1)])\n",
      "c:\\users\\jsson\\anaconda3\\envs\\ai_library\\lib\\site-packages\\tensorboard\\compat\\tensorflow_stub\\dtypes.py:550: FutureWarning: Passing (type, 1) or '1type' as a synonym of type is deprecated; in a future version of numpy, it will be understood as (type, (1,)) / '(1,)type'.\n",
      "  np_resource = np.dtype([(\"resource\", np.ubyte, 1)])\n"
     ]
    }
   ],
   "source": [
    "import numpy as np\n",
    "import matplotlib.pyplot as plt\n",
    "import os\n",
    "import editdistance\n",
    "import pickle\n",
    "import time\n",
    "\n",
    "os.environ[\"CUDA_VISIBLE_DEVICES\"] = '0'\n",
    "\n",
    "from keras.optimizers import SGD, Adam\n",
    "from keras.callbacks import ModelCheckpoint\n",
    "\n",
    "from crnn_model import CRNN\n",
    "from crnn_data import InputGenerator\n",
    "from crnn_utils import decode\n",
    "from utils.training import Logger, ModelSnapshot"
   ]
  },
  {
   "cell_type": "markdown",
   "metadata": {},
   "source": [
    "### Data"
   ]
  },
  {
   "cell_type": "code",
   "execution_count": 2,
   "metadata": {},
   "outputs": [
    {
     "name": "stdout",
     "output_type": "stream",
     "text": [
      "Background              0\n",
      "Text                 1944\n",
      "\n",
      "images                462\n",
      "objects              1944\n",
      "per image            4.21\n",
      "no annotation           0\n",
      "\n"
     ]
    }
   ],
   "source": [
    "from data_icdar2015fst import GTUtility\n",
    "\n",
    "gt_util_train = GTUtility('data/ICDAR2015_FST/')\n",
    "gt_util_val = GTUtility('data/ICDAR2015_FST/', test=True)\n",
    "\n",
    "file_name_train = 'gt_util_ICDAR2015_FST.pkl' \n",
    "file_name_val = 'gt_util_ICDAR2015_FST_val.pkl' \n",
    "\n",
    "pickle.dump(gt_util_train, open(file_name_train,'wb')) \n",
    "pickle.dump(gt_util_val, open(file_name_val,'wb'))\n",
    "\n",
    "# with open(file_name_train, 'rb') as f1:\n",
    "#     gt_util_synth1 = pickle.load(f1)\n",
    "          \n",
    "# with open(file_name_val, 'rb') as f2:\n",
    "#     gt_util_synth2 = pickle.load(f2)           \n",
    "\n",
    "# gt_util_icdar =  gt_util_synth1.merge(gt_util_synth2)\n",
    "gt_util_icdar = gt_util_train.merge(gt_util_val)\n",
    "\n",
    "print(gt_util_icdar)"
   ]
  },
  {
   "cell_type": "code",
   "execution_count": 3,
   "metadata": {},
   "outputs": [
    {
     "name": "stdout",
     "output_type": "stream",
     "text": [
      "Background              0\n",
      "Text                44000\n",
      "\n",
      "images              44000\n",
      "objects             44000\n",
      "per image            1.00\n",
      "no annotation           0\n",
      "\n"
     ]
    }
   ],
   "source": [
    "# 다시 해야 할듯\n",
    "# from data_ky_synth import GTUtility\n",
    "\n",
    "# gt_util_synth = GTUtility('data/ky_synth')\n",
    "\n",
    "file_name_synth = 'gt_util_ky_synth.pkl'\n",
    "\n",
    "with open(file_name_synth, 'rb') as f:\n",
    "    gt_util_synth = pickle.load(f)   \n",
    "    print(gt_util_synth)\n",
    "\n",
    "# pickle.dump(gt_util_synth, open(file_name_synth,'wb')) \n",
    "\n",
    "# with open(file_name_synth, 'rb') as f:\n",
    "#     gt_util_synth = pickle.load(f)"
   ]
  },
  {
   "cell_type": "code",
   "execution_count": 4,
   "metadata": {},
   "outputs": [
    {
     "name": "stdout",
     "output_type": "stream",
     "text": [
      "Background              0\n",
      "Text                50488\n",
      "\n",
      "images              24015\n",
      "objects             50488\n",
      "per image            2.10\n",
      "no annotation           0\n",
      "\n"
     ]
    }
   ],
   "source": [
    "from data_ky import GTUtility\n",
    "\n",
    "# gt_util_ky = GTUtility('data/ky_dataset/',phase='train_extend')\n",
    "# print(gt_util_ky)\n",
    "\n",
    "file_name_ky = 'gt_util_ky_dataset.pkl' \n",
    "\n",
    "# pickle.dump(gt_util_ky, open(file_name_ky,'wb')) \n",
    "\n",
    "with open(file_name_ky, 'rb') as f:\n",
    "    gt_util_ky = pickle.load(f)    \n",
    "    print(gt_util_ky)"
   ]
  },
  {
   "cell_type": "code",
   "execution_count": 2,
   "metadata": {},
   "outputs": [],
   "source": [
    "# from data_synthtext import GTUtility\n",
    "# gt_util = GTUtility('data/SynthText/', polygon=True)\n",
    "\n",
    "# file_name = 'gt_util_synthtext_seglink.pkl'\n",
    "# pickle.dump(gt_util, open(file_name,'wb'))\n",
    "\n",
    "# with open(file_name, 'rb') as f:\n",
    "#     gt_util_synth = pickle.load(f)\n",
    "\n",
    "# gt_util_train, gt_util_val = gt_util.split(0.8)\n",
    "# #print(gt_util)"
   ]
  },
  {
   "cell_type": "code",
   "execution_count": 5,
   "metadata": {},
   "outputs": [
    {
     "name": "stdout",
     "output_type": "stream",
     "text": [
      "Background              0\n",
      "Text                96432\n",
      "\n",
      "images              68477\n",
      "objects             96432\n",
      "per image            1.41\n",
      "no annotation           0\n",
      "\n"
     ]
    }
   ],
   "source": [
    "# gt_util_icdar = gt_util_train.merge(gt_util_val)\n",
    "temp = gt_util_icdar.merge(gt_util_ky)\n",
    "gt_util_final = gt_util_synth.merge(temp)\n",
    "print(gt_util_final)"
   ]
  },
  {
   "cell_type": "markdown",
   "metadata": {},
   "source": [
    "### Model"
   ]
  },
  {
   "cell_type": "code",
   "execution_count": 6,
   "metadata": {},
   "outputs": [
    {
     "name": "stdout",
     "output_type": "stream",
     "text": [
      "WARNING:tensorflow:From c:\\users\\jsson\\anaconda3\\envs\\ai_library\\lib\\site-packages\\keras\\backend\\tensorflow_backend.py:4070: The name tf.nn.max_pool is deprecated. Please use tf.nn.max_pool2d instead.\n",
      "\n",
      "WARNING:tensorflow:From c:\\users\\jsson\\anaconda3\\envs\\ai_library\\lib\\site-packages\\tensorflow\\python\\ops\\array_ops.py:1354: add_dispatch_support.<locals>.wrapper (from tensorflow.python.ops.array_ops) is deprecated and will be removed in a future version.\n",
      "Instructions for updating:\n",
      "Use tf.where in 2.0, which has the same broadcast rule as np.where\n"
     ]
    }
   ],
   "source": [
    "from crnn_utils import alphabet87 as alphabet\n",
    "\n",
    "input_width = 256\n",
    "#input_width = 1024\n",
    "input_height = 32\n",
    "batch_size = 128\n",
    "\n",
    "input_shape = (input_width, input_height, 1)\n",
    "\n",
    "model, model_pred = CRNN(input_shape, len(alphabet))\n",
    "\n",
    "freeze = ['conv1_1', 'conv2_1', 'conv3_1', 'conv3_2', \n",
    "          'conv4_1', 'conv5_1'] #'conv6_1', #'lstm1', #'lstm2' \n",
    "\n",
    "experiment = 'crnn_lstm_ky'\n",
    "# experiment = 'crnn_lstm_ky'\n",
    "\n",
    "#model, model_pred = CRNN(input_shape, len(alphabet), gru=True)\n",
    "#experiment = 'crnn_gru_synthtext'\n",
    "\n",
    "#model, model_pred = CRNN(input_shape, len(alphabet), cnn=True)\n",
    "#experiment = 'crnn_cnn_synthtext'\n",
    "#experiment = 'crnn_cnn_synthtext_concat_continued'\n",
    "\n",
    "max_string_len = model_pred.output_shape[1]\n",
    "\n",
    "#꼭 체크하자!!\n",
    "gen_train = InputGenerator(gt_util_final, batch_size, alphabet, input_shape[:2], \n",
    "                           grayscale=True, max_string_len=max_string_len, concatenate=True)\n",
    "\n",
    "\n",
    "# gen_train = InputGenerator(gt_util_icdar, batch_size, alphabet, input_shape[:2], \n",
    "#                            grayscale=True, max_string_len=max_string_len, concatenate=True)\n",
    "\n",
    "\n",
    "# gen_val = InputGenerator(gt_util_val, batch_size, alphabet, input_shape[:2], \n",
    "#                          grayscale=True, max_string_len=max_string_len, concatenate=False)\n",
    "model.load_weights('./checkpoints/201806162129_crnn_lstm_synthtext/weights.400000.h5')"
   ]
  },
  {
   "cell_type": "markdown",
   "metadata": {},
   "source": [
    "### Training"
   ]
  },
  {
   "cell_type": "code",
   "execution_count": 7,
   "metadata": {
    "scrolled": false
   },
   "outputs": [
    {
     "name": "stdout",
     "output_type": "stream",
     "text": [
      "WARNING:tensorflow:From c:\\users\\jsson\\anaconda3\\envs\\ai_library\\lib\\site-packages\\keras\\backend\\tensorflow_backend.py:422: The name tf.global_variables is deprecated. Please use tf.compat.v1.global_variables instead.\n",
      "\n",
      "Epoch 1/40\n",
      "NEW epoch\n",
      " 70/753 [=>............................] - ETA: 5:40 - loss: 8.4923Traceback (most recent call last):\n",
      "  File \"G:\\ssd_detectors\\crnn_data.py\", line 120, in generate\n",
      "    self.grayscale)\n",
      "  File \"G:\\ssd_detectors\\crnn_data.py\", line 42, in crop_words\n",
      "    word_w = int(round(height * word_ar))\n",
      "OverflowError: cannot convert float infinity to integer\n",
      "\n",
      "data/ky_dataset/chardataset\\A002_R133_B_000.png\n"
     ]
    },
    {
     "name": "stderr",
     "output_type": "stream",
     "text": [
      "G:\\ssd_detectors\\crnn_data.py:40: RuntimeWarning: divide by zero encountered in double_scalars\n",
      "  word_ar = word_w / word_h\n"
     ]
    },
    {
     "name": "stdout",
     "output_type": "stream",
     "text": [
      "151/753 [=====>........................] - ETA: 4:56 - loss: 5.9020Traceback (most recent call last):\n",
      "  File \"G:\\ssd_detectors\\crnn_data.py\", line 120, in generate\n",
      "    self.grayscale)\n",
      "  File \"G:\\ssd_detectors\\crnn_data.py\", line 42, in crop_words\n",
      "    word_w = int(round(height * word_ar))\n",
      "OverflowError: cannot convert float infinity to integer\n",
      "\n",
      "data/ky_dataset/chardataset\\A002_R133_M_000.png\n",
      "499/753 [==================>...........] - ETA: 2:05 - loss: 3.5089Traceback (most recent call last):\n",
      "  File \"G:\\ssd_detectors\\crnn_data.py\", line 120, in generate\n",
      "    self.grayscale)\n",
      "  File \"G:\\ssd_detectors\\crnn_data.py\", line 42, in crop_words\n",
      "    word_w = int(round(height * word_ar))\n",
      "OverflowError: cannot convert float infinity to integer\n",
      "\n",
      "data/ky_dataset/chardataset\\A002_R133_T_000.png\n",
      "515/753 [===================>..........] - ETA: 1:57 - loss: 3.4659NEW epoch\n",
      "753/753 [==============================] - 321s 426ms/step - loss: 2.9883\n",
      "\n",
      "Epoch 00001: saving model to ./checkpoints/202006231539_crnn_lstm_ky/weights.001.h5\n",
      "Epoch 2/40\n",
      "104/753 [===>..........................] - ETA: 2:59 - loss: 1.8660Traceback (most recent call last):\n",
      "  File \"G:\\ssd_detectors\\crnn_data.py\", line 120, in generate\n",
      "    self.grayscale)\n",
      "  File \"G:\\ssd_detectors\\crnn_data.py\", line 42, in crop_words\n",
      "    word_w = int(round(height * word_ar))\n",
      "OverflowError: cannot convert float infinity to integer\n",
      "\n",
      "data/ky_dataset/chardataset\\A002_R133_T_000.png\n",
      "216/753 [=======>......................] - ETA: 2:28 - loss: 1.7986Traceback (most recent call last):\n",
      "  File \"G:\\ssd_detectors\\crnn_data.py\", line 120, in generate\n",
      "    self.grayscale)\n",
      "  File \"G:\\ssd_detectors\\crnn_data.py\", line 42, in crop_words\n",
      "    word_w = int(round(height * word_ar))\n",
      "OverflowError: cannot convert float infinity to integer\n",
      "\n",
      "data/ky_dataset/chardataset\\A002_R133_B_000.png\n",
      "259/753 [=========>....................] - ETA: 2:16 - loss: 1.7866Traceback (most recent call last):\n",
      "  File \"G:\\ssd_detectors\\crnn_data.py\", line 120, in generate\n",
      "    self.grayscale)\n",
      "  File \"G:\\ssd_detectors\\crnn_data.py\", line 42, in crop_words\n",
      "    word_w = int(round(height * word_ar))\n",
      "OverflowError: cannot convert float infinity to integer\n",
      "\n",
      "data/ky_dataset/chardataset\\A002_R133_M_000.png\n",
      "268/753 [=========>....................] - ETA: 2:14 - loss: 1.7835NEW epoch\n",
      "431/753 [================>.............] - ETA: 1:29 - loss: 1.7244Traceback (most recent call last):\n",
      "  File \"G:\\ssd_detectors\\crnn_data.py\", line 120, in generate\n",
      "    self.grayscale)\n",
      "  File \"G:\\ssd_detectors\\crnn_data.py\", line 42, in crop_words\n",
      "    word_w = int(round(height * word_ar))\n",
      "OverflowError: cannot convert float infinity to integer\n",
      "\n",
      "data/ky_dataset/chardataset\\A002_R133_M_000.png\n",
      "649/753 [========================>.....] - ETA: 28s - loss: 1.6738Traceback (most recent call last):\n",
      "  File \"G:\\ssd_detectors\\crnn_data.py\", line 120, in generate\n",
      "    self.grayscale)\n",
      "  File \"G:\\ssd_detectors\\crnn_data.py\", line 42, in crop_words\n",
      "    word_w = int(round(height * word_ar))\n",
      "OverflowError: cannot convert float infinity to integer\n",
      "\n",
      "data/ky_dataset/chardataset\\A002_R133_B_000.png\n",
      "695/753 [==========================>...] - ETA: 16s - loss: 1.6633Traceback (most recent call last):\n",
      "  File \"G:\\ssd_detectors\\crnn_data.py\", line 120, in generate\n",
      "    self.grayscale)\n",
      "  File \"G:\\ssd_detectors\\crnn_data.py\", line 42, in crop_words\n",
      "    word_w = int(round(height * word_ar))\n",
      "OverflowError: cannot convert float infinity to integer\n",
      "\n",
      "data/ky_dataset/chardataset\\A002_R133_T_000.png\n",
      "753/753 [==============================] - 208s 277ms/step - loss: 1.6501\n",
      "\n",
      "Epoch 00002: saving model to ./checkpoints/202006231539_crnn_lstm_ky/weights.002.h5\n",
      "Epoch 3/40\n",
      " 30/753 [>.............................] - ETA: 3:21 - loss: 1.4975NEW epoch\n",
      " 72/753 [=>............................] - ETA: 3:08 - loss: 1.4456Traceback (most recent call last):\n",
      "  File \"G:\\ssd_detectors\\crnn_data.py\", line 120, in generate\n",
      "    self.grayscale)\n",
      "  File \"G:\\ssd_detectors\\crnn_data.py\", line 42, in crop_words\n",
      "    word_w = int(round(height * word_ar))\n",
      "OverflowError: cannot convert float infinity to integer\n",
      "\n",
      "data/ky_dataset/chardataset\\A002_R133_M_000.png\n",
      "382/753 [==============>...............] - ETA: 1:42 - loss: 1.4249Traceback (most recent call last):\n",
      "  File \"G:\\ssd_detectors\\crnn_data.py\", line 120, in generate\n",
      "    self.grayscale)\n",
      "  File \"G:\\ssd_detectors\\crnn_data.py\", line 42, in crop_words\n",
      "    word_w = int(round(height * word_ar))\n",
      "OverflowError: cannot convert float infinity to integer\n",
      "\n",
      "data/ky_dataset/chardataset\\A002_R133_B_000.png\n",
      "407/753 [===============>..............] - ETA: 1:35 - loss: 1.4285Traceback (most recent call last):\n",
      "  File \"G:\\ssd_detectors\\crnn_data.py\", line 120, in generate\n",
      "    self.grayscale)\n",
      "  File \"G:\\ssd_detectors\\crnn_data.py\", line 42, in crop_words\n",
      "    word_w = int(round(height * word_ar))\n",
      "OverflowError: cannot convert float infinity to integer\n",
      "\n",
      "data/ky_dataset/chardataset\\A002_R133_T_000.png\n",
      "547/753 [====================>.........] - ETA: 57s - loss: 1.4107NEW epoch\n",
      "680/753 [==========================>...] - ETA: 20s - loss: 1.3922Traceback (most recent call last):\n",
      "  File \"G:\\ssd_detectors\\crnn_data.py\", line 120, in generate\n",
      "    self.grayscale)\n",
      "  File \"G:\\ssd_detectors\\crnn_data.py\", line 42, in crop_words\n",
      "    word_w = int(round(height * word_ar))\n",
      "OverflowError: cannot convert float infinity to integer\n",
      "\n",
      "data/ky_dataset/chardataset\\A002_R133_B_000.png\n",
      "753/753 [==============================] - 209s 277ms/step - loss: 1.3792\n",
      "\n",
      "Epoch 00003: saving model to ./checkpoints/202006231539_crnn_lstm_ky/weights.003.h5\n",
      "Epoch 4/40\n",
      " 75/753 [=>............................] - ETA: 3:07 - loss: 1.3226Traceback (most recent call last):\n",
      "  File \"G:\\ssd_detectors\\crnn_data.py\", line 120, in generate\n",
      "    self.grayscale)\n",
      "  File \"G:\\ssd_detectors\\crnn_data.py\", line 42, in crop_words\n",
      "    word_w = int(round(height * word_ar))\n",
      "OverflowError: cannot convert float infinity to integer\n",
      "\n",
      "data/ky_dataset/chardataset\\A002_R133_M_000.png\n",
      "198/753 [======>.......................] - ETA: 2:33 - loss: 1.2616Traceback (most recent call last):\n",
      "  File \"G:\\ssd_detectors\\crnn_data.py\", line 120, in generate\n",
      "    self.grayscale)\n",
      "  File \"G:\\ssd_detectors\\crnn_data.py\", line 42, in crop_words\n",
      "    word_w = int(round(height * word_ar))\n",
      "OverflowError: cannot convert float infinity to integer\n",
      "\n",
      "data/ky_dataset/chardataset\\A002_R133_T_000.png\n",
      "310/753 [===========>..................] - ETA: 2:02 - loss: 1.2691NEW epoch\n",
      "327/753 [============>.................] - ETA: 1:57 - loss: 1.2689Traceback (most recent call last):\n",
      "  File \"G:\\ssd_detectors\\crnn_data.py\", line 120, in generate\n",
      "    self.grayscale)\n",
      "  File \"G:\\ssd_detectors\\crnn_data.py\", line 42, in crop_words\n",
      "    word_w = int(round(height * word_ar))\n",
      "OverflowError: cannot convert float infinity to integer\n",
      "\n",
      "data/ky_dataset/chardataset\\A002_R133_B_000.png\n",
      "469/753 [=================>............] - ETA: 1:18 - loss: 1.2577Traceback (most recent call last):\n",
      "  File \"G:\\ssd_detectors\\crnn_data.py\", line 120, in generate\n",
      "    self.grayscale)\n",
      "  File \"G:\\ssd_detectors\\crnn_data.py\", line 42, in crop_words\n",
      "    word_w = int(round(height * word_ar))\n",
      "OverflowError: cannot convert float infinity to integer\n",
      "\n",
      "data/ky_dataset/chardataset\\A002_R133_T_000.png\n",
      "691/753 [==========================>...] - ETA: 17s - loss: 1.2364Traceback (most recent call last):\n",
      "  File \"G:\\ssd_detectors\\crnn_data.py\", line 120, in generate\n",
      "    self.grayscale)\n",
      "  File \"G:\\ssd_detectors\\crnn_data.py\", line 42, in crop_words\n",
      "    word_w = int(round(height * word_ar))\n",
      "OverflowError: cannot convert float infinity to integer\n",
      "\n",
      "data/ky_dataset/chardataset\\A002_R133_M_000.png\n",
      "753/753 [==============================] - 208s 276ms/step - loss: 1.2317\n",
      "\n",
      "Epoch 00004: saving model to ./checkpoints/202006231539_crnn_lstm_ky/weights.004.h5\n",
      "Epoch 5/40\n",
      " 73/753 [=>............................] - ETA: 3:08 - loss: 1.1753NEW epoch\n",
      "144/753 [====>.........................] - ETA: 2:48 - loss: 1.1490Traceback (most recent call last):\n",
      "  File \"G:\\ssd_detectors\\crnn_data.py\", line 120, in generate\n",
      "    self.grayscale)\n",
      "  File \"G:\\ssd_detectors\\crnn_data.py\", line 42, in crop_words\n",
      "    word_w = int(round(height * word_ar))\n",
      "OverflowError: cannot convert float infinity to integer\n",
      "\n",
      "data/ky_dataset/chardataset\\A002_R133_M_000.png\n"
     ]
    },
    {
     "name": "stdout",
     "output_type": "stream",
     "text": [
      "179/753 [======>.......................] - ETA: 2:38 - loss: 1.1553Traceback (most recent call last):\n",
      "  File \"G:\\ssd_detectors\\crnn_data.py\", line 120, in generate\n",
      "    self.grayscale)\n",
      "  File \"G:\\ssd_detectors\\crnn_data.py\", line 42, in crop_words\n",
      "    word_w = int(round(height * word_ar))\n",
      "OverflowError: cannot convert float infinity to integer\n",
      "\n",
      "data/ky_dataset/chardataset\\A002_R133_B_000.png\n",
      "265/753 [=========>....................] - ETA: 2:14 - loss: 1.1365Traceback (most recent call last):\n",
      "  File \"G:\\ssd_detectors\\crnn_data.py\", line 120, in generate\n",
      "    self.grayscale)\n",
      "  File \"G:\\ssd_detectors\\crnn_data.py\", line 42, in crop_words\n",
      "    word_w = int(round(height * word_ar))\n",
      "OverflowError: cannot convert float infinity to integer\n",
      "\n",
      "data/ky_dataset/chardataset\\A002_R133_T_000.png\n",
      "589/753 [======================>.......] - ETA: 45s - loss: 1.1301NEW epoch\n",
      "643/753 [========================>.....] - ETA: 30s - loss: 1.1250Traceback (most recent call last):\n",
      "  File \"G:\\ssd_detectors\\crnn_data.py\", line 120, in generate\n",
      "    self.grayscale)\n",
      "  File \"G:\\ssd_detectors\\crnn_data.py\", line 42, in crop_words\n",
      "    word_w = int(round(height * word_ar))\n",
      "OverflowError: cannot convert float infinity to integer\n",
      "\n",
      "data/ky_dataset/chardataset\\A002_R133_B_000.png\n",
      "753/753 [==============================] - 207s 275ms/step - loss: 1.1143\n",
      "\n",
      "Epoch 00005: saving model to ./checkpoints/202006231539_crnn_lstm_ky/weights.005.h5\n",
      "Epoch 6/40\n",
      " 30/753 [>.............................] - ETA: 3:18 - loss: 1.1018Traceback (most recent call last):\n",
      "  File \"G:\\ssd_detectors\\crnn_data.py\", line 120, in generate\n",
      "    self.grayscale)\n",
      "  File \"G:\\ssd_detectors\\crnn_data.py\", line 42, in crop_words\n",
      "    word_w = int(round(height * word_ar))\n",
      "OverflowError: cannot convert float infinity to integer\n",
      "\n",
      "data/ky_dataset/chardataset\\A002_R133_T_000.png\n",
      "317/753 [===========>..................] - ETA: 1:59 - loss: 1.0942Traceback (most recent call last):\n",
      "  File \"G:\\ssd_detectors\\crnn_data.py\", line 120, in generate\n",
      "    self.grayscale)\n",
      "  File \"G:\\ssd_detectors\\crnn_data.py\", line 42, in crop_words\n",
      "    word_w = int(round(height * word_ar))\n",
      "OverflowError: cannot convert float infinity to integer\n",
      "\n",
      "data/ky_dataset/chardataset\\A002_R133_M_000.png\n",
      "352/753 [=============>................] - ETA: 1:50 - loss: 1.0942NEW epoch\n",
      "370/753 [=============>................] - ETA: 1:45 - loss: 1.0906Traceback (most recent call last):\n",
      "  File \"G:\\ssd_detectors\\crnn_data.py\", line 120, in generate\n",
      "    self.grayscale)\n",
      "  File \"G:\\ssd_detectors\\crnn_data.py\", line 42, in crop_words\n",
      "    word_w = int(round(height * word_ar))\n",
      "OverflowError: cannot convert float infinity to integer\n",
      "\n",
      "data/ky_dataset/chardataset\\A002_R133_M_000.png\n",
      "593/753 [======================>.......] - ETA: 44s - loss: 1.0644Traceback (most recent call last):\n",
      "  File \"G:\\ssd_detectors\\crnn_data.py\", line 120, in generate\n",
      "    self.grayscale)\n",
      "  File \"G:\\ssd_detectors\\crnn_data.py\", line 42, in crop_words\n",
      "    word_w = int(round(height * word_ar))\n",
      "OverflowError: cannot convert float infinity to integer\n",
      "\n",
      "data/ky_dataset/chardataset\\A002_R133_T_000.png\n",
      "621/753 [=======================>......] - ETA: 36s - loss: 1.0614Traceback (most recent call last):\n",
      "  File \"G:\\ssd_detectors\\crnn_data.py\", line 120, in generate\n",
      "    self.grayscale)\n",
      "  File \"G:\\ssd_detectors\\crnn_data.py\", line 42, in crop_words\n",
      "    word_w = int(round(height * word_ar))\n",
      "OverflowError: cannot convert float infinity to integer\n",
      "\n",
      "data/ky_dataset/chardataset\\A002_R133_B_000.png\n",
      "753/753 [==============================] - 207s 275ms/step - loss: 1.0500\n",
      "\n",
      "Epoch 00006: saving model to ./checkpoints/202006231539_crnn_lstm_ky/weights.006.h5\n",
      "Epoch 7/40\n",
      "115/753 [===>..........................] - ETA: 2:55 - loss: 1.0143NEW epoch\n",
      "450/753 [================>.............] - ETA: 1:23 - loss: 0.9928Traceback (most recent call last):\n",
      "  File \"G:\\ssd_detectors\\crnn_data.py\", line 120, in generate\n",
      "    self.grayscale)\n",
      "  File \"G:\\ssd_detectors\\crnn_data.py\", line 42, in crop_words\n",
      "    word_w = int(round(height * word_ar))\n",
      "OverflowError: cannot convert float infinity to integer\n",
      "\n",
      "data/ky_dataset/chardataset\\A002_R133_B_000.png\n",
      "451/753 [================>.............] - ETA: 1:23 - loss: 0.9919Traceback (most recent call last):\n",
      "  File \"G:\\ssd_detectors\\crnn_data.py\", line 120, in generate\n",
      "    self.grayscale)\n",
      "  File \"G:\\ssd_detectors\\crnn_data.py\", line 42, in crop_words\n",
      "    word_w = int(round(height * word_ar))\n",
      "OverflowError: cannot convert float infinity to integer\n",
      "\n",
      "data/ky_dataset/chardataset\\A002_R133_M_000.png\n",
      "569/753 [=====================>........] - ETA: 50s - loss: 0.9818Traceback (most recent call last):\n",
      "  File \"G:\\ssd_detectors\\crnn_data.py\", line 120, in generate\n",
      "    self.grayscale)\n",
      "  File \"G:\\ssd_detectors\\crnn_data.py\", line 42, in crop_words\n",
      "    word_w = int(round(height * word_ar))\n",
      "OverflowError: cannot convert float infinity to integer\n",
      "\n",
      "data/ky_dataset/chardataset\\A002_R133_T_000.png\n",
      "631/753 [========================>.....] - ETA: 33s - loss: 0.9818NEW epoch\n",
      "663/753 [=========================>....] - ETA: 24s - loss: 0.9769Traceback (most recent call last):\n",
      "  File \"G:\\ssd_detectors\\crnn_data.py\", line 120, in generate\n",
      "    self.grayscale)\n",
      "  File \"G:\\ssd_detectors\\crnn_data.py\", line 42, in crop_words\n",
      "    word_w = int(round(height * word_ar))\n",
      "OverflowError: cannot convert float infinity to integer\n",
      "\n",
      "data/ky_dataset/chardataset\\A002_R133_B_000.png\n",
      "695/753 [==========================>...] - ETA: 15s - loss: 0.9749Traceback (most recent call last):\n",
      "  File \"G:\\ssd_detectors\\crnn_data.py\", line 120, in generate\n",
      "    self.grayscale)\n",
      "  File \"G:\\ssd_detectors\\crnn_data.py\", line 42, in crop_words\n",
      "    word_w = int(round(height * word_ar))\n",
      "OverflowError: cannot convert float infinity to integer\n",
      "\n",
      "data/ky_dataset/chardataset\\A002_R133_T_000.png\n",
      "753/753 [==============================] - 207s 275ms/step - loss: 0.9695\n",
      "\n",
      "Epoch 00007: saving model to ./checkpoints/202006231539_crnn_lstm_ky/weights.007.h5\n",
      "Epoch 8/40\n",
      "125/753 [===>..........................] - ETA: 2:52 - loss: 0.9496Traceback (most recent call last):\n",
      "  File \"G:\\ssd_detectors\\crnn_data.py\", line 120, in generate\n",
      "    self.grayscale)\n",
      "  File \"G:\\ssd_detectors\\crnn_data.py\", line 42, in crop_words\n",
      "    word_w = int(round(height * word_ar))\n",
      "OverflowError: cannot convert float infinity to integer\n",
      "\n",
      "data/ky_dataset/chardataset\\A002_R133_M_000.png\n",
      "394/753 [==============>...............] - ETA: 1:38 - loss: 0.9469NEW epoch\n",
      "447/753 [================>.............] - ETA: 1:24 - loss: 0.9403Traceback (most recent call last):\n",
      "  File \"G:\\ssd_detectors\\crnn_data.py\", line 120, in generate\n",
      "    self.grayscale)\n",
      "  File \"G:\\ssd_detectors\\crnn_data.py\", line 42, in crop_words\n",
      "    word_w = int(round(height * word_ar))\n",
      "OverflowError: cannot convert float infinity to integer\n",
      "\n",
      "data/ky_dataset/chardataset\\A002_R133_T_000.png\n",
      "492/753 [==================>...........] - ETA: 1:11 - loss: 0.9369Traceback (most recent call last):\n",
      "  File \"G:\\ssd_detectors\\crnn_data.py\", line 120, in generate\n",
      "    self.grayscale)\n",
      "  File \"G:\\ssd_detectors\\crnn_data.py\", line 42, in crop_words\n",
      "    word_w = int(round(height * word_ar))\n",
      "OverflowError: cannot convert float infinity to integer\n",
      "\n",
      "data/ky_dataset/chardataset\\A002_R133_M_000.png\n",
      "538/753 [====================>.........] - ETA: 59s - loss: 0.9348Traceback (most recent call last):\n",
      "  File \"G:\\ssd_detectors\\crnn_data.py\", line 120, in generate\n",
      "    self.grayscale)\n",
      "  File \"G:\\ssd_detectors\\crnn_data.py\", line 42, in crop_words\n",
      "    word_w = int(round(height * word_ar))\n",
      "OverflowError: cannot convert float infinity to integer\n",
      "\n",
      "data/ky_dataset/chardataset\\A002_R133_B_000.png\n",
      "753/753 [==============================] - 207s 275ms/step - loss: 0.9264\n",
      "\n",
      "Epoch 00008: saving model to ./checkpoints/202006231539_crnn_lstm_ky/weights.008.h5\n",
      "Epoch 9/40\n",
      "157/753 [=====>........................] - ETA: 2:43 - loss: 0.8906NEW epoch\n",
      "458/753 [=================>............] - ETA: 1:21 - loss: 0.8660Traceback (most recent call last):\n",
      "  File \"G:\\ssd_detectors\\crnn_data.py\", line 120, in generate\n",
      "    self.grayscale)\n",
      "  File \"G:\\ssd_detectors\\crnn_data.py\", line 42, in crop_words\n",
      "    word_w = int(round(height * word_ar))\n",
      "OverflowError: cannot convert float infinity to integer\n",
      "\n",
      "data/ky_dataset/chardataset\\A002_R133_M_000.png\n"
     ]
    },
    {
     "name": "stdout",
     "output_type": "stream",
     "text": [
      "515/753 [===================>..........] - ETA: 1:05 - loss: 0.8766Traceback (most recent call last):\n",
      "  File \"G:\\ssd_detectors\\crnn_data.py\", line 120, in generate\n",
      "    self.grayscale)\n",
      "  File \"G:\\ssd_detectors\\crnn_data.py\", line 42, in crop_words\n",
      "    word_w = int(round(height * word_ar))\n",
      "OverflowError: cannot convert float infinity to integer\n",
      "\n",
      "data/ky_dataset/chardataset\\A002_R133_B_000.png\n",
      "585/753 [======================>.......] - ETA: 46s - loss: 0.8790Traceback (most recent call last):\n",
      "  File \"G:\\ssd_detectors\\crnn_data.py\", line 120, in generate\n",
      "    self.grayscale)\n",
      "  File \"G:\\ssd_detectors\\crnn_data.py\", line 42, in crop_words\n",
      "    word_w = int(round(height * word_ar))\n",
      "OverflowError: cannot convert float infinity to integer\n",
      "\n",
      "data/ky_dataset/chardataset\\A002_R133_T_000.png\n",
      "673/753 [=========================>....] - ETA: 21s - loss: 0.8757NEW epoch\n",
      "674/753 [=========================>....] - ETA: 21s - loss: 0.8761Traceback (most recent call last):\n",
      "  File \"G:\\ssd_detectors\\crnn_data.py\", line 120, in generate\n",
      "    self.grayscale)\n",
      "  File \"G:\\ssd_detectors\\crnn_data.py\", line 42, in crop_words\n",
      "    word_w = int(round(height * word_ar))\n",
      "OverflowError: cannot convert float infinity to integer\n",
      "\n",
      "data/ky_dataset/chardataset\\A002_R133_T_000.png\n",
      "753/753 [==============================] - 207s 275ms/step - loss: 0.8745\n",
      "\n",
      "Epoch 00009: saving model to ./checkpoints/202006231539_crnn_lstm_ky/weights.009.h5\n",
      "Epoch 10/40\n",
      "154/753 [=====>........................] - ETA: 3:10 - loss: 0.8448Traceback (most recent call last):\n",
      "  File \"G:\\ssd_detectors\\crnn_data.py\", line 120, in generate\n",
      "    self.grayscale)\n",
      "  File \"G:\\ssd_detectors\\crnn_data.py\", line 42, in crop_words\n",
      "    word_w = int(round(height * word_ar))\n",
      "OverflowError: cannot convert float infinity to integer\n",
      "\n",
      "data/ky_dataset/chardataset\\A002_R133_B_000.png\n",
      "288/753 [==========>...................] - ETA: 2:18 - loss: 0.8382Traceback (most recent call last):\n",
      "  File \"G:\\ssd_detectors\\crnn_data.py\", line 120, in generate\n",
      "    self.grayscale)\n",
      "  File \"G:\\ssd_detectors\\crnn_data.py\", line 42, in crop_words\n",
      "    word_w = int(round(height * word_ar))\n",
      "OverflowError: cannot convert float infinity to integer\n",
      "\n",
      "data/ky_dataset/chardataset\\A002_R133_M_000.png\n",
      "436/753 [================>.............] - ETA: 1:31 - loss: 0.8443NEW epoch\n",
      "510/753 [===================>..........] - ETA: 1:09 - loss: 0.8369Traceback (most recent call last):\n",
      "  File \"G:\\ssd_detectors\\crnn_data.py\", line 120, in generate\n",
      "    self.grayscale)\n",
      "  File \"G:\\ssd_detectors\\crnn_data.py\", line 42, in crop_words\n",
      "    word_w = int(round(height * word_ar))\n",
      "OverflowError: cannot convert float infinity to integer\n",
      "\n",
      "data/ky_dataset/chardataset\\A002_R133_M_000.png\n",
      "753/753 [==============================] - 214s 284ms/step - loss: 0.8285\n",
      "\n",
      "Epoch 00010: saving model to ./checkpoints/202006231539_crnn_lstm_ky/weights.010.h5\n",
      "Epoch 11/40\n",
      " 39/753 [>.............................] - ETA: 3:16 - loss: 0.8283Traceback (most recent call last):\n",
      "  File \"G:\\ssd_detectors\\crnn_data.py\", line 120, in generate\n",
      "    self.grayscale)\n",
      "  File \"G:\\ssd_detectors\\crnn_data.py\", line 42, in crop_words\n",
      "    word_w = int(round(height * word_ar))\n",
      "OverflowError: cannot convert float infinity to integer\n",
      "\n",
      "data/ky_dataset/chardataset\\A002_R133_B_000.png\n",
      "175/753 [=====>........................] - ETA: 2:38 - loss: 0.8143Traceback (most recent call last):\n",
      "  File \"G:\\ssd_detectors\\crnn_data.py\", line 120, in generate\n",
      "    self.grayscale)\n",
      "  File \"G:\\ssd_detectors\\crnn_data.py\", line 42, in crop_words\n",
      "    word_w = int(round(height * word_ar))\n",
      "OverflowError: cannot convert float infinity to integer\n",
      "\n",
      "data/ky_dataset/chardataset\\A002_R133_T_000.png\n",
      "198/753 [======>.......................] - ETA: 2:32 - loss: 0.8078NEW epoch\n",
      "260/753 [=========>....................] - ETA: 2:15 - loss: 0.8103Traceback (most recent call last):\n",
      "  File \"G:\\ssd_detectors\\crnn_data.py\", line 120, in generate\n",
      "    self.grayscale)\n",
      "  File \"G:\\ssd_detectors\\crnn_data.py\", line 42, in crop_words\n",
      "    word_w = int(round(height * word_ar))\n",
      "OverflowError: cannot convert float infinity to integer\n",
      "\n",
      "data/ky_dataset/chardataset\\A002_R133_M_000.png\n",
      "305/753 [===========>..................] - ETA: 2:03 - loss: 0.8068Traceback (most recent call last):\n",
      "  File \"G:\\ssd_detectors\\crnn_data.py\", line 120, in generate\n",
      "    self.grayscale)\n",
      "  File \"G:\\ssd_detectors\\crnn_data.py\", line 42, in crop_words\n",
      "    word_w = int(round(height * word_ar))\n",
      "OverflowError: cannot convert float infinity to integer\n",
      "\n",
      "data/ky_dataset/chardataset\\A002_R133_T_000.png\n",
      "318/753 [===========>..................] - ETA: 1:59 - loss: 0.8029Traceback (most recent call last):\n",
      "  File \"G:\\ssd_detectors\\crnn_data.py\", line 120, in generate\n",
      "    self.grayscale)\n",
      "  File \"G:\\ssd_detectors\\crnn_data.py\", line 42, in crop_words\n",
      "    word_w = int(round(height * word_ar))\n",
      "OverflowError: cannot convert float infinity to integer\n",
      "\n",
      "data/ky_dataset/chardataset\\A002_R133_B_000.png\n",
      "715/753 [===========================>..] - ETA: 10s - loss: 0.7944NEW epoch\n",
      "753/753 [==============================] - 212s 281ms/step - loss: 0.7962\n",
      "\n",
      "Epoch 00011: saving model to ./checkpoints/202006231539_crnn_lstm_ky/weights.011.h5\n",
      "Epoch 12/40\n",
      "282/753 [==========>...................] - ETA: 2:09 - loss: 0.7799Traceback (most recent call last):\n",
      "  File \"G:\\ssd_detectors\\crnn_data.py\", line 120, in generate\n",
      "    self.grayscale)\n",
      "  File \"G:\\ssd_detectors\\crnn_data.py\", line 42, in crop_words\n",
      "    word_w = int(round(height * word_ar))\n",
      "OverflowError: cannot convert float infinity to integer\n",
      "\n",
      "data/ky_dataset/chardataset\\A002_R133_T_000.png\n",
      "284/753 [==========>...................] - ETA: 2:09 - loss: 0.7813Traceback (most recent call last):\n",
      "  File \"G:\\ssd_detectors\\crnn_data.py\", line 120, in generate\n",
      "    self.grayscale)\n",
      "  File \"G:\\ssd_detectors\\crnn_data.py\", line 42, in crop_words\n",
      "    word_w = int(round(height * word_ar))\n",
      "OverflowError: cannot convert float infinity to integer\n",
      "\n",
      "data/ky_dataset/chardataset\\A002_R133_B_000.png\n",
      "459/753 [=================>............] - ETA: 1:20 - loss: 0.7687Traceback (most recent call last):\n",
      "  File \"G:\\ssd_detectors\\crnn_data.py\", line 120, in generate\n",
      "    self.grayscale)\n",
      "  File \"G:\\ssd_detectors\\crnn_data.py\", line 42, in crop_words\n",
      "    word_w = int(round(height * word_ar))\n",
      "OverflowError: cannot convert float infinity to integer\n",
      "\n",
      "data/ky_dataset/chardataset\\A002_R133_M_000.png\n",
      "478/753 [==================>...........] - ETA: 1:15 - loss: 0.7694NEW epoch\n",
      "486/753 [==================>...........] - ETA: 1:13 - loss: 0.7667Traceback (most recent call last):\n",
      "  File \"G:\\ssd_detectors\\crnn_data.py\", line 120, in generate\n",
      "    self.grayscale)\n",
      "  File \"G:\\ssd_detectors\\crnn_data.py\", line 42, in crop_words\n",
      "    word_w = int(round(height * word_ar))\n",
      "OverflowError: cannot convert float infinity to integer\n",
      "\n",
      "data/ky_dataset/chardataset\\A002_R133_B_000.png\n",
      "509/753 [===================>..........] - ETA: 1:07 - loss: 0.7659Traceback (most recent call last):\n",
      "  File \"G:\\ssd_detectors\\crnn_data.py\", line 120, in generate\n",
      "    self.grayscale)\n",
      "  File \"G:\\ssd_detectors\\crnn_data.py\", line 42, in crop_words\n",
      "    word_w = int(round(height * word_ar))\n",
      "OverflowError: cannot convert float infinity to integer\n",
      "\n",
      "data/ky_dataset/chardataset\\A002_R133_T_000.png\n",
      "753/753 [==============================] - 207s 275ms/step - loss: 0.7629\n",
      "\n",
      "Epoch 00012: saving model to ./checkpoints/202006231539_crnn_lstm_ky/weights.012.h5\n",
      "Epoch 13/40\n",
      "104/753 [===>..........................] - ETA: 2:58 - loss: 0.7425Traceback (most recent call last):\n",
      "  File \"G:\\ssd_detectors\\crnn_data.py\", line 120, in generate\n",
      "    self.grayscale)\n",
      "  File \"G:\\ssd_detectors\\crnn_data.py\", line 42, in crop_words\n",
      "    word_w = int(round(height * word_ar))\n",
      "OverflowError: cannot convert float infinity to integer\n",
      "\n",
      "data/ky_dataset/chardataset\\A002_R133_M_000.png\n",
      "241/753 [========>.....................] - ETA: 2:20 - loss: 0.7388NEW epoch\n",
      "446/753 [================>.............] - ETA: 1:24 - loss: 0.7324Traceback (most recent call last):\n",
      "  File \"G:\\ssd_detectors\\crnn_data.py\", line 120, in generate\n",
      "    self.grayscale)\n",
      "  File \"G:\\ssd_detectors\\crnn_data.py\", line 42, in crop_words\n",
      "    word_w = int(round(height * word_ar))\n",
      "OverflowError: cannot convert float infinity to integer\n",
      "\n",
      "data/ky_dataset/chardataset\\A002_R133_T_000.png\n"
     ]
    },
    {
     "name": "stdout",
     "output_type": "stream",
     "text": [
      "598/753 [======================>.......] - ETA: 42s - loss: 0.7357Traceback (most recent call last):\n",
      "  File \"G:\\ssd_detectors\\crnn_data.py\", line 120, in generate\n",
      "    self.grayscale)\n",
      "  File \"G:\\ssd_detectors\\crnn_data.py\", line 42, in crop_words\n",
      "    word_w = int(round(height * word_ar))\n",
      "OverflowError: cannot convert float infinity to integer\n",
      "\n",
      "data/ky_dataset/chardataset\\A002_R133_M_000.png\n",
      "635/753 [========================>.....] - ETA: 32s - loss: 0.7362Traceback (most recent call last):\n",
      "  File \"G:\\ssd_detectors\\crnn_data.py\", line 120, in generate\n",
      "    self.grayscale)\n",
      "  File \"G:\\ssd_detectors\\crnn_data.py\", line 42, in crop_words\n",
      "    word_w = int(round(height * word_ar))\n",
      "OverflowError: cannot convert float infinity to integer\n",
      "\n",
      "data/ky_dataset/chardataset\\A002_R133_B_000.png\n",
      "753/753 [==============================] - 207s 275ms/step - loss: 0.7401\n",
      "\n",
      "Epoch 00013: saving model to ./checkpoints/202006231539_crnn_lstm_ky/weights.013.h5\n",
      "Epoch 14/40\n",
      "  4/753 [..............................] - ETA: 3:26 - loss: 0.6330NEW epoch\n",
      "211/753 [=======>......................] - ETA: 2:29 - loss: 0.7079\n",
      "Saving model ./checkpoints/202006231539_crnn_lstm_ky\\weights.010000.h5\n",
      "283/753 [==========>...................] - ETA: 2:09 - loss: 0.7112Traceback (most recent call last):\n",
      "  File \"G:\\ssd_detectors\\crnn_data.py\", line 120, in generate\n",
      "    self.grayscale)\n",
      "  File \"G:\\ssd_detectors\\crnn_data.py\", line 42, in crop_words\n",
      "    word_w = int(round(height * word_ar))\n",
      "OverflowError: cannot convert float infinity to integer\n",
      "\n",
      "data/ky_dataset/chardataset\\A002_R133_T_000.png\n",
      "376/753 [=============>................] - ETA: 1:43 - loss: 0.7132Traceback (most recent call last):\n",
      "  File \"G:\\ssd_detectors\\crnn_data.py\", line 120, in generate\n",
      "    self.grayscale)\n",
      "  File \"G:\\ssd_detectors\\crnn_data.py\", line 42, in crop_words\n",
      "    word_w = int(round(height * word_ar))\n",
      "OverflowError: cannot convert float infinity to integer\n",
      "\n",
      "data/ky_dataset/chardataset\\A002_R133_M_000.png\n",
      "488/753 [==================>...........] - ETA: 1:12 - loss: 0.7098Traceback (most recent call last):\n",
      "  File \"G:\\ssd_detectors\\crnn_data.py\", line 120, in generate\n",
      "    self.grayscale)\n",
      "  File \"G:\\ssd_detectors\\crnn_data.py\", line 42, in crop_words\n",
      "    word_w = int(round(height * word_ar))\n",
      "OverflowError: cannot convert float infinity to integer\n",
      "\n",
      "data/ky_dataset/chardataset\\A002_R133_B_000.png\n",
      "520/753 [===================>..........] - ETA: 1:04 - loss: 0.7086NEW epoch\n",
      "753/753 [==============================] - 207s 275ms/step - loss: 0.7093\n",
      "\n",
      "Epoch 00014: saving model to ./checkpoints/202006231539_crnn_lstm_ky/weights.014.h5\n",
      "Epoch 15/40\n",
      "104/753 [===>..........................] - ETA: 2:58 - loss: 0.7103Traceback (most recent call last):\n",
      "  File \"G:\\ssd_detectors\\crnn_data.py\", line 120, in generate\n",
      "    self.grayscale)\n",
      "  File \"G:\\ssd_detectors\\crnn_data.py\", line 42, in crop_words\n",
      "    word_w = int(round(height * word_ar))\n",
      "OverflowError: cannot convert float infinity to integer\n",
      "\n",
      "data/ky_dataset/chardataset\\A002_R133_B_000.png\n",
      "190/753 [======>.......................] - ETA: 2:35 - loss: 0.6962Traceback (most recent call last):\n",
      "  File \"G:\\ssd_detectors\\crnn_data.py\", line 120, in generate\n",
      "    self.grayscale)\n",
      "  File \"G:\\ssd_detectors\\crnn_data.py\", line 42, in crop_words\n",
      "    word_w = int(round(height * word_ar))\n",
      "OverflowError: cannot convert float infinity to integer\n",
      "\n",
      "data/ky_dataset/chardataset\\A002_R133_T_000.png\n",
      "257/753 [=========>....................] - ETA: 2:16 - loss: 0.6966Traceback (most recent call last):\n",
      "  File \"G:\\ssd_detectors\\crnn_data.py\", line 120, in generate\n",
      "    self.grayscale)\n",
      "  File \"G:\\ssd_detectors\\crnn_data.py\", line 42, in crop_words\n",
      "    word_w = int(round(height * word_ar))\n",
      "OverflowError: cannot convert float infinity to integer\n",
      "\n",
      "data/ky_dataset/chardataset\\A002_R133_M_000.png\n",
      "283/753 [==========>...................] - ETA: 2:09 - loss: 0.6895NEW epoch\n",
      "365/753 [=============>................] - ETA: 1:46 - loss: 0.6909Traceback (most recent call last):\n",
      "  File \"G:\\ssd_detectors\\crnn_data.py\", line 120, in generate\n",
      "    self.grayscale)\n",
      "  File \"G:\\ssd_detectors\\crnn_data.py\", line 42, in crop_words\n",
      "    word_w = int(round(height * word_ar))\n",
      "OverflowError: cannot convert float infinity to integer\n",
      "\n",
      "data/ky_dataset/chardataset\\A002_R133_M_000.png\n",
      "496/753 [==================>...........] - ETA: 1:10 - loss: 0.6863Traceback (most recent call last):\n",
      "  File \"G:\\ssd_detectors\\crnn_data.py\", line 120, in generate\n",
      "    self.grayscale)\n",
      "  File \"G:\\ssd_detectors\\crnn_data.py\", line 42, in crop_words\n",
      "    word_w = int(round(height * word_ar))\n",
      "OverflowError: cannot convert float infinity to integer\n",
      "\n",
      "data/ky_dataset/chardataset\\A002_R133_T_000.png\n",
      "742/753 [============================>.] - ETA: 3s - loss: 0.6779Traceback (most recent call last):\n",
      "  File \"G:\\ssd_detectors\\crnn_data.py\", line 120, in generate\n",
      "    self.grayscale)\n",
      "  File \"G:\\ssd_detectors\\crnn_data.py\", line 42, in crop_words\n",
      "    word_w = int(round(height * word_ar))\n",
      "OverflowError: cannot convert float infinity to integer\n",
      "\n",
      "data/ky_dataset/chardataset\\A002_R133_B_000.png\n",
      "753/753 [==============================] - 207s 275ms/step - loss: 0.6772\n",
      "\n",
      "Epoch 00015: saving model to ./checkpoints/202006231539_crnn_lstm_ky/weights.015.h5\n",
      "Epoch 16/40\n",
      " 46/753 [>.............................] - ETA: 3:14 - loss: 0.7281NEW epoch\n",
      " 95/753 [==>...........................] - ETA: 3:01 - loss: 0.7062Traceback (most recent call last):\n",
      "  File \"G:\\ssd_detectors\\crnn_data.py\", line 120, in generate\n",
      "    self.grayscale)\n",
      "  File \"G:\\ssd_detectors\\crnn_data.py\", line 42, in crop_words\n",
      "    word_w = int(round(height * word_ar))\n",
      "OverflowError: cannot convert float infinity to integer\n",
      "\n",
      "data/ky_dataset/chardataset\\A002_R133_B_000.png\n",
      "262/753 [=========>....................] - ETA: 2:16 - loss: 0.6735Traceback (most recent call last):\n",
      "  File \"G:\\ssd_detectors\\crnn_data.py\", line 120, in generate\n",
      "    self.grayscale)\n",
      "  File \"G:\\ssd_detectors\\crnn_data.py\", line 42, in crop_words\n",
      "    word_w = int(round(height * word_ar))\n",
      "OverflowError: cannot convert float infinity to integer\n",
      "\n",
      "data/ky_dataset/chardataset\\A002_R133_T_000.png\n",
      "542/753 [====================>.........] - ETA: 58s - loss: 0.6772Traceback (most recent call last):\n",
      "  File \"G:\\ssd_detectors\\crnn_data.py\", line 120, in generate\n",
      "    self.grayscale)\n",
      "  File \"G:\\ssd_detectors\\crnn_data.py\", line 42, in crop_words\n",
      "    word_w = int(round(height * word_ar))\n",
      "OverflowError: cannot convert float infinity to integer\n",
      "\n",
      "data/ky_dataset/chardataset\\A002_R133_M_000.png\n",
      "562/753 [=====================>........] - ETA: 52s - loss: 0.6754NEW epoch\n",
      "672/753 [=========================>....] - ETA: 22s - loss: 0.6753Traceback (most recent call last):\n",
      "  File \"G:\\ssd_detectors\\crnn_data.py\", line 120, in generate\n",
      "    self.grayscale)\n",
      "  File \"G:\\ssd_detectors\\crnn_data.py\", line 42, in crop_words\n",
      "    word_w = int(round(height * word_ar))\n",
      "OverflowError: cannot convert float infinity to integer\n",
      "\n",
      "data/ky_dataset/chardataset\\A002_R133_M_000.png\n",
      "753/753 [==============================] - 208s 276ms/step - loss: 0.6689\n",
      "\n",
      "Epoch 00016: saving model to ./checkpoints/202006231539_crnn_lstm_ky/weights.016.h5\n",
      "Epoch 17/40\n",
      "153/753 [=====>........................] - ETA: 2:44 - loss: 0.6367Traceback (most recent call last):\n",
      "  File \"G:\\ssd_detectors\\crnn_data.py\", line 120, in generate\n",
      "    self.grayscale)\n",
      "  File \"G:\\ssd_detectors\\crnn_data.py\", line 42, in crop_words\n",
      "    word_w = int(round(height * word_ar))\n",
      "OverflowError: cannot convert float infinity to integer\n",
      "\n",
      "data/ky_dataset/chardataset\\A002_R133_T_000.png\n",
      "189/753 [======>.......................] - ETA: 2:34 - loss: 0.6442Traceback (most recent call last):\n",
      "  File \"G:\\ssd_detectors\\crnn_data.py\", line 120, in generate\n",
      "    self.grayscale)\n",
      "  File \"G:\\ssd_detectors\\crnn_data.py\", line 42, in crop_words\n",
      "    word_w = int(round(height * word_ar))\n",
      "OverflowError: cannot convert float infinity to integer\n",
      "\n",
      "data/ky_dataset/chardataset\\A002_R133_B_000.png\n",
      "325/753 [===========>..................] - ETA: 1:57 - loss: 0.6490NEW epoch\n",
      "Traceback (most recent call last):\n",
      "  File \"G:\\ssd_detectors\\crnn_data.py\", line 120, in generate\n",
      "    self.grayscale)\n",
      "  File \"G:\\ssd_detectors\\crnn_data.py\", line 42, in crop_words\n",
      "    word_w = int(round(height * word_ar))\n",
      "OverflowError: cannot convert float infinity to integer\n",
      "\n",
      "data/ky_dataset/chardataset\\A002_R133_M_000.png\n"
     ]
    },
    {
     "name": "stdout",
     "output_type": "stream",
     "text": [
      "748/753 [============================>.] - ETA: 1s - loss: 0.6398Traceback (most recent call last):\n",
      "  File \"G:\\ssd_detectors\\crnn_data.py\", line 120, in generate\n",
      "    self.grayscale)\n",
      "  File \"G:\\ssd_detectors\\crnn_data.py\", line 42, in crop_words\n",
      "    word_w = int(round(height * word_ar))\n",
      "OverflowError: cannot convert float infinity to integer\n",
      "\n",
      "data/ky_dataset/chardataset\\A002_R133_T_000.png\n",
      "753/753 [==============================] - 207s 275ms/step - loss: 0.6403\n",
      "\n",
      "Epoch 00017: saving model to ./checkpoints/202006231539_crnn_lstm_ky/weights.017.h5\n",
      "Epoch 18/40\n",
      " 14/753 [..............................] - ETA: 3:22 - loss: 0.6864Traceback (most recent call last):\n",
      "  File \"G:\\ssd_detectors\\crnn_data.py\", line 120, in generate\n",
      "    self.grayscale)\n",
      "  File \"G:\\ssd_detectors\\crnn_data.py\", line 42, in crop_words\n",
      "    word_w = int(round(height * word_ar))\n",
      "OverflowError: cannot convert float infinity to integer\n",
      "\n",
      "data/ky_dataset/chardataset\\A002_R133_B_000.png\n",
      " 88/753 [==>...........................] - ETA: 3:02 - loss: 0.6234NEW epoch\n",
      "128/753 [====>.........................] - ETA: 2:51 - loss: 0.6280Traceback (most recent call last):\n",
      "  File \"G:\\ssd_detectors\\crnn_data.py\", line 120, in generate\n",
      "    self.grayscale)\n",
      "  File \"G:\\ssd_detectors\\crnn_data.py\", line 42, in crop_words\n",
      "    word_w = int(round(height * word_ar))\n",
      "OverflowError: cannot convert float infinity to integer\n",
      "\n",
      "data/ky_dataset/chardataset\\A002_R133_B_000.png\n",
      "141/753 [====>.........................] - ETA: 2:48 - loss: 0.6215Traceback (most recent call last):\n",
      "  File \"G:\\ssd_detectors\\crnn_data.py\", line 120, in generate\n",
      "    self.grayscale)\n",
      "  File \"G:\\ssd_detectors\\crnn_data.py\", line 42, in crop_words\n",
      "    word_w = int(round(height * word_ar))\n",
      "OverflowError: cannot convert float infinity to integer\n",
      "\n",
      "data/ky_dataset/chardataset\\A002_R133_T_000.png\n",
      "602/753 [======================>.......] - ETA: 1:04 - loss: 0.6323Traceback (most recent call last):\n",
      "  File \"G:\\ssd_detectors\\crnn_data.py\", line 120, in generate\n",
      "    self.grayscale)\n",
      "  File \"G:\\ssd_detectors\\crnn_data.py\", line 42, in crop_words\n",
      "    word_w = int(round(height * word_ar))\n",
      "OverflowError: cannot convert float infinity to integer\n",
      "\n",
      "data/ky_dataset/chardataset\\A002_R133_M_000.png\n",
      "614/753 [=======================>......] - ETA: 59s - loss: 0.6318NEW epoch\n",
      "694/753 [==========================>...] - ETA: 25s - loss: 0.6295Traceback (most recent call last):\n",
      "  File \"G:\\ssd_detectors\\crnn_data.py\", line 120, in generate\n",
      "    self.grayscale)\n",
      "  File \"G:\\ssd_detectors\\crnn_data.py\", line 42, in crop_words\n",
      "    word_w = int(round(height * word_ar))\n",
      "OverflowError: cannot convert float infinity to integer\n",
      "\n",
      "data/ky_dataset/chardataset\\A002_R133_M_000.png\n",
      "753/753 [==============================] - 335s 445ms/step - loss: 0.6259\n",
      "\n",
      "Epoch 00018: saving model to ./checkpoints/202006231539_crnn_lstm_ky/weights.018.h5\n",
      "Epoch 19/40\n",
      " 39/753 [>.............................] - ETA: 6:18 - loss: 0.6594Traceback (most recent call last):\n",
      "  File \"G:\\ssd_detectors\\crnn_data.py\", line 120, in generate\n",
      "    self.grayscale)\n",
      "  File \"G:\\ssd_detectors\\crnn_data.py\", line 42, in crop_words\n",
      "    word_w = int(round(height * word_ar))\n",
      "OverflowError: cannot convert float infinity to integer\n",
      "\n",
      "data/ky_dataset/chardataset\\A002_R133_B_000.png\n",
      " 93/753 [==>...........................] - ETA: 5:50 - loss: 0.6390Traceback (most recent call last):\n",
      "  File \"G:\\ssd_detectors\\crnn_data.py\", line 120, in generate\n",
      "    self.grayscale)\n",
      "  File \"G:\\ssd_detectors\\crnn_data.py\", line 42, in crop_words\n",
      "    word_w = int(round(height * word_ar))\n",
      "OverflowError: cannot convert float infinity to integer\n",
      "\n",
      "data/ky_dataset/chardataset\\A002_R133_T_000.png\n",
      "377/753 [==============>...............] - ETA: 3:21 - loss: 0.6155NEW epoch\n",
      "626/753 [=======================>......] - ETA: 1:04 - loss: 0.6096Traceback (most recent call last):\n",
      "  File \"G:\\ssd_detectors\\crnn_data.py\", line 120, in generate\n",
      "    self.grayscale)\n",
      "  File \"G:\\ssd_detectors\\crnn_data.py\", line 42, in crop_words\n",
      "    word_w = int(round(height * word_ar))\n",
      "OverflowError: cannot convert float infinity to integer\n",
      "\n",
      "data/ky_dataset/chardataset\\A002_R133_B_000.png\n",
      "692/753 [==========================>...] - ETA: 30s - loss: 0.6083Traceback (most recent call last):\n",
      "  File \"G:\\ssd_detectors\\crnn_data.py\", line 120, in generate\n",
      "    self.grayscale)\n",
      "  File \"G:\\ssd_detectors\\crnn_data.py\", line 42, in crop_words\n",
      "    word_w = int(round(height * word_ar))\n",
      "OverflowError: cannot convert float infinity to integer\n",
      "\n",
      "data/ky_dataset/chardataset\\A002_R133_M_000.png\n",
      "706/753 [===========================>..] - ETA: 23s - loss: 0.6064Traceback (most recent call last):\n",
      "  File \"G:\\ssd_detectors\\crnn_data.py\", line 120, in generate\n",
      "    self.grayscale)\n",
      "  File \"G:\\ssd_detectors\\crnn_data.py\", line 42, in crop_words\n",
      "    word_w = int(round(height * word_ar))\n",
      "OverflowError: cannot convert float infinity to integer\n",
      "\n",
      "data/ky_dataset/chardataset\\A002_R133_T_000.png\n",
      "753/753 [==============================] - 378s 502ms/step - loss: 0.6091\n",
      "\n",
      "Epoch 00019: saving model to ./checkpoints/202006231539_crnn_lstm_ky/weights.019.h5\n",
      "Epoch 20/40\n",
      "140/753 [====>.........................] - ETA: 4:44 - loss: 0.6256NEW epoch\n",
      "523/753 [===================>..........] - ETA: 1:14 - loss: 0.5990Traceback (most recent call last):\n",
      "  File \"G:\\ssd_detectors\\crnn_data.py\", line 120, in generate\n",
      "    self.grayscale)\n",
      "  File \"G:\\ssd_detectors\\crnn_data.py\", line 42, in crop_words\n",
      "    word_w = int(round(height * word_ar))\n",
      "OverflowError: cannot convert float infinity to integer\n",
      "\n",
      "data/ky_dataset/chardataset\\A002_R133_M_000.png\n",
      "596/753 [======================>.......] - ETA: 50s - loss: 0.6000Traceback (most recent call last):\n",
      "  File \"G:\\ssd_detectors\\crnn_data.py\", line 120, in generate\n",
      "    self.grayscale)\n",
      "  File \"G:\\ssd_detectors\\crnn_data.py\", line 42, in crop_words\n",
      "    word_w = int(round(height * word_ar))\n",
      "OverflowError: cannot convert float infinity to integer\n",
      "\n",
      "data/ky_dataset/chardataset\\A002_R133_B_000.png\n",
      "618/753 [=======================>......] - ETA: 42s - loss: 0.5973Traceback (most recent call last):\n",
      "  File \"G:\\ssd_detectors\\crnn_data.py\", line 120, in generate\n",
      "    self.grayscale)\n",
      "  File \"G:\\ssd_detectors\\crnn_data.py\", line 42, in crop_words\n",
      "    word_w = int(round(height * word_ar))\n",
      "OverflowError: cannot convert float infinity to integer\n",
      "\n",
      "data/ky_dataset/chardataset\\A002_R133_T_000.png\n",
      "646/753 [========================>.....] - ETA: 33s - loss: 0.5982NEW epoch\n",
      "727/753 [===========================>..] - ETA: 8s - loss: 0.5957Traceback (most recent call last):\n",
      "  File \"G:\\ssd_detectors\\crnn_data.py\", line 120, in generate\n",
      "    self.grayscale)\n",
      "  File \"G:\\ssd_detectors\\crnn_data.py\", line 42, in crop_words\n",
      "    word_w = int(round(height * word_ar))\n",
      "OverflowError: cannot convert float infinity to integer\n",
      "\n",
      "data/ky_dataset/chardataset\\A002_R133_T_000.png\n",
      "753/753 [==============================] - 234s 310ms/step - loss: 0.5951\n",
      "\n",
      "Epoch 00020: saving model to ./checkpoints/202006231539_crnn_lstm_ky/weights.020.h5\n",
      "Epoch 21/40\n",
      " 13/753 [..............................] - ETA: 3:24 - loss: 0.5898Traceback (most recent call last):\n",
      "  File \"G:\\ssd_detectors\\crnn_data.py\", line 120, in generate\n",
      "    self.grayscale)\n",
      "  File \"G:\\ssd_detectors\\crnn_data.py\", line 42, in crop_words\n",
      "    word_w = int(round(height * word_ar))\n",
      "OverflowError: cannot convert float infinity to integer\n",
      "\n",
      "data/ky_dataset/chardataset\\A002_R133_B_000.png\n",
      "360/753 [=============>................] - ETA: 1:48 - loss: 0.5738Traceback (most recent call last):\n",
      "  File \"G:\\ssd_detectors\\crnn_data.py\", line 120, in generate\n",
      "    self.grayscale)\n",
      "  File \"G:\\ssd_detectors\\crnn_data.py\", line 42, in crop_words\n",
      "    word_w = int(round(height * word_ar))\n",
      "OverflowError: cannot convert float infinity to integer\n",
      "\n",
      "data/ky_dataset/chardataset\\A002_R133_M_000.png\n",
      "409/753 [===============>..............] - ETA: 1:35 - loss: 0.5762NEW epoch\n",
      "601/753 [======================>.......] - ETA: 42s - loss: 0.5809Traceback (most recent call last):\n",
      "  File \"G:\\ssd_detectors\\crnn_data.py\", line 120, in generate\n",
      "    self.grayscale)\n",
      "  File \"G:\\ssd_detectors\\crnn_data.py\", line 42, in crop_words\n",
      "    word_w = int(round(height * word_ar))\n",
      "OverflowError: cannot convert float infinity to integer\n",
      "\n",
      "data/ky_dataset/chardataset\\A002_R133_T_000.png\n"
     ]
    },
    {
     "name": "stdout",
     "output_type": "stream",
     "text": [
      "753/753 [==============================] - 210s 278ms/step - loss: 0.5744\n",
      "\n",
      "Epoch 00021: saving model to ./checkpoints/202006231539_crnn_lstm_ky/weights.021.h5\n",
      "Epoch 22/40\n",
      " 28/753 [>.............................] - ETA: 3:19 - loss: 0.6455Traceback (most recent call last):\n",
      "  File \"G:\\ssd_detectors\\crnn_data.py\", line 120, in generate\n",
      "    self.grayscale)\n",
      "  File \"G:\\ssd_detectors\\crnn_data.py\", line 42, in crop_words\n",
      "    word_w = int(round(height * word_ar))\n",
      "OverflowError: cannot convert float infinity to integer\n",
      "\n",
      "data/ky_dataset/chardataset\\A002_R133_B_000.png\n",
      "143/753 [====>.........................] - ETA: 2:47 - loss: 0.5779Traceback (most recent call last):\n",
      "  File \"G:\\ssd_detectors\\crnn_data.py\", line 120, in generate\n",
      "    self.grayscale)\n",
      "  File \"G:\\ssd_detectors\\crnn_data.py\", line 42, in crop_words\n",
      "    word_w = int(round(height * word_ar))\n",
      "OverflowError: cannot convert float infinity to integer\n",
      "\n",
      "data/ky_dataset/chardataset\\A002_R133_M_000.png\n",
      "172/753 [=====>........................] - ETA: 2:40 - loss: 0.5703NEW epoch\n",
      "324/753 [===========>..................] - ETA: 1:58 - loss: 0.5518Traceback (most recent call last):\n",
      "  File \"G:\\ssd_detectors\\crnn_data.py\", line 120, in generate\n",
      "    self.grayscale)\n",
      "  File \"G:\\ssd_detectors\\crnn_data.py\", line 42, in crop_words\n",
      "    word_w = int(round(height * word_ar))\n",
      "OverflowError: cannot convert float infinity to integer\n",
      "\n",
      "data/ky_dataset/chardataset\\A002_R133_M_000.png\n",
      "379/753 [==============>...............] - ETA: 1:43 - loss: 0.5599Traceback (most recent call last):\n",
      "  File \"G:\\ssd_detectors\\crnn_data.py\", line 120, in generate\n",
      "    self.grayscale)\n",
      "  File \"G:\\ssd_detectors\\crnn_data.py\", line 42, in crop_words\n",
      "    word_w = int(round(height * word_ar))\n",
      "OverflowError: cannot convert float infinity to integer\n",
      "\n",
      "data/ky_dataset/chardataset\\A002_R133_T_000.png\n",
      "456/753 [=================>............] - ETA: 1:21 - loss: 0.5597Traceback (most recent call last):\n",
      "  File \"G:\\ssd_detectors\\crnn_data.py\", line 120, in generate\n",
      "    self.grayscale)\n",
      "  File \"G:\\ssd_detectors\\crnn_data.py\", line 42, in crop_words\n",
      "    word_w = int(round(height * word_ar))\n",
      "OverflowError: cannot convert float infinity to integer\n",
      "\n",
      "data/ky_dataset/chardataset\\A002_R133_B_000.png\n",
      "688/753 [==========================>...] - ETA: 17s - loss: 0.5610NEW epoch\n",
      "753/753 [==============================] - 207s 275ms/step - loss: 0.5580\n",
      "\n",
      "Epoch 00022: saving model to ./checkpoints/202006231539_crnn_lstm_ky/weights.022.h5\n",
      "Epoch 23/40\n",
      " 38/753 [>.............................] - ETA: 3:17 - loss: 0.5492Traceback (most recent call last):\n",
      "  File \"G:\\ssd_detectors\\crnn_data.py\", line 120, in generate\n",
      "    self.grayscale)\n",
      "  File \"G:\\ssd_detectors\\crnn_data.py\", line 42, in crop_words\n",
      "    word_w = int(round(height * word_ar))\n",
      "OverflowError: cannot convert float infinity to integer\n",
      "\n",
      "data/ky_dataset/chardataset\\A002_R133_T_000.png\n",
      " 40/753 [>.............................] - ETA: 3:17 - loss: 0.5462Traceback (most recent call last):\n",
      "  File \"G:\\ssd_detectors\\crnn_data.py\", line 120, in generate\n",
      "    self.grayscale)\n",
      "  File \"G:\\ssd_detectors\\crnn_data.py\", line 42, in crop_words\n",
      "    word_w = int(round(height * word_ar))\n",
      "OverflowError: cannot convert float infinity to integer\n",
      "\n",
      "data/ky_dataset/chardataset\\A002_R133_M_000.png\n",
      "194/753 [======>.......................] - ETA: 2:34 - loss: 0.5619Traceback (most recent call last):\n",
      "  File \"G:\\ssd_detectors\\crnn_data.py\", line 120, in generate\n",
      "    self.grayscale)\n",
      "  File \"G:\\ssd_detectors\\crnn_data.py\", line 42, in crop_words\n",
      "    word_w = int(round(height * word_ar))\n",
      "OverflowError: cannot convert float infinity to integer\n",
      "\n",
      "data/ky_dataset/chardataset\\A002_R133_B_000.png\n",
      "451/753 [================>.............] - ETA: 1:23 - loss: 0.5495NEW epoch\n",
      "480/753 [==================>...........] - ETA: 1:15 - loss: 0.5498Traceback (most recent call last):\n",
      "  File \"G:\\ssd_detectors\\crnn_data.py\", line 120, in generate\n",
      "    self.grayscale)\n",
      "  File \"G:\\ssd_detectors\\crnn_data.py\", line 42, in crop_words\n",
      "    word_w = int(round(height * word_ar))\n",
      "OverflowError: cannot convert float infinity to integer\n",
      "\n",
      "data/ky_dataset/chardataset\\A002_R133_T_000.png\n",
      "629/753 [========================>.....] - ETA: 34s - loss: 0.5496Traceback (most recent call last):\n",
      "  File \"G:\\ssd_detectors\\crnn_data.py\", line 120, in generate\n",
      "    self.grayscale)\n",
      "  File \"G:\\ssd_detectors\\crnn_data.py\", line 42, in crop_words\n",
      "    word_w = int(round(height * word_ar))\n",
      "OverflowError: cannot convert float infinity to integer\n",
      "\n",
      "data/ky_dataset/chardataset\\A002_R133_B_000.png\n",
      "753/753 [==============================] - 208s 276ms/step - loss: 0.5471\n",
      "\n",
      "Epoch 00023: saving model to ./checkpoints/202006231539_crnn_lstm_ky/weights.023.h5\n",
      "Epoch 24/40\n",
      "209/753 [=======>......................] - ETA: 2:30 - loss: 0.5329Traceback (most recent call last):\n",
      "  File \"G:\\ssd_detectors\\crnn_data.py\", line 120, in generate\n",
      "    self.grayscale)\n",
      "  File \"G:\\ssd_detectors\\crnn_data.py\", line 42, in crop_words\n",
      "    word_w = int(round(height * word_ar))\n",
      "OverflowError: cannot convert float infinity to integer\n",
      "\n",
      "data/ky_dataset/chardataset\\A002_R133_M_000.png\n",
      "214/753 [=======>......................] - ETA: 2:28 - loss: 0.5315NEW epoch\n",
      "393/753 [==============>...............] - ETA: 1:39 - loss: 0.5318Traceback (most recent call last):\n",
      "  File \"G:\\ssd_detectors\\crnn_data.py\", line 120, in generate\n",
      "    self.grayscale)\n",
      "  File \"G:\\ssd_detectors\\crnn_data.py\", line 42, in crop_words\n",
      "    word_w = int(round(height * word_ar))\n",
      "OverflowError: cannot convert float infinity to integer\n",
      "\n",
      "data/ky_dataset/chardataset\\A002_R133_T_000.png\n",
      "564/753 [=====================>........] - ETA: 52s - loss: 0.5335Traceback (most recent call last):\n",
      "  File \"G:\\ssd_detectors\\crnn_data.py\", line 120, in generate\n",
      "    self.grayscale)\n",
      "  File \"G:\\ssd_detectors\\crnn_data.py\", line 42, in crop_words\n",
      "    word_w = int(round(height * word_ar))\n",
      "OverflowError: cannot convert float infinity to integer\n",
      "\n",
      "data/ky_dataset/chardataset\\A002_R133_B_000.png\n",
      "619/753 [=======================>......] - ETA: 36s - loss: 0.5351Traceback (most recent call last):\n",
      "  File \"G:\\ssd_detectors\\crnn_data.py\", line 120, in generate\n",
      "    self.grayscale)\n",
      "  File \"G:\\ssd_detectors\\crnn_data.py\", line 42, in crop_words\n",
      "    word_w = int(round(height * word_ar))\n",
      "OverflowError: cannot convert float infinity to integer\n",
      "\n",
      "data/ky_dataset/chardataset\\A002_R133_M_000.png\n",
      "730/753 [============================>.] - ETA: 6s - loss: 0.5349NEW epoch\n",
      "753/753 [==============================] - 208s 276ms/step - loss: 0.5328\n",
      "\n",
      "Epoch 00024: saving model to ./checkpoints/202006231539_crnn_lstm_ky/weights.024.h5\n",
      "Epoch 25/40\n",
      "  5/753 [..............................] - ETA: 3:26 - loss: 0.5457Traceback (most recent call last):\n",
      "  File \"G:\\ssd_detectors\\crnn_data.py\", line 120, in generate\n",
      "    self.grayscale)\n",
      "  File \"G:\\ssd_detectors\\crnn_data.py\", line 42, in crop_words\n",
      "    word_w = int(round(height * word_ar))\n",
      "OverflowError: cannot convert float infinity to integer\n",
      "\n",
      "data/ky_dataset/chardataset\\A002_R133_T_000.png\n",
      "103/753 [===>..........................] - ETA: 2:58 - loss: 0.5181Traceback (most recent call last):\n",
      "  File \"G:\\ssd_detectors\\crnn_data.py\", line 120, in generate\n",
      "    self.grayscale)\n",
      "  File \"G:\\ssd_detectors\\crnn_data.py\", line 42, in crop_words\n",
      "    word_w = int(round(height * word_ar))\n",
      "OverflowError: cannot convert float infinity to integer\n",
      "\n",
      "data/ky_dataset/chardataset\\A002_R133_B_000.png\n",
      "104/753 [===>..........................] - ETA: 2:58 - loss: 0.5181Traceback (most recent call last):\n",
      "  File \"G:\\ssd_detectors\\crnn_data.py\", line 120, in generate\n",
      "    self.grayscale)\n",
      "  File \"G:\\ssd_detectors\\crnn_data.py\", line 42, in crop_words\n",
      "    word_w = int(round(height * word_ar))\n",
      "OverflowError: cannot convert float infinity to integer\n",
      "\n",
      "data/ky_dataset/chardataset\\A002_R133_M_000.png\n",
      "493/753 [==================>...........] - ETA: 1:11 - loss: 0.5297NEW epoch\n",
      "641/753 [========================>.....] - ETA: 30s - loss: 0.5226Traceback (most recent call last):\n",
      "  File \"G:\\ssd_detectors\\crnn_data.py\", line 120, in generate\n",
      "    self.grayscale)\n",
      "  File \"G:\\ssd_detectors\\crnn_data.py\", line 42, in crop_words\n",
      "    word_w = int(round(height * word_ar))\n",
      "OverflowError: cannot convert float infinity to integer\n",
      "\n",
      "data/ky_dataset/chardataset\\A002_R133_B_000.png\n"
     ]
    },
    {
     "name": "stdout",
     "output_type": "stream",
     "text": [
      "753/753 [==============================] - 209s 277ms/step - loss: 0.5208\n",
      "\n",
      "Epoch 00025: saving model to ./checkpoints/202006231539_crnn_lstm_ky/weights.025.h5\n",
      "Epoch 26/40\n",
      "154/753 [=====>........................] - ETA: 2:45 - loss: 0.5201Traceback (most recent call last):\n",
      "  File \"G:\\ssd_detectors\\crnn_data.py\", line 120, in generate\n",
      "    self.grayscale)\n",
      "  File \"G:\\ssd_detectors\\crnn_data.py\", line 42, in crop_words\n",
      "    word_w = int(round(height * word_ar))\n",
      "OverflowError: cannot convert float infinity to integer\n",
      "\n",
      "data/ky_dataset/chardataset\\A002_R133_T_000.png\n",
      "200/753 [======>.......................] - ETA: 2:32 - loss: 0.5106Traceback (most recent call last):\n",
      "  File \"G:\\ssd_detectors\\crnn_data.py\", line 120, in generate\n",
      "    self.grayscale)\n",
      "  File \"G:\\ssd_detectors\\crnn_data.py\", line 42, in crop_words\n",
      "    word_w = int(round(height * word_ar))\n",
      "OverflowError: cannot convert float infinity to integer\n",
      "\n",
      "data/ky_dataset/chardataset\\A002_R133_M_000.png\n",
      "256/753 [=========>....................] - ETA: 2:16 - loss: 0.5038NEW epoch\n",
      "351/753 [============>.................] - ETA: 1:50 - loss: 0.5063Traceback (most recent call last):\n",
      "  File \"G:\\ssd_detectors\\crnn_data.py\", line 120, in generate\n",
      "    self.grayscale)\n",
      "  File \"G:\\ssd_detectors\\crnn_data.py\", line 42, in crop_words\n",
      "    word_w = int(round(height * word_ar))\n",
      "OverflowError: cannot convert float infinity to integer\n",
      "\n",
      "data/ky_dataset/chardataset\\A002_R133_M_000.png\n",
      "516/753 [===================>..........] - ETA: 1:05 - loss: 0.5090Traceback (most recent call last):\n",
      "  File \"G:\\ssd_detectors\\crnn_data.py\", line 120, in generate\n",
      "    self.grayscale)\n",
      "  File \"G:\\ssd_detectors\\crnn_data.py\", line 42, in crop_words\n",
      "    word_w = int(round(height * word_ar))\n",
      "OverflowError: cannot convert float infinity to integer\n",
      "\n",
      "data/ky_dataset/chardataset\\A002_R133_B_000.png\n",
      "749/753 [============================>.] - ETA: 1s - loss: 0.5041Traceback (most recent call last):\n",
      "  File \"G:\\ssd_detectors\\crnn_data.py\", line 120, in generate\n",
      "    self.grayscale)\n",
      "  File \"G:\\ssd_detectors\\crnn_data.py\", line 42, in crop_words\n",
      "    word_w = int(round(height * word_ar))\n",
      "OverflowError: cannot convert float infinity to integer\n",
      "\n",
      "data/ky_dataset/chardataset\\A002_R133_T_000.png\n",
      "753/753 [==============================] - 207s 275ms/step - loss: 0.5033\n",
      "\n",
      "Epoch 00026: saving model to ./checkpoints/202006231539_crnn_lstm_ky/weights.026.h5\n",
      "Epoch 27/40\n",
      " 19/753 [..............................] - ETA: 3:21 - loss: 0.4746NEW epoch\n",
      "181/753 [======>.......................] - ETA: 2:37 - loss: 0.4697Traceback (most recent call last):\n",
      "  File \"G:\\ssd_detectors\\crnn_data.py\", line 120, in generate\n",
      "    self.grayscale)\n",
      "  File \"G:\\ssd_detectors\\crnn_data.py\", line 42, in crop_words\n",
      "    word_w = int(round(height * word_ar))\n",
      "OverflowError: cannot convert float infinity to integer\n",
      "\n",
      "data/ky_dataset/chardataset\\A002_R133_M_000.png\n",
      "183/753 [======>.......................] - ETA: 2:37 - loss: 0.4695Traceback (most recent call last):\n",
      "  File \"G:\\ssd_detectors\\crnn_data.py\", line 120, in generate\n",
      "    self.grayscale)\n",
      "  File \"G:\\ssd_detectors\\crnn_data.py\", line 42, in crop_words\n",
      "    word_w = int(round(height * word_ar))\n",
      "OverflowError: cannot convert float infinity to integer\n",
      "\n",
      "data/ky_dataset/chardataset\\A002_R133_T_000.png\n",
      "422/753 [===============>..............] - ETA: 1:31 - loss: 0.4847\n",
      "Saving model ./checkpoints/202006231539_crnn_lstm_ky\\weights.020000.h5\n",
      "469/753 [=================>............] - ETA: 1:18 - loss: 0.4917Traceback (most recent call last):\n",
      "  File \"G:\\ssd_detectors\\crnn_data.py\", line 120, in generate\n",
      "    self.grayscale)\n",
      "  File \"G:\\ssd_detectors\\crnn_data.py\", line 42, in crop_words\n",
      "    word_w = int(round(height * word_ar))\n",
      "OverflowError: cannot convert float infinity to integer\n",
      "\n",
      "data/ky_dataset/chardataset\\A002_R133_B_000.png\n",
      "535/753 [====================>.........] - ETA: 1:00 - loss: 0.4921NEW epoch\n",
      "715/753 [===========================>..] - ETA: 10s - loss: 0.4928Traceback (most recent call last):\n",
      "  File \"G:\\ssd_detectors\\crnn_data.py\", line 120, in generate\n",
      "    self.grayscale)\n",
      "  File \"G:\\ssd_detectors\\crnn_data.py\", line 42, in crop_words\n",
      "    word_w = int(round(height * word_ar))\n",
      "OverflowError: cannot convert float infinity to integer\n",
      "\n",
      "data/ky_dataset/chardataset\\A002_R133_T_000.png\n",
      "753/753 [==============================] - 207s 276ms/step - loss: 0.4922\n",
      "\n",
      "Epoch 00027: saving model to ./checkpoints/202006231539_crnn_lstm_ky/weights.027.h5\n",
      "Epoch 28/40\n",
      " 64/753 [=>............................] - ETA: 3:09 - loss: 0.4519Traceback (most recent call last):\n",
      "  File \"G:\\ssd_detectors\\crnn_data.py\", line 120, in generate\n",
      "    self.grayscale)\n",
      "  File \"G:\\ssd_detectors\\crnn_data.py\", line 42, in crop_words\n",
      "    word_w = int(round(height * word_ar))\n",
      "OverflowError: cannot convert float infinity to integer\n",
      "\n",
      "data/ky_dataset/chardataset\\A002_R133_M_000.png\n",
      "164/753 [=====>........................] - ETA: 2:42 - loss: 0.4928Traceback (most recent call last):\n",
      "  File \"G:\\ssd_detectors\\crnn_data.py\", line 120, in generate\n",
      "    self.grayscale)\n",
      "  File \"G:\\ssd_detectors\\crnn_data.py\", line 42, in crop_words\n",
      "    word_w = int(round(height * word_ar))\n",
      "OverflowError: cannot convert float infinity to integer\n",
      "\n",
      "data/ky_dataset/chardataset\\A002_R133_B_000.png\n",
      "298/753 [==========>...................] - ETA: 2:05 - loss: 0.4801NEW epoch\n",
      "372/753 [=============>................] - ETA: 1:44 - loss: 0.4847Traceback (most recent call last):\n",
      "  File \"G:\\ssd_detectors\\crnn_data.py\", line 120, in generate\n",
      "    self.grayscale)\n",
      "  File \"G:\\ssd_detectors\\crnn_data.py\", line 42, in crop_words\n",
      "    word_w = int(round(height * word_ar))\n",
      "OverflowError: cannot convert float infinity to integer\n",
      "\n",
      "data/ky_dataset/chardataset\\A002_R133_M_000.png\n",
      "391/753 [==============>...............] - ETA: 1:39 - loss: 0.4834Traceback (most recent call last):\n",
      "  File \"G:\\ssd_detectors\\crnn_data.py\", line 120, in generate\n",
      "    self.grayscale)\n",
      "  File \"G:\\ssd_detectors\\crnn_data.py\", line 42, in crop_words\n",
      "    word_w = int(round(height * word_ar))\n",
      "OverflowError: cannot convert float infinity to integer\n",
      "\n",
      "data/ky_dataset/chardataset\\A002_R133_B_000.png\n",
      "753/753 [==============================] - 207s 275ms/step - loss: 0.4807\n",
      "\n",
      "Epoch 00028: saving model to ./checkpoints/202006231539_crnn_lstm_ky/weights.028.h5\n",
      "Epoch 29/40\n",
      " 57/753 [=>............................] - ETA: 3:11 - loss: 0.4770Traceback (most recent call last):\n",
      "  File \"G:\\ssd_detectors\\crnn_data.py\", line 120, in generate\n",
      "    self.grayscale)\n",
      "  File \"G:\\ssd_detectors\\crnn_data.py\", line 42, in crop_words\n",
      "    word_w = int(round(height * word_ar))\n",
      "OverflowError: cannot convert float infinity to integer\n",
      "\n",
      "data/ky_dataset/chardataset\\A002_R133_T_000.png\n",
      " 61/753 [=>............................] - ETA: 3:10 - loss: 0.4750NEW epoch\n",
      "175/753 [=====>........................] - ETA: 2:39 - loss: 0.4730Traceback (most recent call last):\n",
      "  File \"G:\\ssd_detectors\\crnn_data.py\", line 120, in generate\n",
      "    self.grayscale)\n",
      "  File \"G:\\ssd_detectors\\crnn_data.py\", line 42, in crop_words\n",
      "    word_w = int(round(height * word_ar))\n",
      "OverflowError: cannot convert float infinity to integer\n",
      "\n",
      "data/ky_dataset/chardataset\\A002_R133_T_000.png\n",
      "245/753 [========>.....................] - ETA: 2:20 - loss: 0.4758Traceback (most recent call last):\n",
      "  File \"G:\\ssd_detectors\\crnn_data.py\", line 120, in generate\n",
      "    self.grayscale)\n",
      "  File \"G:\\ssd_detectors\\crnn_data.py\", line 42, in crop_words\n",
      "    word_w = int(round(height * word_ar))\n",
      "OverflowError: cannot convert float infinity to integer\n",
      "\n",
      "data/ky_dataset/chardataset\\A002_R133_M_000.png\n",
      "267/753 [=========>....................] - ETA: 2:13 - loss: 0.4763Traceback (most recent call last):\n",
      "  File \"G:\\ssd_detectors\\crnn_data.py\", line 120, in generate\n",
      "    self.grayscale)\n",
      "  File \"G:\\ssd_detectors\\crnn_data.py\", line 42, in crop_words\n",
      "    word_w = int(round(height * word_ar))\n",
      "OverflowError: cannot convert float infinity to integer\n",
      "\n",
      "data/ky_dataset/chardataset\\A002_R133_B_000.png\n",
      "577/753 [=====================>........] - ETA: 48s - loss: 0.4730NEW epoch\n",
      "623/753 [=======================>......] - ETA: 35s - loss: 0.4715Traceback (most recent call last):\n",
      "  File \"G:\\ssd_detectors\\crnn_data.py\", line 120, in generate\n",
      "    self.grayscale)\n",
      "  File \"G:\\ssd_detectors\\crnn_data.py\", line 42, in crop_words\n",
      "    word_w = int(round(height * word_ar))\n",
      "OverflowError: cannot convert float infinity to integer\n",
      "\n",
      "data/ky_dataset/chardataset\\A002_R133_B_000.png\n"
     ]
    },
    {
     "name": "stdout",
     "output_type": "stream",
     "text": [
      "731/753 [============================>.] - ETA: 6s - loss: 0.4716Traceback (most recent call last):\n",
      "  File \"G:\\ssd_detectors\\crnn_data.py\", line 120, in generate\n",
      "    self.grayscale)\n",
      "  File \"G:\\ssd_detectors\\crnn_data.py\", line 42, in crop_words\n",
      "    word_w = int(round(height * word_ar))\n",
      "OverflowError: cannot convert float infinity to integer\n",
      "\n",
      "data/ky_dataset/chardataset\\A002_R133_T_000.png\n",
      "753/753 [==============================] - 207s 276ms/step - loss: 0.4717\n",
      "\n",
      "Epoch 00029: saving model to ./checkpoints/202006231539_crnn_lstm_ky/weights.029.h5\n",
      "Epoch 30/40\n",
      "276/753 [=========>....................] - ETA: 2:11 - loss: 0.4695Traceback (most recent call last):\n",
      "  File \"G:\\ssd_detectors\\crnn_data.py\", line 120, in generate\n",
      "    self.grayscale)\n",
      "  File \"G:\\ssd_detectors\\crnn_data.py\", line 42, in crop_words\n",
      "    word_w = int(round(height * word_ar))\n",
      "OverflowError: cannot convert float infinity to integer\n",
      "\n",
      "data/ky_dataset/chardataset\\A002_R133_M_000.png\n",
      "340/753 [============>.................] - ETA: 1:53 - loss: 0.4708NEW epoch\n",
      "378/753 [==============>...............] - ETA: 1:43 - loss: 0.4687Traceback (most recent call last):\n",
      "  File \"G:\\ssd_detectors\\crnn_data.py\", line 120, in generate\n",
      "    self.grayscale)\n",
      "  File \"G:\\ssd_detectors\\crnn_data.py\", line 42, in crop_words\n",
      "    word_w = int(round(height * word_ar))\n",
      "OverflowError: cannot convert float infinity to integer\n",
      "\n",
      "data/ky_dataset/chardataset\\A002_R133_M_000.png\n",
      "399/753 [==============>...............] - ETA: 1:37 - loss: 0.4700Traceback (most recent call last):\n",
      "  File \"G:\\ssd_detectors\\crnn_data.py\", line 120, in generate\n",
      "    self.grayscale)\n",
      "  File \"G:\\ssd_detectors\\crnn_data.py\", line 42, in crop_words\n",
      "    word_w = int(round(height * word_ar))\n",
      "OverflowError: cannot convert float infinity to integer\n",
      "\n",
      "data/ky_dataset/chardataset\\A002_R133_T_000.png\n",
      "587/753 [======================>.......] - ETA: 45s - loss: 0.4628Traceback (most recent call last):\n",
      "  File \"G:\\ssd_detectors\\crnn_data.py\", line 120, in generate\n",
      "    self.grayscale)\n",
      "  File \"G:\\ssd_detectors\\crnn_data.py\", line 42, in crop_words\n",
      "    word_w = int(round(height * word_ar))\n",
      "OverflowError: cannot convert float infinity to integer\n",
      "\n",
      "data/ky_dataset/chardataset\\A002_R133_B_000.png\n",
      "753/753 [==============================] - 207s 275ms/step - loss: 0.4604\n",
      "\n",
      "Epoch 00030: saving model to ./checkpoints/202006231539_crnn_lstm_ky/weights.030.h5\n",
      "Epoch 31/40\n",
      "103/753 [===>..........................] - ETA: 2:59 - loss: 0.4775NEW epoch\n",
      "114/753 [===>..........................] - ETA: 2:56 - loss: 0.4786Traceback (most recent call last):\n",
      "  File \"G:\\ssd_detectors\\crnn_data.py\", line 120, in generate\n",
      "    self.grayscale)\n",
      "  File \"G:\\ssd_detectors\\crnn_data.py\", line 42, in crop_words\n",
      "    word_w = int(round(height * word_ar))\n",
      "OverflowError: cannot convert float infinity to integer\n",
      "\n",
      "data/ky_dataset/chardataset\\A002_R133_M_000.png\n",
      "411/753 [===============>..............] - ETA: 1:34 - loss: 0.4589Traceback (most recent call last):\n",
      "  File \"G:\\ssd_detectors\\crnn_data.py\", line 120, in generate\n",
      "    self.grayscale)\n",
      "  File \"G:\\ssd_detectors\\crnn_data.py\", line 42, in crop_words\n",
      "    word_w = int(round(height * word_ar))\n",
      "OverflowError: cannot convert float infinity to integer\n",
      "\n",
      "data/ky_dataset/chardataset\\A002_R133_T_000.png\n",
      "574/753 [=====================>........] - ETA: 49s - loss: 0.4515Traceback (most recent call last):\n",
      "  File \"G:\\ssd_detectors\\crnn_data.py\", line 120, in generate\n",
      "    self.grayscale)\n",
      "  File \"G:\\ssd_detectors\\crnn_data.py\", line 42, in crop_words\n",
      "    word_w = int(round(height * word_ar))\n",
      "OverflowError: cannot convert float infinity to integer\n",
      "\n",
      "data/ky_dataset/chardataset\\A002_R133_B_000.png\n",
      "619/753 [=======================>......] - ETA: 36s - loss: 0.4521NEW epoch\n",
      "672/753 [=========================>....] - ETA: 22s - loss: 0.4528Traceback (most recent call last):\n",
      "  File \"G:\\ssd_detectors\\crnn_data.py\", line 120, in generate\n",
      "    self.grayscale)\n",
      "  File \"G:\\ssd_detectors\\crnn_data.py\", line 42, in crop_words\n",
      "    word_w = int(round(height * word_ar))\n",
      "OverflowError: cannot convert float infinity to integer\n",
      "\n",
      "data/ky_dataset/chardataset\\A002_R133_B_000.png\n",
      "753/753 [==============================] - 208s 276ms/step - loss: 0.4522\n",
      "\n",
      "Epoch 00031: saving model to ./checkpoints/202006231539_crnn_lstm_ky/weights.031.h5\n",
      "Epoch 32/40\n",
      "243/753 [========>.....................] - ETA: 2:20 - loss: 0.4455Traceback (most recent call last):\n",
      "  File \"G:\\ssd_detectors\\crnn_data.py\", line 120, in generate\n",
      "    self.grayscale)\n",
      "  File \"G:\\ssd_detectors\\crnn_data.py\", line 42, in crop_words\n",
      "    word_w = int(round(height * word_ar))\n",
      "OverflowError: cannot convert float infinity to integer\n",
      "\n",
      "data/ky_dataset/chardataset\\A002_R133_M_000.png\n",
      "265/753 [=========>....................] - ETA: 2:14 - loss: 0.4443Traceback (most recent call last):\n",
      "  File \"G:\\ssd_detectors\\crnn_data.py\", line 120, in generate\n",
      "    self.grayscale)\n",
      "  File \"G:\\ssd_detectors\\crnn_data.py\", line 42, in crop_words\n",
      "    word_w = int(round(height * word_ar))\n",
      "OverflowError: cannot convert float infinity to integer\n",
      "\n",
      "data/ky_dataset/chardataset\\A002_R133_T_000.png\n",
      "382/753 [==============>...............] - ETA: 1:42 - loss: 0.4495NEW epoch\n",
      "554/753 [=====================>........] - ETA: 54s - loss: 0.4488Traceback (most recent call last):\n",
      "  File \"G:\\ssd_detectors\\crnn_data.py\", line 120, in generate\n",
      "    self.grayscale)\n",
      "  File \"G:\\ssd_detectors\\crnn_data.py\", line 42, in crop_words\n",
      "    word_w = int(round(height * word_ar))\n",
      "OverflowError: cannot convert float infinity to integer\n",
      "\n",
      "data/ky_dataset/chardataset\\A002_R133_M_000.png\n",
      "753/753 [==============================] - 207s 275ms/step - loss: 0.4488\n",
      "\n",
      "Epoch 00032: saving model to ./checkpoints/202006231539_crnn_lstm_ky/weights.032.h5\n",
      "Epoch 33/40\n",
      " 28/753 [>.............................] - ETA: 3:22 - loss: 0.4708Traceback (most recent call last):\n",
      "  File \"G:\\ssd_detectors\\crnn_data.py\", line 120, in generate\n",
      "    self.grayscale)\n",
      "  File \"G:\\ssd_detectors\\crnn_data.py\", line 42, in crop_words\n",
      "    word_w = int(round(height * word_ar))\n",
      "OverflowError: cannot convert float infinity to integer\n",
      "\n",
      "data/ky_dataset/chardataset\\A002_R133_B_000.png\n",
      "115/753 [===>..........................] - ETA: 2:56 - loss: 0.4514Traceback (most recent call last):\n",
      "  File \"G:\\ssd_detectors\\crnn_data.py\", line 120, in generate\n",
      "    self.grayscale)\n",
      "  File \"G:\\ssd_detectors\\crnn_data.py\", line 42, in crop_words\n",
      "    word_w = int(round(height * word_ar))\n",
      "OverflowError: cannot convert float infinity to integer\n",
      "\n",
      "data/ky_dataset/chardataset\\A002_R133_T_000.png\n",
      "145/753 [====>.........................] - ETA: 2:48 - loss: 0.4499NEW epoch\n",
      "281/753 [==========>...................] - ETA: 2:10 - loss: 0.4521Traceback (most recent call last):\n",
      "  File \"G:\\ssd_detectors\\crnn_data.py\", line 120, in generate\n",
      "    self.grayscale)\n",
      "  File \"G:\\ssd_detectors\\crnn_data.py\", line 42, in crop_words\n",
      "    word_w = int(round(height * word_ar))\n",
      "OverflowError: cannot convert float infinity to integer\n",
      "\n",
      "data/ky_dataset/chardataset\\A002_R133_M_000.png\n",
      "359/753 [=============>................] - ETA: 1:48 - loss: 0.4458Traceback (most recent call last):\n",
      "  File \"G:\\ssd_detectors\\crnn_data.py\", line 120, in generate\n",
      "    self.grayscale)\n",
      "  File \"G:\\ssd_detectors\\crnn_data.py\", line 42, in crop_words\n",
      "    word_w = int(round(height * word_ar))\n",
      "OverflowError: cannot convert float infinity to integer\n",
      "\n",
      "data/ky_dataset/chardataset\\A002_R133_B_000.png\n",
      "433/753 [================>.............] - ETA: 1:28 - loss: 0.4410Traceback (most recent call last):\n",
      "  File \"G:\\ssd_detectors\\crnn_data.py\", line 120, in generate\n",
      "    self.grayscale)\n",
      "  File \"G:\\ssd_detectors\\crnn_data.py\", line 42, in crop_words\n",
      "    word_w = int(round(height * word_ar))\n",
      "OverflowError: cannot convert float infinity to integer\n",
      "\n",
      "data/ky_dataset/chardataset\\A002_R133_T_000.png\n",
      "661/753 [=========================>....] - ETA: 25s - loss: 0.4370NEW epoch\n",
      "753/753 [==============================] - 207s 276ms/step - loss: 0.4345\n",
      "\n",
      "Epoch 00033: saving model to ./checkpoints/202006231539_crnn_lstm_ky/weights.033.h5\n",
      "Epoch 34/40\n",
      "333/753 [============>.................] - ETA: 1:55 - loss: 0.4366Traceback (most recent call last):\n",
      "  File \"G:\\ssd_detectors\\crnn_data.py\", line 120, in generate\n",
      "    self.grayscale)\n",
      "  File \"G:\\ssd_detectors\\crnn_data.py\", line 42, in crop_words\n",
      "    word_w = int(round(height * word_ar))\n",
      "OverflowError: cannot convert float infinity to integer\n",
      "\n",
      "data/ky_dataset/chardataset\\A002_R133_T_000.png\n"
     ]
    },
    {
     "name": "stdout",
     "output_type": "stream",
     "text": [
      "344/753 [============>.................] - ETA: 1:52 - loss: 0.4347Traceback (most recent call last):\n",
      "  File \"G:\\ssd_detectors\\crnn_data.py\", line 120, in generate\n",
      "    self.grayscale)\n",
      "  File \"G:\\ssd_detectors\\crnn_data.py\", line 42, in crop_words\n",
      "    word_w = int(round(height * word_ar))\n",
      "OverflowError: cannot convert float infinity to integer\n",
      "\n",
      "data/ky_dataset/chardataset\\A002_R133_B_000.png\n",
      "368/753 [=============>................] - ETA: 1:46 - loss: 0.4318Traceback (most recent call last):\n",
      "  File \"G:\\ssd_detectors\\crnn_data.py\", line 120, in generate\n",
      "    self.grayscale)\n",
      "  File \"G:\\ssd_detectors\\crnn_data.py\", line 42, in crop_words\n",
      "    word_w = int(round(height * word_ar))\n",
      "OverflowError: cannot convert float infinity to integer\n",
      "\n",
      "data/ky_dataset/chardataset\\A002_R133_M_000.png\n",
      "424/753 [===============>..............] - ETA: 1:30 - loss: 0.4279NEW epoch\n",
      "498/753 [==================>...........] - ETA: 1:10 - loss: 0.4266Traceback (most recent call last):\n",
      "  File \"G:\\ssd_detectors\\crnn_data.py\", line 120, in generate\n",
      "    self.grayscale)\n",
      "  File \"G:\\ssd_detectors\\crnn_data.py\", line 42, in crop_words\n",
      "    word_w = int(round(height * word_ar))\n",
      "OverflowError: cannot convert float infinity to integer\n",
      "\n",
      "data/ky_dataset/chardataset\\A002_R133_M_000.png\n",
      "690/753 [==========================>...] - ETA: 17s - loss: 0.4281Traceback (most recent call last):\n",
      "  File \"G:\\ssd_detectors\\crnn_data.py\", line 120, in generate\n",
      "    self.grayscale)\n",
      "  File \"G:\\ssd_detectors\\crnn_data.py\", line 42, in crop_words\n",
      "    word_w = int(round(height * word_ar))\n",
      "OverflowError: cannot convert float infinity to integer\n",
      "\n",
      "data/ky_dataset/chardataset\\A002_R133_T_000.png\n",
      "708/753 [===========================>..] - ETA: 12s - loss: 0.4269Traceback (most recent call last):\n",
      "  File \"G:\\ssd_detectors\\crnn_data.py\", line 120, in generate\n",
      "    self.grayscale)\n",
      "  File \"G:\\ssd_detectors\\crnn_data.py\", line 42, in crop_words\n",
      "    word_w = int(round(height * word_ar))\n",
      "OverflowError: cannot convert float infinity to integer\n",
      "\n",
      "data/ky_dataset/chardataset\\A002_R133_B_000.png\n",
      "753/753 [==============================] - 209s 277ms/step - loss: 0.4273\n",
      "\n",
      "Epoch 00034: saving model to ./checkpoints/202006231539_crnn_lstm_ky/weights.034.h5\n",
      "Epoch 35/40\n",
      "187/753 [======>.......................] - ETA: 2:36 - loss: 0.4084NEW epoch\n",
      "410/753 [===============>..............] - ETA: 1:34 - loss: 0.4093Traceback (most recent call last):\n",
      "  File \"G:\\ssd_detectors\\crnn_data.py\", line 120, in generate\n",
      "    self.grayscale)\n",
      "  File \"G:\\ssd_detectors\\crnn_data.py\", line 42, in crop_words\n",
      "    word_w = int(round(height * word_ar))\n",
      "OverflowError: cannot convert float infinity to integer\n",
      "\n",
      "data/ky_dataset/chardataset\\A002_R133_M_000.png\n",
      "447/753 [================>.............] - ETA: 1:24 - loss: 0.4131Traceback (most recent call last):\n",
      "  File \"G:\\ssd_detectors\\crnn_data.py\", line 120, in generate\n",
      "    self.grayscale)\n",
      "  File \"G:\\ssd_detectors\\crnn_data.py\", line 42, in crop_words\n",
      "    word_w = int(round(height * word_ar))\n",
      "OverflowError: cannot convert float infinity to integer\n",
      "\n",
      "data/ky_dataset/chardataset\\A002_R133_T_000.png\n",
      "448/753 [================>.............] - ETA: 1:24 - loss: 0.4128Traceback (most recent call last):\n",
      "  File \"G:\\ssd_detectors\\crnn_data.py\", line 120, in generate\n",
      "    self.grayscale)\n",
      "  File \"G:\\ssd_detectors\\crnn_data.py\", line 42, in crop_words\n",
      "    word_w = int(round(height * word_ar))\n",
      "OverflowError: cannot convert float infinity to integer\n",
      "\n",
      "data/ky_dataset/chardataset\\A002_R133_B_000.png\n",
      "703/753 [===========================>..] - ETA: 13s - loss: 0.4157NEW epoch\n",
      "705/753 [===========================>..] - ETA: 13s - loss: 0.4157Traceback (most recent call last):\n",
      "  File \"G:\\ssd_detectors\\crnn_data.py\", line 120, in generate\n",
      "    self.grayscale)\n",
      "  File \"G:\\ssd_detectors\\crnn_data.py\", line 42, in crop_words\n",
      "    word_w = int(round(height * word_ar))\n",
      "OverflowError: cannot convert float infinity to integer\n",
      "\n",
      "data/ky_dataset/chardataset\\A002_R133_M_000.png\n",
      "753/753 [==============================] - 208s 276ms/step - loss: 0.4161\n",
      "\n",
      "Epoch 00035: saving model to ./checkpoints/202006231539_crnn_lstm_ky/weights.035.h5\n",
      "Epoch 36/40\n",
      "174/753 [=====>........................] - ETA: 2:39 - loss: 0.4176Traceback (most recent call last):\n",
      "  File \"G:\\ssd_detectors\\crnn_data.py\", line 120, in generate\n",
      "    self.grayscale)\n",
      "  File \"G:\\ssd_detectors\\crnn_data.py\", line 42, in crop_words\n",
      "    word_w = int(round(height * word_ar))\n",
      "OverflowError: cannot convert float infinity to integer\n",
      "\n",
      "data/ky_dataset/chardataset\\A002_R133_B_000.png\n",
      "456/753 [=================>............] - ETA: 1:21 - loss: 0.4063Traceback (most recent call last):\n",
      "  File \"G:\\ssd_detectors\\crnn_data.py\", line 120, in generate\n",
      "    self.grayscale)\n",
      "  File \"G:\\ssd_detectors\\crnn_data.py\", line 42, in crop_words\n",
      "    word_w = int(round(height * word_ar))\n",
      "OverflowError: cannot convert float infinity to integer\n",
      "\n",
      "data/ky_dataset/chardataset\\A002_R133_T_000.png\n",
      "466/753 [=================>............] - ETA: 1:19 - loss: 0.4084NEW epoch\n",
      "689/753 [==========================>...] - ETA: 17s - loss: 0.4060Traceback (most recent call last):\n",
      "  File \"G:\\ssd_detectors\\crnn_data.py\", line 120, in generate\n",
      "    self.grayscale)\n",
      "  File \"G:\\ssd_detectors\\crnn_data.py\", line 42, in crop_words\n",
      "    word_w = int(round(height * word_ar))\n",
      "OverflowError: cannot convert float infinity to integer\n",
      "\n",
      "data/ky_dataset/chardataset\\A002_R133_M_000.png\n",
      "753/753 [==============================] - 207s 275ms/step - loss: 0.4098\n",
      "\n",
      "Epoch 00036: saving model to ./checkpoints/202006231539_crnn_lstm_ky/weights.036.h5\n",
      "Epoch 37/40\n",
      " 23/753 [..............................] - ETA: 3:21 - loss: 0.4100Traceback (most recent call last):\n",
      "  File \"G:\\ssd_detectors\\crnn_data.py\", line 120, in generate\n",
      "    self.grayscale)\n",
      "  File \"G:\\ssd_detectors\\crnn_data.py\", line 42, in crop_words\n",
      "    word_w = int(round(height * word_ar))\n",
      "OverflowError: cannot convert float infinity to integer\n",
      "\n",
      "data/ky_dataset/chardataset\\A002_R133_B_000.png\n",
      " 96/753 [==>...........................] - ETA: 3:01 - loss: 0.3942Traceback (most recent call last):\n",
      "  File \"G:\\ssd_detectors\\crnn_data.py\", line 120, in generate\n",
      "    self.grayscale)\n",
      "  File \"G:\\ssd_detectors\\crnn_data.py\", line 42, in crop_words\n",
      "    word_w = int(round(height * word_ar))\n",
      "OverflowError: cannot convert float infinity to integer\n",
      "\n",
      "data/ky_dataset/chardataset\\A002_R133_T_000.png\n",
      "229/753 [========>.....................] - ETA: 2:24 - loss: 0.3942NEW epoch\n",
      "510/753 [===================>..........] - ETA: 1:06 - loss: 0.3926Traceback (most recent call last):\n",
      "  File \"G:\\ssd_detectors\\crnn_data.py\", line 120, in generate\n",
      "    self.grayscale)\n",
      "  File \"G:\\ssd_detectors\\crnn_data.py\", line 42, in crop_words\n",
      "    word_w = int(round(height * word_ar))\n",
      "OverflowError: cannot convert float infinity to integer\n",
      "\n",
      "data/ky_dataset/chardataset\\A002_R133_B_000.png\n",
      "720/753 [===========================>..] - ETA: 9s - loss: 0.3905Traceback (most recent call last):\n",
      "  File \"G:\\ssd_detectors\\crnn_data.py\", line 120, in generate\n",
      "    self.grayscale)\n",
      "  File \"G:\\ssd_detectors\\crnn_data.py\", line 42, in crop_words\n",
      "    word_w = int(round(height * word_ar))\n",
      "OverflowError: cannot convert float infinity to integer\n",
      "\n",
      "data/ky_dataset/chardataset\\A002_R133_M_000.png\n",
      "732/753 [============================>.] - ETA: 5s - loss: 0.3903Traceback (most recent call last):\n",
      "  File \"G:\\ssd_detectors\\crnn_data.py\", line 120, in generate\n",
      "    self.grayscale)\n",
      "  File \"G:\\ssd_detectors\\crnn_data.py\", line 42, in crop_words\n",
      "    word_w = int(round(height * word_ar))\n",
      "OverflowError: cannot convert float infinity to integer\n",
      "\n",
      "data/ky_dataset/chardataset\\A002_R133_T_000.png\n",
      "745/753 [============================>.] - ETA: 2s - loss: 0.3912NEW epoch\n",
      "753/753 [==============================] - 207s 275ms/step - loss: 0.3921\n",
      "\n",
      "Epoch 00037: saving model to ./checkpoints/202006231539_crnn_lstm_ky/weights.037.h5\n",
      "Epoch 38/40\n",
      "158/753 [=====>........................] - ETA: 2:43 - loss: 0.4068Traceback (most recent call last):\n",
      "  File \"G:\\ssd_detectors\\crnn_data.py\", line 120, in generate\n",
      "    self.grayscale)\n",
      "  File \"G:\\ssd_detectors\\crnn_data.py\", line 42, in crop_words\n",
      "    word_w = int(round(height * word_ar))\n",
      "OverflowError: cannot convert float infinity to integer\n",
      "\n",
      "data/ky_dataset/chardataset\\A002_R133_B_000.png\n"
     ]
    },
    {
     "name": "stdout",
     "output_type": "stream",
     "text": [
      "319/753 [===========>..................] - ETA: 1:59 - loss: 0.4029Traceback (most recent call last):\n",
      "  File \"G:\\ssd_detectors\\crnn_data.py\", line 120, in generate\n",
      "    self.grayscale)\n",
      "  File \"G:\\ssd_detectors\\crnn_data.py\", line 42, in crop_words\n",
      "    word_w = int(round(height * word_ar))\n",
      "OverflowError: cannot convert float infinity to integer\n",
      "\n",
      "data/ky_dataset/chardataset\\A002_R133_M_000.png\n",
      "480/753 [==================>...........] - ETA: 1:15 - loss: 0.3897Traceback (most recent call last):\n",
      "  File \"G:\\ssd_detectors\\crnn_data.py\", line 120, in generate\n",
      "    self.grayscale)\n",
      "  File \"G:\\ssd_detectors\\crnn_data.py\", line 42, in crop_words\n",
      "    word_w = int(round(height * word_ar))\n",
      "OverflowError: cannot convert float infinity to integer\n",
      "\n",
      "data/ky_dataset/chardataset\\A002_R133_T_000.png\n",
      "508/753 [===================>..........] - ETA: 1:07 - loss: 0.3910NEW epoch\n",
      "690/753 [==========================>...] - ETA: 17s - loss: 0.3901Traceback (most recent call last):\n",
      "  File \"G:\\ssd_detectors\\crnn_data.py\", line 120, in generate\n",
      "    self.grayscale)\n",
      "  File \"G:\\ssd_detectors\\crnn_data.py\", line 42, in crop_words\n",
      "    word_w = int(round(height * word_ar))\n",
      "OverflowError: cannot convert float infinity to integer\n",
      "\n",
      "data/ky_dataset/chardataset\\A002_R133_B_000.png\n",
      "753/753 [==============================] - 207s 275ms/step - loss: 0.3900\n",
      "\n",
      "Epoch 00038: saving model to ./checkpoints/202006231539_crnn_lstm_ky/weights.038.h5\n",
      "Epoch 39/40\n",
      "  1/753 [..............................] - ETA: 3:32 - loss: 0.4092Traceback (most recent call last):\n",
      "  File \"G:\\ssd_detectors\\crnn_data.py\", line 120, in generate\n",
      "    self.grayscale)\n",
      "  File \"G:\\ssd_detectors\\crnn_data.py\", line 42, in crop_words\n",
      "    word_w = int(round(height * word_ar))\n",
      "OverflowError: cannot convert float infinity to integer\n",
      "\n",
      "data/ky_dataset/chardataset\\A002_R133_T_000.png\n",
      "244/753 [========>.....................] - ETA: 2:20 - loss: 0.3961Traceback (most recent call last):\n",
      "  File \"G:\\ssd_detectors\\crnn_data.py\", line 120, in generate\n",
      "    self.grayscale)\n",
      "  File \"G:\\ssd_detectors\\crnn_data.py\", line 42, in crop_words\n",
      "    word_w = int(round(height * word_ar))\n",
      "OverflowError: cannot convert float infinity to integer\n",
      "\n",
      "data/ky_dataset/chardataset\\A002_R133_M_000.png\n",
      "271/753 [=========>....................] - ETA: 2:13 - loss: 0.3934NEW epoch\n",
      "584/753 [======================>.......] - ETA: 46s - loss: 0.3872Traceback (most recent call last):\n",
      "  File \"G:\\ssd_detectors\\crnn_data.py\", line 120, in generate\n",
      "    self.grayscale)\n",
      "  File \"G:\\ssd_detectors\\crnn_data.py\", line 42, in crop_words\n",
      "    word_w = int(round(height * word_ar))\n",
      "OverflowError: cannot convert float infinity to integer\n",
      "\n",
      "data/ky_dataset/chardataset\\A002_R133_T_000.png\n",
      "628/753 [========================>.....] - ETA: 34s - loss: 0.3857Traceback (most recent call last):\n",
      "  File \"G:\\ssd_detectors\\crnn_data.py\", line 120, in generate\n",
      "    self.grayscale)\n",
      "  File \"G:\\ssd_detectors\\crnn_data.py\", line 42, in crop_words\n",
      "    word_w = int(round(height * word_ar))\n",
      "OverflowError: cannot convert float infinity to integer\n",
      "\n",
      "data/ky_dataset/chardataset\\A002_R133_B_000.png\n",
      "679/753 [==========================>...] - ETA: 20s - loss: 0.3858Traceback (most recent call last):\n",
      "  File \"G:\\ssd_detectors\\crnn_data.py\", line 120, in generate\n",
      "    self.grayscale)\n",
      "  File \"G:\\ssd_detectors\\crnn_data.py\", line 42, in crop_words\n",
      "    word_w = int(round(height * word_ar))\n",
      "OverflowError: cannot convert float infinity to integer\n",
      "\n",
      "data/ky_dataset/chardataset\\A002_R133_M_000.png\n",
      "753/753 [==============================] - 208s 277ms/step - loss: 0.3841\n",
      "\n",
      "Epoch 00039: saving model to ./checkpoints/202006231539_crnn_lstm_ky/weights.039.h5\n",
      "Epoch 40/40\n",
      " 34/753 [>.............................] - ETA: 3:18 - loss: 0.3827NEW epoch\n",
      " 76/753 [==>...........................] - ETA: 3:06 - loss: 0.3869Traceback (most recent call last):\n",
      "  File \"G:\\ssd_detectors\\crnn_data.py\", line 120, in generate\n",
      "    self.grayscale)\n",
      "  File \"G:\\ssd_detectors\\crnn_data.py\", line 42, in crop_words\n",
      "    word_w = int(round(height * word_ar))\n",
      "OverflowError: cannot convert float infinity to integer\n",
      "\n",
      "data/ky_dataset/chardataset\\A002_R133_M_000.png\n",
      "457/753 [=================>............] - ETA: 1:21 - loss: 0.3826Traceback (most recent call last):\n",
      "  File \"G:\\ssd_detectors\\crnn_data.py\", line 120, in generate\n",
      "    self.grayscale)\n",
      "  File \"G:\\ssd_detectors\\crnn_data.py\", line 42, in crop_words\n",
      "    word_w = int(round(height * word_ar))\n",
      "OverflowError: cannot convert float infinity to integer\n",
      "\n",
      "data/ky_dataset/chardataset\\A002_R133_T_000.png\n",
      "515/753 [===================>..........] - ETA: 1:05 - loss: 0.3809Traceback (most recent call last):\n",
      "  File \"G:\\ssd_detectors\\crnn_data.py\", line 120, in generate\n",
      "    self.grayscale)\n",
      "  File \"G:\\ssd_detectors\\crnn_data.py\", line 42, in crop_words\n",
      "    word_w = int(round(height * word_ar))\n",
      "OverflowError: cannot convert float infinity to integer\n",
      "\n",
      "data/ky_dataset/chardataset\\A002_R133_B_000.png\n",
      "550/753 [====================>.........] - ETA: 55s - loss: 0.3793NEW epoch\n",
      "633/753 [========================>.....] - ETA: 33s - loss: 0.3760\n",
      "Saving model ./checkpoints/202006231539_crnn_lstm_ky\\weights.030000.h5\n",
      "734/753 [============================>.] - ETA: 5s - loss: 0.3770Traceback (most recent call last):\n",
      "  File \"G:\\ssd_detectors\\crnn_data.py\", line 120, in generate\n",
      "    self.grayscale)\n",
      "  File \"G:\\ssd_detectors\\crnn_data.py\", line 42, in crop_words\n",
      "    word_w = int(round(height * word_ar))\n",
      "OverflowError: cannot convert float infinity to integer\n",
      "\n",
      "data/ky_dataset/chardataset\\A002_R133_B_000.png\n",
      "753/753 [==============================] - 208s 276ms/step - loss: 0.3771\n",
      "\n",
      "Epoch 00040: saving model to ./checkpoints/202006231539_crnn_lstm_ky/weights.040.h5\n"
     ]
    },
    {
     "data": {
      "text/plain": [
       "<keras.callbacks.callbacks.History at 0x259ed8fa908>"
      ]
     },
     "execution_count": 7,
     "metadata": {},
     "output_type": "execute_result"
    }
   ],
   "source": [
    "checkdir = './checkpoints/' + time.strftime('%Y%m%d%H%M') + '_' + experiment\n",
    "if not os.path.exists(checkdir):\n",
    "    os.makedirs(checkdir)\n",
    "\n",
    "with open(checkdir+'/source.py','wb') as f:\n",
    "    source = ''.join(['# In[%i]\\n%s\\n\\n' % (i, In[i]) for i in range(len(In))])\n",
    "    f.write(source.encode())\n",
    "\n",
    "optimizer = SGD(lr=0.001, decay=1e-6, momentum=0.9, nesterov=True, clipnorm=5)\n",
    "#optimizer = SGD(lr=0.001, decay=1e-6, momentum=0.9, nesterov=True, clipnorm=5)\n",
    "#optimizer = Adam(lr=0.02, epsilon=0.001, clipnorm=1.)\n",
    "for layer in model.layers: \n",
    "    layer.trainable = not layer.name in freeze\n",
    "\n",
    "\n",
    "# dummy loss, loss is computed in lambda layer\n",
    "model.compile(loss={'ctc': lambda y_true, y_pred: y_pred}, optimizer=optimizer)\n",
    "\n",
    "#model.summary()\n",
    "#꼭 체크 generator랑 step epr epoch name체크하기\n",
    "model.fit_generator(generator=gen_train.generate(), # batch_size here?\n",
    "                    steps_per_epoch=gt_util_final.num_objects // batch_size,\n",
    "                    epochs=40,\n",
    "#                     validation_data=gen_val.generate(), # batch_size here?\n",
    "#                     validation_steps=gt_util_val.num_objects // batch_size,\n",
    "                    callbacks=[\n",
    "                        ModelCheckpoint(checkdir+'/weights.{epoch:03d}.h5', verbose=1, save_weights_only=True),\n",
    "                        ModelSnapshot(checkdir, 10000),\n",
    "                        Logger(checkdir)\n",
    "                    ],\n",
    "                    initial_epoch=0)"
   ]
  },
  {
   "cell_type": "code",
   "execution_count": 2,
   "metadata": {},
   "outputs": [
    {
     "name": "stdout",
     "output_type": "stream",
     "text": [
      "Background              0\n",
      "Text                   23\n",
      "\n",
      "images                 20\n",
      "objects                23\n",
      "per image            1.15\n",
      "no annotation           0\n",
      "\n"
     ]
    }
   ],
   "source": [
    "# 테스트 셋 데이터\n",
    "from data_ky import GTUtility\n",
    "\n",
    "gt_util = GTUtility('data/ky_test/', phase='test')\n",
    "print(gt_util)"
   ]
  },
  {
   "cell_type": "code",
   "execution_count": 5,
   "metadata": {},
   "outputs": [
    {
     "name": "stdout",
     "output_type": "stream",
     "text": [
      "WARNING:tensorflow:From c:\\users\\jsson\\anaconda3\\envs\\ai_library\\lib\\site-packages\\keras\\backend\\tensorflow_backend.py:4070: The name tf.nn.max_pool is deprecated. Please use tf.nn.max_pool2d instead.\n",
      "\n",
      "WARNING:tensorflow:From c:\\users\\jsson\\anaconda3\\envs\\ai_library\\lib\\site-packages\\tensorflow\\python\\ops\\array_ops.py:1354: add_dispatch_support.<locals>.wrapper (from tensorflow.python.ops.array_ops) is deprecated and will be removed in a future version.\n",
      "Instructions for updating:\n",
      "Use tf.where in 2.0, which has the same broadcast rule as np.where\n"
     ]
    }
   ],
   "source": [
    "import tensorflow as tf\n",
    "from crnn_model import CRNN\n",
    "from crnn_data import InputGenerator\n",
    "from crnn_utils import decode\n",
    "from utils.training import Logger, ModelSnapshot\n",
    "from crnn_utils import alphabet87 as alphabet\n",
    "\n",
    "sess = tf.Session()\n",
    "\n",
    "input_width = 256\n",
    "#input_width = 1024\n",
    "input_height = 32\n",
    "batch_size = 128\n",
    "\n",
    "input_shape = (input_width, input_height, 1)\n",
    "\n",
    "model, model_pred = CRNN(input_shape, len(alphabet))\n",
    "sess.run(tf.initializers.global_variables())\n",
    "max_string_len = model_pred.output_shape[1]\n"
   ]
  },
  {
   "cell_type": "code",
   "execution_count": 6,
   "metadata": {},
   "outputs": [],
   "source": [
    "gen_val = InputGenerator(gt_util, batch_size, alphabet, input_shape[:2], \n",
    "                        grayscale=True, max_string_len=max_string_len)\n",
    "model.load_weights('./checkpoints/202006231539_crnn_lstm_ky/weights.020.h5')"
   ]
  },
  {
   "cell_type": "markdown",
   "metadata": {},
   "source": [
    "### Predict"
   ]
  },
  {
   "cell_type": "code",
   "execution_count": 9,
   "metadata": {
    "scrolled": false
   },
   "outputs": [
    {
     "name": "stdout",
     "output_type": "stream",
     "text": [
      "NEW epoch\n",
      "NEW epoch\n",
      "NEW epoch\n",
      "NEW epoch\n",
      "NEW epoch\n",
      "NEW epoch\n"
     ]
    },
    {
     "data": {
      "image/png": "[encoded data removed]",
      "text/plain": [
       "<Figure size 2160x36 with 1 Axes>"
      ]
     },
     "metadata": {
      "needs_background": "light"
     },
     "output_type": "display_data"
    },
    {
     "name": "stdout",
     "output_type": "stream",
     "text": [
      "gt_str = 155                 , res_str =   155                \n"
     ]
    },
    {
     "data": {
      "image/png": "[encoded data removed]",
      "text/plain": [
       "<Figure size 2160x36 with 1 Axes>"
      ]
     },
     "metadata": {
      "needs_background": "light"
     },
     "output_type": "display_data"
    },
    {
     "name": "stdout",
     "output_type": "stream",
     "text": [
      "gt_str = 155                 , res_str =   155                \n"
     ]
    },
    {
     "data": {
      "image/png": "[encoded data removed]",
      "text/plain": [
       "<Figure size 2160x36 with 1 Axes>"
      ]
     },
     "metadata": {
      "needs_background": "light"
     },
     "output_type": "display_data"
    },
    {
     "name": "stdout",
     "output_type": "stream",
     "text": [
      "gt_str = 155                 , res_str =   155                \n"
     ]
    },
    {
     "data": {
      "image/png": "[encoded data removed]",
      "text/plain": [
       "<Figure size 2160x36 with 1 Axes>"
      ]
     },
     "metadata": {
      "needs_background": "light"
     },
     "output_type": "display_data"
    },
    {
     "name": "stdout",
     "output_type": "stream",
     "text": [
      "gt_str = 100-6L              , res_str =   1D0-6L             \n"
     ]
    },
    {
     "data": {
      "image/png": "[encoded data removed]",
      "text/plain": [
       "<Figure size 2160x36 with 1 Axes>"
      ]
     },
     "metadata": {
      "needs_background": "light"
     },
     "output_type": "display_data"
    },
    {
     "name": "stdout",
     "output_type": "stream",
     "text": [
      "gt_str = K3                  , res_str =   K3                 \n"
     ]
    },
    {
     "data": {
      "image/png": "[encoded data removed]",
      "text/plain": [
       "<Figure size 2160x36 with 1 Axes>"
      ]
     },
     "metadata": {
      "needs_background": "light"
     },
     "output_type": "display_data"
    },
    {
     "name": "stdout",
     "output_type": "stream",
     "text": [
      "gt_str = 513                 , res_str =   513                \n"
     ]
    },
    {
     "data": {
      "image/png": "[encoded data removed]",
      "text/plain": [
       "<Figure size 2160x36 with 1 Axes>"
      ]
     },
     "metadata": {
      "needs_background": "light"
     },
     "output_type": "display_data"
    },
    {
     "name": "stdout",
     "output_type": "stream",
     "text": [
      "gt_str = 155                 , res_str =   155                \n"
     ]
    },
    {
     "data": {
      "image/png": "[encoded data removed]",
      "text/plain": [
       "<Figure size 2160x36 with 1 Axes>"
      ]
     },
     "metadata": {
      "needs_background": "light"
     },
     "output_type": "display_data"
    },
    {
     "name": "stdout",
     "output_type": "stream",
     "text": [
      "gt_str = 155                 , res_str =   155                \n"
     ]
    },
    {
     "data": {
      "image/png": "[encoded data removed]",
      "text/plain": [
       "<Figure size 2160x36 with 1 Axes>"
      ]
     },
     "metadata": {
      "needs_background": "light"
     },
     "output_type": "display_data"
    },
    {
     "name": "stdout",
     "output_type": "stream",
     "text": [
      "gt_str = 102                 , res_str =   102                \n"
     ]
    },
    {
     "data": {
      "image/png": "[encoded data removed]",
      "text/plain": [
       "<Figure size 2160x36 with 1 Axes>"
      ]
     },
     "metadata": {
      "needs_background": "light"
     },
     "output_type": "display_data"
    },
    {
     "name": "stdout",
     "output_type": "stream",
     "text": [
      "gt_str = 104                 , res_str =   104                \n"
     ]
    },
    {
     "data": {
      "image/png": "[encoded data removed]",
      "text/plain": [
       "<Figure size 2160x36 with 1 Axes>"
      ]
     },
     "metadata": {
      "needs_background": "light"
     },
     "output_type": "display_data"
    },
    {
     "name": "stdout",
     "output_type": "stream",
     "text": [
      "gt_str = 512                 , res_str =   512                \n"
     ]
    },
    {
     "data": {
      "image/png": "[encoded data removed]",
      "text/plain": [
       "<Figure size 2160x36 with 1 Axes>"
      ]
     },
     "metadata": {
      "needs_background": "light"
     },
     "output_type": "display_data"
    },
    {
     "name": "stdout",
     "output_type": "stream",
     "text": [
      "gt_str = 104                 , res_str =   104                \n"
     ]
    },
    {
     "data": {
      "image/png": "[encoded data removed]",
      "text/plain": [
       "<Figure size 2160x36 with 1 Axes>"
      ]
     },
     "metadata": {
      "needs_background": "light"
     },
     "output_type": "display_data"
    },
    {
     "name": "stdout",
     "output_type": "stream",
     "text": [
      "gt_str = 473                 , res_str =   473                \n"
     ]
    },
    {
     "data": {
      "image/png": "[encoded data removed]",
      "text/plain": [
       "<Figure size 2160x36 with 1 Axes>"
      ]
     },
     "metadata": {
      "needs_background": "light"
     },
     "output_type": "display_data"
    },
    {
     "name": "stdout",
     "output_type": "stream",
     "text": [
      "gt_str = 102                 , res_str =   102                \n"
     ]
    },
    {
     "data": {
      "image/png": "[encoded data removed]",
      "text/plain": [
       "<Figure size 2160x36 with 1 Axes>"
      ]
     },
     "metadata": {
      "needs_background": "light"
     },
     "output_type": "display_data"
    },
    {
     "name": "stdout",
     "output_type": "stream",
     "text": [
      "gt_str = 104                 , res_str =   104                \n"
     ]
    },
    {
     "data": {
      "image/png": "[encoded data removed]",
      "text/plain": [
       "<Figure size 2160x36 with 1 Axes>"
      ]
     },
     "metadata": {
      "needs_background": "light"
     },
     "output_type": "display_data"
    },
    {
     "name": "stdout",
     "output_type": "stream",
     "text": [
      "gt_str = 155                 , res_str =   155                \n"
     ]
    },
    {
     "data": {
      "image/png": "[encoded data removed]",
      "text/plain": [
       "<Figure size 2160x36 with 1 Axes>"
      ]
     },
     "metadata": {
      "needs_background": "light"
     },
     "output_type": "display_data"
    },
    {
     "name": "stdout",
     "output_type": "stream",
     "text": [
      "gt_str = 102                 , res_str =   102                \n"
     ]
    },
    {
     "data": {
      "image/png": "[encoded data removed]",
      "text/plain": [
       "<Figure size 2160x36 with 1 Axes>"
      ]
     },
     "metadata": {
      "needs_background": "light"
     },
     "output_type": "display_data"
    },
    {
     "name": "stdout",
     "output_type": "stream",
     "text": [
      "gt_str = EAWH                , res_str =   EAWH               \n"
     ]
    },
    {
     "data": {
      "image/png": "[encoded data removed]",
      "text/plain": [
       "<Figure size 2160x36 with 1 Axes>"
      ]
     },
     "metadata": {
      "needs_background": "light"
     },
     "output_type": "display_data"
    },
    {
     "name": "stdout",
     "output_type": "stream",
     "text": [
      "gt_str = M430FG438           , res_str =   M430FG438          \n"
     ]
    },
    {
     "data": {
      "image/png": "[encoded data removed]",
      "text/plain": [
       "<Figure size 2160x36 with 1 Axes>"
      ]
     },
     "metadata": {
      "needs_background": "light"
     },
     "output_type": "display_data"
    },
    {
     "name": "stdout",
     "output_type": "stream",
     "text": [
      "gt_str = 93A0SDTG4           , res_str =   lP93A0SDTG4        \n"
     ]
    },
    {
     "data": {
      "image/png": "[encoded data removed]",
      "text/plain": [
       "<Figure size 2160x36 with 1 Axes>"
      ]
     },
     "metadata": {
      "needs_background": "light"
     },
     "output_type": "display_data"
    },
    {
     "name": "stdout",
     "output_type": "stream",
     "text": [
      "gt_str = REVC                , res_str =   REV                \n"
     ]
    },
    {
     "data": {
      "image/png": "[encoded data removed]",
      "text/plain": [
       "<Figure size 2160x36 with 1 Axes>"
      ]
     },
     "metadata": {
      "needs_background": "light"
     },
     "output_type": "display_data"
    },
    {
     "name": "stdout",
     "output_type": "stream",
     "text": [
      "gt_str = 089                 , res_str =   089                \n"
     ]
    },
    {
     "data": {
      "image/png": "[encoded data removed]",
      "text/plain": [
       "<Figure size 2160x36 with 1 Axes>"
      ]
     },
     "metadata": {
      "needs_background": "light"
     },
     "output_type": "display_data"
    },
    {
     "name": "stdout",
     "output_type": "stream",
     "text": [
      "gt_str = 000                 , res_str =   000                \n"
     ]
    },
    {
     "data": {
      "image/png": "[encoded data removed]",
      "text/plain": [
       "<Figure size 2160x36 with 1 Axes>"
      ]
     },
     "metadata": {
      "needs_background": "light"
     },
     "output_type": "display_data"
    },
    {
     "name": "stdout",
     "output_type": "stream",
     "text": [
      "gt_str = 100-6L              , res_str =   1D0-6L             \n"
     ]
    },
    {
     "data": {
      "image/png": "[encoded data removed]",
      "text/plain": [
       "<Figure size 2160x36 with 1 Axes>"
      ]
     },
     "metadata": {
      "needs_background": "light"
     },
     "output_type": "display_data"
    },
    {
     "name": "stdout",
     "output_type": "stream",
     "text": [
      "gt_str = K3                  , res_str =   K3                 \n"
     ]
    },
    {
     "data": {
      "image/png": "[encoded data removed]",
      "text/plain": [
       "<Figure size 2160x36 with 1 Axes>"
      ]
     },
     "metadata": {
      "needs_background": "light"
     },
     "output_type": "display_data"
    },
    {
     "name": "stdout",
     "output_type": "stream",
     "text": [
      "gt_str = 102                 , res_str =   102                \n"
     ]
    },
    {
     "data": {
      "image/png": "[encoded data removed]",
      "text/plain": [
       "<Figure size 2160x36 with 1 Axes>"
      ]
     },
     "metadata": {
      "needs_background": "light"
     },
     "output_type": "display_data"
    },
    {
     "name": "stdout",
     "output_type": "stream",
     "text": [
      "gt_str = 93A0SDTG4           , res_str =   lP93A0SDTG4        \n"
     ]
    },
    {
     "data": {
      "image/png": "[encoded data removed]",
      "text/plain": [
       "<Figure size 2160x36 with 1 Axes>"
      ]
     },
     "metadata": {
      "needs_background": "light"
     },
     "output_type": "display_data"
    },
    {
     "name": "stdout",
     "output_type": "stream",
     "text": [
      "gt_str = M430FG438           , res_str =   M430FG438          \n"
     ]
    },
    {
     "data": {
      "image/png": "[encoded data removed]",
      "text/plain": [
       "<Figure size 2160x36 with 1 Axes>"
      ]
     },
     "metadata": {
      "needs_background": "light"
     },
     "output_type": "display_data"
    },
    {
     "name": "stdout",
     "output_type": "stream",
     "text": [
      "gt_str = REVC                , res_str =   REV                \n"
     ]
    },
    {
     "data": {
      "image/png": "[encoded data removed]",
      "text/plain": [
       "<Figure size 2160x36 with 1 Axes>"
      ]
     },
     "metadata": {
      "needs_background": "light"
     },
     "output_type": "display_data"
    },
    {
     "name": "stdout",
     "output_type": "stream",
     "text": [
      "gt_str = 155                 , res_str =   155                \n"
     ]
    },
    {
     "data": {
      "image/png": "[encoded data removed]",
      "text/plain": [
       "<Figure size 2160x36 with 1 Axes>"
      ]
     },
     "metadata": {
      "needs_background": "light"
     },
     "output_type": "display_data"
    },
    {
     "name": "stdout",
     "output_type": "stream",
     "text": [
      "gt_str = 104                 , res_str =   104                \n"
     ]
    },
    {
     "data": {
      "image/png": "[encoded data removed]",
      "text/plain": [
       "<Figure size 2160x36 with 1 Axes>"
      ]
     },
     "metadata": {
      "needs_background": "light"
     },
     "output_type": "display_data"
    },
    {
     "name": "stdout",
     "output_type": "stream",
     "text": [
      "gt_str = 155                 , res_str =   155                \n"
     ]
    },
    {
     "data": {
      "image/png": "[encoded data removed]",
      "text/plain": [
       "<Figure size 2160x36 with 1 Axes>"
      ]
     },
     "metadata": {
      "needs_background": "light"
     },
     "output_type": "display_data"
    },
    {
     "name": "stdout",
     "output_type": "stream",
     "text": [
      "gt_str = 104                 , res_str =   104                \n"
     ]
    },
    {
     "data": {
      "image/png": "[encoded data removed]",
      "text/plain": [
       "<Figure size 2160x36 with 1 Axes>"
      ]
     },
     "metadata": {
      "needs_background": "light"
     },
     "output_type": "display_data"
    },
    {
     "name": "stdout",
     "output_type": "stream",
     "text": [
      "gt_str = EAWH                , res_str =   EAWH               \n"
     ]
    },
    {
     "data": {
      "image/png": "[encoded data removed]",
      "text/plain": [
       "<Figure size 2160x36 with 1 Axes>"
      ]
     },
     "metadata": {
      "needs_background": "light"
     },
     "output_type": "display_data"
    },
    {
     "name": "stdout",
     "output_type": "stream",
     "text": [
      "gt_str = 155                 , res_str =   155                \n"
     ]
    },
    {
     "data": {
      "image/png": "[encoded data removed]",
      "text/plain": [
       "<Figure size 2160x36 with 1 Axes>"
      ]
     },
     "metadata": {
      "needs_background": "light"
     },
     "output_type": "display_data"
    },
    {
     "name": "stdout",
     "output_type": "stream",
     "text": [
      "gt_str = 512                 , res_str =   512                \n"
     ]
    },
    {
     "data": {
      "image/png": "[encoded data removed]",
      "text/plain": [
       "<Figure size 2160x36 with 1 Axes>"
      ]
     },
     "metadata": {
      "needs_background": "light"
     },
     "output_type": "display_data"
    },
    {
     "name": "stdout",
     "output_type": "stream",
     "text": [
      "gt_str = 155                 , res_str =   155                \n"
     ]
    },
    {
     "data": {
      "image/png": "[encoded data removed]",
      "text/plain": [
       "<Figure size 2160x36 with 1 Axes>"
      ]
     },
     "metadata": {
      "needs_background": "light"
     },
     "output_type": "display_data"
    },
    {
     "name": "stdout",
     "output_type": "stream",
     "text": [
      "gt_str = 102                 , res_str =   102                \n"
     ]
    },
    {
     "data": {
      "image/png": "[encoded data removed]",
      "text/plain": [
       "<Figure size 2160x36 with 1 Axes>"
      ]
     },
     "metadata": {
      "needs_background": "light"
     },
     "output_type": "display_data"
    },
    {
     "name": "stdout",
     "output_type": "stream",
     "text": [
      "gt_str = 155                 , res_str =   155                \n"
     ]
    },
    {
     "data": {
      "image/png": "[encoded data removed]",
      "text/plain": [
       "<Figure size 2160x36 with 1 Axes>"
      ]
     },
     "metadata": {
      "needs_background": "light"
     },
     "output_type": "display_data"
    },
    {
     "name": "stdout",
     "output_type": "stream",
     "text": [
      "gt_str = 102                 , res_str =   102                \n"
     ]
    },
    {
     "data": {
      "image/png": "[encoded data removed]",
      "text/plain": [
       "<Figure size 2160x36 with 1 Axes>"
      ]
     },
     "metadata": {
      "needs_background": "light"
     },
     "output_type": "display_data"
    },
    {
     "name": "stdout",
     "output_type": "stream",
     "text": [
      "gt_str = 089                 , res_str =   089                \n"
     ]
    },
    {
     "data": {
      "image/png": "[encoded data removed]",
      "text/plain": [
       "<Figure size 2160x36 with 1 Axes>"
      ]
     },
     "metadata": {
      "needs_background": "light"
     },
     "output_type": "display_data"
    },
    {
     "name": "stdout",
     "output_type": "stream",
     "text": [
      "gt_str = 104                 , res_str =   104                \n"
     ]
    },
    {
     "data": {
      "image/png": "[encoded data removed]",
      "text/plain": [
       "<Figure size 2160x36 with 1 Axes>"
      ]
     },
     "metadata": {
      "needs_background": "light"
     },
     "output_type": "display_data"
    },
    {
     "name": "stdout",
     "output_type": "stream",
     "text": [
      "gt_str = 473                 , res_str =   473                \n"
     ]
    },
    {
     "data": {
      "image/png": "[encoded data removed]",
      "text/plain": [
       "<Figure size 2160x36 with 1 Axes>"
      ]
     },
     "metadata": {
      "needs_background": "light"
     },
     "output_type": "display_data"
    },
    {
     "name": "stdout",
     "output_type": "stream",
     "text": [
      "gt_str = 000                 , res_str =   000                \n"
     ]
    },
    {
     "data": {
      "image/png": "[encoded data removed]",
      "text/plain": [
       "<Figure size 2160x36 with 1 Axes>"
      ]
     },
     "metadata": {
      "needs_background": "light"
     },
     "output_type": "display_data"
    },
    {
     "name": "stdout",
     "output_type": "stream",
     "text": [
      "gt_str = 155                 , res_str =   155                \n"
     ]
    },
    {
     "data": {
      "image/png": "[encoded data removed]",
      "text/plain": [
       "<Figure size 2160x36 with 1 Axes>"
      ]
     },
     "metadata": {
      "needs_background": "light"
     },
     "output_type": "display_data"
    },
    {
     "name": "stdout",
     "output_type": "stream",
     "text": [
      "gt_str = 513                 , res_str =   513                \n"
     ]
    },
    {
     "data": {
      "image/png": "[encoded data removed]",
      "text/plain": [
       "<Figure size 2160x36 with 1 Axes>"
      ]
     },
     "metadata": {
      "needs_background": "light"
     },
     "output_type": "display_data"
    },
    {
     "name": "stdout",
     "output_type": "stream",
     "text": [
      "gt_str = 102                 , res_str =   102                \n"
     ]
    },
    {
     "data": {
      "image/png": "[encoded data removed]",
      "text/plain": [
       "<Figure size 2160x36 with 1 Axes>"
      ]
     },
     "metadata": {
      "needs_background": "light"
     },
     "output_type": "display_data"
    },
    {
     "name": "stdout",
     "output_type": "stream",
     "text": [
      "gt_str = K3                  , res_str =   K3                 \n"
     ]
    },
    {
     "data": {
      "image/png": "[encoded data removed]",
      "text/plain": [
       "<Figure size 2160x36 with 1 Axes>"
      ]
     },
     "metadata": {
      "needs_background": "light"
     },
     "output_type": "display_data"
    },
    {
     "name": "stdout",
     "output_type": "stream",
     "text": [
      "gt_str = 100-6L              , res_str =   1D0-6L             \n"
     ]
    },
    {
     "data": {
      "image/png": "[encoded data removed]",
      "text/plain": [
       "<Figure size 2160x36 with 1 Axes>"
      ]
     },
     "metadata": {
      "needs_background": "light"
     },
     "output_type": "display_data"
    },
    {
     "name": "stdout",
     "output_type": "stream",
     "text": [
      "gt_str = 102                 , res_str =   102                \n"
     ]
    },
    {
     "data": {
      "image/png": "[encoded data removed]",
      "text/plain": [
       "<Figure size 2160x36 with 1 Axes>"
      ]
     },
     "metadata": {
      "needs_background": "light"
     },
     "output_type": "display_data"
    },
    {
     "name": "stdout",
     "output_type": "stream",
     "text": [
      "gt_str = 155                 , res_str =   155                \n"
     ]
    },
    {
     "data": {
      "image/png": "[encoded data removed]",
      "text/plain": [
       "<Figure size 2160x36 with 1 Axes>"
      ]
     },
     "metadata": {
      "needs_background": "light"
     },
     "output_type": "display_data"
    },
    {
     "name": "stdout",
     "output_type": "stream",
     "text": [
      "gt_str = 102                 , res_str =   102                \n"
     ]
    },
    {
     "data": {
      "image/png": "[encoded data removed]",
      "text/plain": [
       "<Figure size 2160x36 with 1 Axes>"
      ]
     },
     "metadata": {
      "needs_background": "light"
     },
     "output_type": "display_data"
    },
    {
     "name": "stdout",
     "output_type": "stream",
     "text": [
      "gt_str = 104                 , res_str =   104                \n"
     ]
    },
    {
     "data": {
      "image/png": "[encoded data removed]",
      "text/plain": [
       "<Figure size 2160x36 with 1 Axes>"
      ]
     },
     "metadata": {
      "needs_background": "light"
     },
     "output_type": "display_data"
    },
    {
     "name": "stdout",
     "output_type": "stream",
     "text": [
      "gt_str = 512                 , res_str =   512                \n"
     ]
    },
    {
     "data": {
      "image/png": "[encoded data removed]",
      "text/plain": [
       "<Figure size 2160x36 with 1 Axes>"
      ]
     },
     "metadata": {
      "needs_background": "light"
     },
     "output_type": "display_data"
    },
    {
     "name": "stdout",
     "output_type": "stream",
     "text": [
      "gt_str = 155                 , res_str =   155                \n"
     ]
    },
    {
     "data": {
      "image/png": "[encoded data removed]",
      "text/plain": [
       "<Figure size 2160x36 with 1 Axes>"
      ]
     },
     "metadata": {
      "needs_background": "light"
     },
     "output_type": "display_data"
    },
    {
     "name": "stdout",
     "output_type": "stream",
     "text": [
      "gt_str = 155                 , res_str =   155                \n"
     ]
    },
    {
     "data": {
      "image/png": "[encoded data removed]",
      "text/plain": [
       "<Figure size 2160x36 with 1 Axes>"
      ]
     },
     "metadata": {
      "needs_background": "light"
     },
     "output_type": "display_data"
    },
    {
     "name": "stdout",
     "output_type": "stream",
     "text": [
      "gt_str = 513                 , res_str =   513                \n"
     ]
    },
    {
     "data": {
      "image/png": "[encoded data removed]",
      "text/plain": [
       "<Figure size 2160x36 with 1 Axes>"
      ]
     },
     "metadata": {
      "needs_background": "light"
     },
     "output_type": "display_data"
    },
    {
     "name": "stdout",
     "output_type": "stream",
     "text": [
      "gt_str = EAWH                , res_str =   EAWH               \n"
     ]
    },
    {
     "data": {
      "image/png": "[encoded data removed]",
      "text/plain": [
       "<Figure size 2160x36 with 1 Axes>"
      ]
     },
     "metadata": {
      "needs_background": "light"
     },
     "output_type": "display_data"
    },
    {
     "name": "stdout",
     "output_type": "stream",
     "text": [
      "gt_str = 089                 , res_str =   089                \n"
     ]
    },
    {
     "data": {
      "image/png": "[encoded data removed]",
      "text/plain": [
       "<Figure size 2160x36 with 1 Axes>"
      ]
     },
     "metadata": {
      "needs_background": "light"
     },
     "output_type": "display_data"
    },
    {
     "name": "stdout",
     "output_type": "stream",
     "text": [
      "gt_str = 473                 , res_str =   473                \n"
     ]
    },
    {
     "data": {
      "image/png": "[encoded data removed]",
      "text/plain": [
       "<Figure size 2160x36 with 1 Axes>"
      ]
     },
     "metadata": {
      "needs_background": "light"
     },
     "output_type": "display_data"
    },
    {
     "name": "stdout",
     "output_type": "stream",
     "text": [
      "gt_str = 104                 , res_str =   104                \n"
     ]
    },
    {
     "data": {
      "image/png": "[encoded data removed]",
      "text/plain": [
       "<Figure size 2160x36 with 1 Axes>"
      ]
     },
     "metadata": {
      "needs_background": "light"
     },
     "output_type": "display_data"
    },
    {
     "name": "stdout",
     "output_type": "stream",
     "text": [
      "gt_str = M430FG438           , res_str =   M430FG438          \n"
     ]
    },
    {
     "data": {
      "image/png": "[encoded data removed]",
      "text/plain": [
       "<Figure size 2160x36 with 1 Axes>"
      ]
     },
     "metadata": {
      "needs_background": "light"
     },
     "output_type": "display_data"
    },
    {
     "name": "stdout",
     "output_type": "stream",
     "text": [
      "gt_str = REVC                , res_str =   REV                \n"
     ]
    },
    {
     "data": {
      "image/png": "[encoded data removed]",
      "text/plain": [
       "<Figure size 2160x36 with 1 Axes>"
      ]
     },
     "metadata": {
      "needs_background": "light"
     },
     "output_type": "display_data"
    },
    {
     "name": "stdout",
     "output_type": "stream",
     "text": [
      "gt_str = 93A0SDTG4           , res_str =   lP93A0SDTG4        \n"
     ]
    },
    {
     "data": {
      "image/png": "[encoded data removed]",
      "text/plain": [
       "<Figure size 2160x36 with 1 Axes>"
      ]
     },
     "metadata": {
      "needs_background": "light"
     },
     "output_type": "display_data"
    },
    {
     "name": "stdout",
     "output_type": "stream",
     "text": [
      "gt_str = 155                 , res_str =   155                \n"
     ]
    },
    {
     "data": {
      "image/png": "[encoded data removed]",
      "text/plain": [
       "<Figure size 2160x36 with 1 Axes>"
      ]
     },
     "metadata": {
      "needs_background": "light"
     },
     "output_type": "display_data"
    },
    {
     "name": "stdout",
     "output_type": "stream",
     "text": [
      "gt_str = 155                 , res_str =   155                \n"
     ]
    },
    {
     "data": {
      "image/png": "[encoded data removed]",
      "text/plain": [
       "<Figure size 2160x36 with 1 Axes>"
      ]
     },
     "metadata": {
      "needs_background": "light"
     },
     "output_type": "display_data"
    },
    {
     "name": "stdout",
     "output_type": "stream",
     "text": [
      "gt_str = 104                 , res_str =   104                \n"
     ]
    },
    {
     "data": {
      "image/png": "[encoded data removed]",
      "text/plain": [
       "<Figure size 2160x36 with 1 Axes>"
      ]
     },
     "metadata": {
      "needs_background": "light"
     },
     "output_type": "display_data"
    },
    {
     "name": "stdout",
     "output_type": "stream",
     "text": [
      "gt_str = 000                 , res_str =   000                \n"
     ]
    },
    {
     "data": {
      "image/png": "[encoded data removed]",
      "text/plain": [
       "<Figure size 2160x36 with 1 Axes>"
      ]
     },
     "metadata": {
      "needs_background": "light"
     },
     "output_type": "display_data"
    },
    {
     "name": "stdout",
     "output_type": "stream",
     "text": [
      "gt_str = 155                 , res_str =   155                \n"
     ]
    },
    {
     "data": {
      "image/png": "[encoded data removed]",
      "text/plain": [
       "<Figure size 2160x36 with 1 Axes>"
      ]
     },
     "metadata": {
      "needs_background": "light"
     },
     "output_type": "display_data"
    },
    {
     "name": "stdout",
     "output_type": "stream",
     "text": [
      "gt_str = 513                 , res_str =   513                \n"
     ]
    },
    {
     "data": {
      "image/png": "[encoded data removed]",
      "text/plain": [
       "<Figure size 2160x36 with 1 Axes>"
      ]
     },
     "metadata": {
      "needs_background": "light"
     },
     "output_type": "display_data"
    },
    {
     "name": "stdout",
     "output_type": "stream",
     "text": [
      "gt_str = 102                 , res_str =   102                \n"
     ]
    },
    {
     "data": {
      "image/png": "[encoded data removed]",
      "text/plain": [
       "<Figure size 2160x36 with 1 Axes>"
      ]
     },
     "metadata": {
      "needs_background": "light"
     },
     "output_type": "display_data"
    },
    {
     "name": "stdout",
     "output_type": "stream",
     "text": [
      "gt_str = 104                 , res_str =   104                \n"
     ]
    },
    {
     "data": {
      "image/png": "[encoded data removed]",
      "text/plain": [
       "<Figure size 2160x36 with 1 Axes>"
      ]
     },
     "metadata": {
      "needs_background": "light"
     },
     "output_type": "display_data"
    },
    {
     "name": "stdout",
     "output_type": "stream",
     "text": [
      "gt_str = 102                 , res_str =   102                \n"
     ]
    },
    {
     "data": {
      "image/png": "[encoded data removed]",
      "text/plain": [
       "<Figure size 2160x36 with 1 Axes>"
      ]
     },
     "metadata": {
      "needs_background": "light"
     },
     "output_type": "display_data"
    },
    {
     "name": "stdout",
     "output_type": "stream",
     "text": [
      "gt_str = 155                 , res_str =   155                \n"
     ]
    },
    {
     "data": {
      "image/png": "[encoded data removed]",
      "text/plain": [
       "<Figure size 2160x36 with 1 Axes>"
      ]
     },
     "metadata": {
      "needs_background": "light"
     },
     "output_type": "display_data"
    },
    {
     "name": "stdout",
     "output_type": "stream",
     "text": [
      "gt_str = 000                 , res_str =   000                \n"
     ]
    },
    {
     "data": {
      "image/png": "[encoded data removed]",
      "text/plain": [
       "<Figure size 2160x36 with 1 Axes>"
      ]
     },
     "metadata": {
      "needs_background": "light"
     },
     "output_type": "display_data"
    },
    {
     "name": "stdout",
     "output_type": "stream",
     "text": [
      "gt_str = 155                 , res_str =   155                \n"
     ]
    },
    {
     "data": {
      "image/png": "[encoded data removed]",
      "text/plain": [
       "<Figure size 2160x36 with 1 Axes>"
      ]
     },
     "metadata": {
      "needs_background": "light"
     },
     "output_type": "display_data"
    },
    {
     "name": "stdout",
     "output_type": "stream",
     "text": [
      "gt_str = 155                 , res_str =   155                \n"
     ]
    },
    {
     "data": {
      "image/png": "[encoded data removed]",
      "text/plain": [
       "<Figure size 2160x36 with 1 Axes>"
      ]
     },
     "metadata": {
      "needs_background": "light"
     },
     "output_type": "display_data"
    },
    {
     "name": "stdout",
     "output_type": "stream",
     "text": [
      "gt_str = 473                 , res_str =   473                \n"
     ]
    },
    {
     "data": {
      "image/png": "[encoded data removed]",
      "text/plain": [
       "<Figure size 2160x36 with 1 Axes>"
      ]
     },
     "metadata": {
      "needs_background": "light"
     },
     "output_type": "display_data"
    },
    {
     "name": "stdout",
     "output_type": "stream",
     "text": [
      "gt_str = 089                 , res_str =   089                \n"
     ]
    },
    {
     "data": {
      "image/png": "[encoded data removed]",
      "text/plain": [
       "<Figure size 2160x36 with 1 Axes>"
      ]
     },
     "metadata": {
      "needs_background": "light"
     },
     "output_type": "display_data"
    },
    {
     "name": "stdout",
     "output_type": "stream",
     "text": [
      "gt_str = 155                 , res_str =   155                \n"
     ]
    },
    {
     "data": {
      "image/png": "[encoded data removed]",
      "text/plain": [
       "<Figure size 2160x36 with 1 Axes>"
      ]
     },
     "metadata": {
      "needs_background": "light"
     },
     "output_type": "display_data"
    },
    {
     "name": "stdout",
     "output_type": "stream",
     "text": [
      "gt_str = 104                 , res_str =   104                \n"
     ]
    },
    {
     "data": {
      "image/png": "[encoded data removed]",
      "text/plain": [
       "<Figure size 2160x36 with 1 Axes>"
      ]
     },
     "metadata": {
      "needs_background": "light"
     },
     "output_type": "display_data"
    },
    {
     "name": "stdout",
     "output_type": "stream",
     "text": [
      "gt_str = 155                 , res_str =   155                \n"
     ]
    },
    {
     "data": {
      "image/png": "[encoded data removed]",
      "text/plain": [
       "<Figure size 2160x36 with 1 Axes>"
      ]
     },
     "metadata": {
      "needs_background": "light"
     },
     "output_type": "display_data"
    },
    {
     "name": "stdout",
     "output_type": "stream",
     "text": [
      "gt_str = 155                 , res_str =   155                \n"
     ]
    },
    {
     "data": {
      "image/png": "[encoded data removed]",
      "text/plain": [
       "<Figure size 2160x36 with 1 Axes>"
      ]
     },
     "metadata": {
      "needs_background": "light"
     },
     "output_type": "display_data"
    },
    {
     "name": "stdout",
     "output_type": "stream",
     "text": [
      "gt_str = 102                 , res_str =   102                \n"
     ]
    },
    {
     "data": {
      "image/png": "[encoded data removed]",
      "text/plain": [
       "<Figure size 2160x36 with 1 Axes>"
      ]
     },
     "metadata": {
      "needs_background": "light"
     },
     "output_type": "display_data"
    },
    {
     "name": "stdout",
     "output_type": "stream",
     "text": [
      "gt_str = EAWH                , res_str =   EAWH               \n"
     ]
    },
    {
     "data": {
      "image/png": "[encoded data removed]",
      "text/plain": [
       "<Figure size 2160x36 with 1 Axes>"
      ]
     },
     "metadata": {
      "needs_background": "light"
     },
     "output_type": "display_data"
    },
    {
     "name": "stdout",
     "output_type": "stream",
     "text": [
      "gt_str = K3                  , res_str =   K3                 \n"
     ]
    },
    {
     "data": {
      "image/png": "[encoded data removed]",
      "text/plain": [
       "<Figure size 2160x36 with 1 Axes>"
      ]
     },
     "metadata": {
      "needs_background": "light"
     },
     "output_type": "display_data"
    },
    {
     "name": "stdout",
     "output_type": "stream",
     "text": [
      "gt_str = 100-6L              , res_str =   1D0-6L             \n"
     ]
    },
    {
     "data": {
      "image/png": "[encoded data removed]",
      "text/plain": [
       "<Figure size 2160x36 with 1 Axes>"
      ]
     },
     "metadata": {
      "needs_background": "light"
     },
     "output_type": "display_data"
    },
    {
     "name": "stdout",
     "output_type": "stream",
     "text": [
      "gt_str = 104                 , res_str =   104                \n"
     ]
    },
    {
     "data": {
      "image/png": "[encoded data removed]",
      "text/plain": [
       "<Figure size 2160x36 with 1 Axes>"
      ]
     },
     "metadata": {
      "needs_background": "light"
     },
     "output_type": "display_data"
    },
    {
     "name": "stdout",
     "output_type": "stream",
     "text": [
      "gt_str = 512                 , res_str =   512                \n"
     ]
    },
    {
     "data": {
      "image/png": "[encoded data removed]",
      "text/plain": [
       "<Figure size 2160x36 with 1 Axes>"
      ]
     },
     "metadata": {
      "needs_background": "light"
     },
     "output_type": "display_data"
    },
    {
     "name": "stdout",
     "output_type": "stream",
     "text": [
      "gt_str = M430FG438           , res_str =   M430FG438          \n"
     ]
    },
    {
     "data": {
      "image/png": "[encoded data removed]",
      "text/plain": [
       "<Figure size 2160x36 with 1 Axes>"
      ]
     },
     "metadata": {
      "needs_background": "light"
     },
     "output_type": "display_data"
    },
    {
     "name": "stdout",
     "output_type": "stream",
     "text": [
      "gt_str = REVC                , res_str =   REV                \n"
     ]
    },
    {
     "data": {
      "image/png": "[encoded data removed]",
      "text/plain": [
       "<Figure size 2160x36 with 1 Axes>"
      ]
     },
     "metadata": {
      "needs_background": "light"
     },
     "output_type": "display_data"
    },
    {
     "name": "stdout",
     "output_type": "stream",
     "text": [
      "gt_str = 93A0SDTG4           , res_str =   lP93A0SDTG4        \n"
     ]
    },
    {
     "data": {
      "image/png": "[encoded data removed]",
      "text/plain": [
       "<Figure size 2160x36 with 1 Axes>"
      ]
     },
     "metadata": {
      "needs_background": "light"
     },
     "output_type": "display_data"
    },
    {
     "name": "stdout",
     "output_type": "stream",
     "text": [
      "gt_str = 155                 , res_str =   155                \n"
     ]
    },
    {
     "data": {
      "image/png": "[encoded data removed]",
      "text/plain": [
       "<Figure size 2160x36 with 1 Axes>"
      ]
     },
     "metadata": {
      "needs_background": "light"
     },
     "output_type": "display_data"
    },
    {
     "name": "stdout",
     "output_type": "stream",
     "text": [
      "gt_str = 000                 , res_str =   000                \n"
     ]
    },
    {
     "data": {
      "image/png": "[encoded data removed]",
      "text/plain": [
       "<Figure size 2160x36 with 1 Axes>"
      ]
     },
     "metadata": {
      "needs_background": "light"
     },
     "output_type": "display_data"
    },
    {
     "name": "stdout",
     "output_type": "stream",
     "text": [
      "gt_str = 089                 , res_str =   089                \n"
     ]
    },
    {
     "data": {
      "image/png": "[encoded data removed]",
      "text/plain": [
       "<Figure size 2160x36 with 1 Axes>"
      ]
     },
     "metadata": {
      "needs_background": "light"
     },
     "output_type": "display_data"
    },
    {
     "name": "stdout",
     "output_type": "stream",
     "text": [
      "gt_str = 155                 , res_str =   155                \n"
     ]
    },
    {
     "data": {
      "image/png": "[encoded data removed]",
      "text/plain": [
       "<Figure size 2160x36 with 1 Axes>"
      ]
     },
     "metadata": {
      "needs_background": "light"
     },
     "output_type": "display_data"
    },
    {
     "name": "stdout",
     "output_type": "stream",
     "text": [
      "gt_str = 512                 , res_str =   512                \n"
     ]
    },
    {
     "data": {
      "image/png": "[encoded data removed]",
      "text/plain": [
       "<Figure size 2160x36 with 1 Axes>"
      ]
     },
     "metadata": {
      "needs_background": "light"
     },
     "output_type": "display_data"
    },
    {
     "name": "stdout",
     "output_type": "stream",
     "text": [
      "gt_str = 473                 , res_str =   473                \n"
     ]
    },
    {
     "data": {
      "image/png": "[encoded data removed]",
      "text/plain": [
       "<Figure size 2160x36 with 1 Axes>"
      ]
     },
     "metadata": {
      "needs_background": "light"
     },
     "output_type": "display_data"
    },
    {
     "name": "stdout",
     "output_type": "stream",
     "text": [
      "gt_str = 102                 , res_str =   102                \n"
     ]
    },
    {
     "data": {
      "image/png": "[encoded data removed]",
      "text/plain": [
       "<Figure size 2160x36 with 1 Axes>"
      ]
     },
     "metadata": {
      "needs_background": "light"
     },
     "output_type": "display_data"
    },
    {
     "name": "stdout",
     "output_type": "stream",
     "text": [
      "gt_str = 155                 , res_str =   155                \n"
     ]
    },
    {
     "data": {
      "image/png": "[encoded data removed]",
      "text/plain": [
       "<Figure size 2160x36 with 1 Axes>"
      ]
     },
     "metadata": {
      "needs_background": "light"
     },
     "output_type": "display_data"
    },
    {
     "name": "stdout",
     "output_type": "stream",
     "text": [
      "gt_str = 155                 , res_str =   155                \n"
     ]
    },
    {
     "data": {
      "image/png": "[encoded data removed]",
      "text/plain": [
       "<Figure size 2160x36 with 1 Axes>"
      ]
     },
     "metadata": {
      "needs_background": "light"
     },
     "output_type": "display_data"
    },
    {
     "name": "stdout",
     "output_type": "stream",
     "text": [
      "gt_str = 102                 , res_str =   102                \n"
     ]
    },
    {
     "data": {
      "image/png": "[encoded data removed]",
      "text/plain": [
       "<Figure size 2160x36 with 1 Axes>"
      ]
     },
     "metadata": {
      "needs_background": "light"
     },
     "output_type": "display_data"
    },
    {
     "name": "stdout",
     "output_type": "stream",
     "text": [
      "gt_str = 100-6L              , res_str =   1D0-6L             \n"
     ]
    },
    {
     "data": {
      "image/png": "[encoded data removed]",
      "text/plain": [
       "<Figure size 2160x36 with 1 Axes>"
      ]
     },
     "metadata": {
      "needs_background": "light"
     },
     "output_type": "display_data"
    },
    {
     "name": "stdout",
     "output_type": "stream",
     "text": [
      "gt_str = K3                  , res_str =   K3                 \n"
     ]
    },
    {
     "data": {
      "image/png": "[encoded data removed]",
      "text/plain": [
       "<Figure size 2160x36 with 1 Axes>"
      ]
     },
     "metadata": {
      "needs_background": "light"
     },
     "output_type": "display_data"
    },
    {
     "name": "stdout",
     "output_type": "stream",
     "text": [
      "gt_str = 513                 , res_str =   513                \n"
     ]
    },
    {
     "data": {
      "image/png": "[encoded data removed]",
      "text/plain": [
       "<Figure size 2160x36 with 1 Axes>"
      ]
     },
     "metadata": {
      "needs_background": "light"
     },
     "output_type": "display_data"
    },
    {
     "name": "stdout",
     "output_type": "stream",
     "text": [
      "gt_str = 155                 , res_str =   155                \n"
     ]
    },
    {
     "data": {
      "image/png": "[encoded data removed]",
      "text/plain": [
       "<Figure size 2160x36 with 1 Axes>"
      ]
     },
     "metadata": {
      "needs_background": "light"
     },
     "output_type": "display_data"
    },
    {
     "name": "stdout",
     "output_type": "stream",
     "text": [
      "gt_str = 104                 , res_str =   104                \n"
     ]
    },
    {
     "data": {
      "image/png": "[encoded data removed]",
      "text/plain": [
       "<Figure size 2160x36 with 1 Axes>"
      ]
     },
     "metadata": {
      "needs_background": "light"
     },
     "output_type": "display_data"
    },
    {
     "name": "stdout",
     "output_type": "stream",
     "text": [
      "gt_str = EAWH                , res_str =   EAWH               \n"
     ]
    },
    {
     "data": {
      "image/png": "[encoded data removed]",
      "text/plain": [
       "<Figure size 2160x36 with 1 Axes>"
      ]
     },
     "metadata": {
      "needs_background": "light"
     },
     "output_type": "display_data"
    },
    {
     "name": "stdout",
     "output_type": "stream",
     "text": [
      "gt_str = 104                 , res_str =   104                \n"
     ]
    },
    {
     "data": {
      "image/png": "[encoded data removed]",
      "text/plain": [
       "<Figure size 2160x36 with 1 Axes>"
      ]
     },
     "metadata": {
      "needs_background": "light"
     },
     "output_type": "display_data"
    },
    {
     "name": "stdout",
     "output_type": "stream",
     "text": [
      "gt_str = 102                 , res_str =   102                \n"
     ]
    },
    {
     "data": {
      "image/png": "[encoded data removed]",
      "text/plain": [
       "<Figure size 2160x36 with 1 Axes>"
      ]
     },
     "metadata": {
      "needs_background": "light"
     },
     "output_type": "display_data"
    },
    {
     "name": "stdout",
     "output_type": "stream",
     "text": [
      "gt_str = 155                 , res_str =   155                \n"
     ]
    },
    {
     "data": {
      "image/png": "[encoded data removed]",
      "text/plain": [
       "<Figure size 2160x36 with 1 Axes>"
      ]
     },
     "metadata": {
      "needs_background": "light"
     },
     "output_type": "display_data"
    },
    {
     "name": "stdout",
     "output_type": "stream",
     "text": [
      "gt_str = REVC                , res_str =   REV                \n"
     ]
    },
    {
     "data": {
      "image/png": "[encoded data removed]",
      "text/plain": [
       "<Figure size 2160x36 with 1 Axes>"
      ]
     },
     "metadata": {
      "needs_background": "light"
     },
     "output_type": "display_data"
    },
    {
     "name": "stdout",
     "output_type": "stream",
     "text": [
      "gt_str = 93A0SDTG4           , res_str =   lP93A0SDTG4        \n"
     ]
    },
    {
     "data": {
      "image/png": "[encoded data removed]",
      "text/plain": [
       "<Figure size 2160x36 with 1 Axes>"
      ]
     },
     "metadata": {
      "needs_background": "light"
     },
     "output_type": "display_data"
    },
    {
     "name": "stdout",
     "output_type": "stream",
     "text": [
      "gt_str = M430FG438           , res_str =   M430FG438          \n"
     ]
    },
    {
     "data": {
      "image/png": "[encoded data removed]",
      "text/plain": [
       "<Figure size 2160x36 with 1 Axes>"
      ]
     },
     "metadata": {
      "needs_background": "light"
     },
     "output_type": "display_data"
    },
    {
     "name": "stdout",
     "output_type": "stream",
     "text": [
      "gt_str = 104                 , res_str =   104                \n"
     ]
    },
    {
     "data": {
      "image/png": "[encoded data removed]",
      "text/plain": [
       "<Figure size 2160x36 with 1 Axes>"
      ]
     },
     "metadata": {
      "needs_background": "light"
     },
     "output_type": "display_data"
    },
    {
     "name": "stdout",
     "output_type": "stream",
     "text": [
      "gt_str = 155                 , res_str =   155                \n"
     ]
    },
    {
     "data": {
      "image/png": "[encoded data removed]",
      "text/plain": [
       "<Figure size 2160x36 with 1 Axes>"
      ]
     },
     "metadata": {
      "needs_background": "light"
     },
     "output_type": "display_data"
    },
    {
     "name": "stdout",
     "output_type": "stream",
     "text": [
      "gt_str = EAWH                , res_str =   EAWH               \n"
     ]
    },
    {
     "data": {
      "image/png": "[encoded data removed]",
      "text/plain": [
       "<Figure size 2160x36 with 1 Axes>"
      ]
     },
     "metadata": {
      "needs_background": "light"
     },
     "output_type": "display_data"
    },
    {
     "name": "stdout",
     "output_type": "stream",
     "text": [
      "gt_str = 100-6L              , res_str =   1D0-6L             \n"
     ]
    },
    {
     "data": {
      "image/png": "[encoded data removed]",
      "text/plain": [
       "<Figure size 2160x36 with 1 Axes>"
      ]
     },
     "metadata": {
      "needs_background": "light"
     },
     "output_type": "display_data"
    },
    {
     "name": "stdout",
     "output_type": "stream",
     "text": [
      "gt_str = K3                  , res_str =   K3                 \n"
     ]
    },
    {
     "data": {
      "image/png": "[encoded data removed]",
      "text/plain": [
       "<Figure size 2160x36 with 1 Axes>"
      ]
     },
     "metadata": {
      "needs_background": "light"
     },
     "output_type": "display_data"
    },
    {
     "name": "stdout",
     "output_type": "stream",
     "text": [
      "gt_str = 000                 , res_str =   000                \n"
     ]
    },
    {
     "data": {
      "image/png": "[encoded data removed]",
      "text/plain": [
       "<Figure size 2160x36 with 1 Axes>"
      ]
     },
     "metadata": {
      "needs_background": "light"
     },
     "output_type": "display_data"
    },
    {
     "name": "stdout",
     "output_type": "stream",
     "text": [
      "gt_str = 93A0SDTG4           , res_str =   lP93A0SDTG4        \n"
     ]
    },
    {
     "data": {
      "image/png": "[encoded data removed]",
      "text/plain": [
       "<Figure size 2160x36 with 1 Axes>"
      ]
     },
     "metadata": {
      "needs_background": "light"
     },
     "output_type": "display_data"
    },
    {
     "name": "stdout",
     "output_type": "stream",
     "text": [
      "gt_str = M430FG438           , res_str =   M430FG438          \n"
     ]
    },
    {
     "data": {
      "image/png": "[encoded data removed]",
      "text/plain": [
       "<Figure size 2160x36 with 1 Axes>"
      ]
     },
     "metadata": {
      "needs_background": "light"
     },
     "output_type": "display_data"
    },
    {
     "name": "stdout",
     "output_type": "stream",
     "text": [
      "gt_str = REVC                , res_str =   REV                \n"
     ]
    },
    {
     "data": {
      "image/png": "[encoded data removed]",
      "text/plain": [
       "<Figure size 2160x36 with 1 Axes>"
      ]
     },
     "metadata": {
      "needs_background": "light"
     },
     "output_type": "display_data"
    },
    {
     "name": "stdout",
     "output_type": "stream",
     "text": [
      "gt_str = 104                 , res_str =   104                \n"
     ]
    },
    {
     "data": {
      "image/png": "[encoded data removed]",
      "text/plain": [
       "<Figure size 2160x36 with 1 Axes>"
      ]
     },
     "metadata": {
      "needs_background": "light"
     },
     "output_type": "display_data"
    },
    {
     "name": "stdout",
     "output_type": "stream",
     "text": [
      "gt_str = 102                 , res_str =   102                \n"
     ]
    },
    {
     "data": {
      "image/png": "[encoded data removed]",
      "text/plain": [
       "<Figure size 2160x36 with 1 Axes>"
      ]
     },
     "metadata": {
      "needs_background": "light"
     },
     "output_type": "display_data"
    },
    {
     "name": "stdout",
     "output_type": "stream",
     "text": [
      "gt_str = 155                 , res_str =   155                \n"
     ]
    },
    {
     "data": {
      "image/png": "[encoded data removed]",
      "text/plain": [
       "<Figure size 2160x36 with 1 Axes>"
      ]
     },
     "metadata": {
      "needs_background": "light"
     },
     "output_type": "display_data"
    },
    {
     "name": "stdout",
     "output_type": "stream",
     "text": [
      "gt_str = 155                 , res_str =   155                \n"
     ]
    },
    {
     "data": {
      "image/png": "[encoded data removed]",
      "text/plain": [
       "<Figure size 2160x36 with 1 Axes>"
      ]
     },
     "metadata": {
      "needs_background": "light"
     },
     "output_type": "display_data"
    },
    {
     "name": "stdout",
     "output_type": "stream",
     "text": [
      "gt_str = 155                 , res_str =   155                \n",
      "\n",
      "mean editdistance: 1.188\n",
      "mean normalized editdistance: 0.335\n"
     ]
    }
   ],
   "source": [
    "# g = gen_train.generate()\n",
    "g = gen_val.generate()\n",
    "d = next(g)\n",
    "\n",
    "res = model_pred.predict(d[0]['image_input'])\n",
    "\n",
    "mean_ed = 0\n",
    "mean_ed_norm = 0\n",
    "\n",
    "#for i in range(len(res)):\n",
    "for i in range(len(res)):\n",
    "    # best path, real ocr applications use beam search with dictionary and language model\n",
    "    chars = [alphabet[c] for c in np.argmax(res[i], axis=1)]\n",
    "    gt_str = d[0]['source_str'][i]\n",
    "    res_str = decode(chars)\n",
    "    \n",
    "    ed = editdistance.eval(gt_str, res_str)\n",
    "    #ed = levenshtein(gt_str, res_str)\n",
    "    ed_norm = ed / len(gt_str)\n",
    "    mean_ed += ed\n",
    "    mean_ed_norm += ed_norm\n",
    "    \n",
    "    # display image\n",
    "    plt.figure(figsize=[30,0.5])\n",
    "    img = d[0]['image_input'][i]\n",
    "    img = np.transpose(img, (1,0,2)) / 255\n",
    "    if img.shape[-1] == 1:\n",
    "        plt.imshow(img[:,:,0], cmap='gray')\n",
    "    else:\n",
    "        plt.imshow(img[:,:,(2,1,0)])\n",
    "    ax = plt.gca()\n",
    "    ax.get_xaxis().set_visible(False)\n",
    "    ax.get_yaxis().set_visible(False)\n",
    "    plt.show()\n",
    "    print('gt_str = %-20s, res_str =  %-20s'  % (gt_str, res_str))\n",
    "#     print('%-20s %-20s %s %0.2f' % (gt_str, res_str, ''.join(chars), ed_norm))\n",
    "\n",
    "mean_ed /= len(res)\n",
    "mean_ed_norm /= len(res)\n",
    "\n",
    "print('\\nmean editdistance: %0.3f\\nmean normalized editdistance: %0.3f' % (mean_ed, mean_ed_norm))"
   ]
  },
  {
   "cell_type": "code",
   "execution_count": null,
   "metadata": {
    "collapsed": true
   },
   "outputs": [],
   "source": []
  },
  {
   "cell_type": "markdown",
   "metadata": {},
   "source": [
    "### Test"
   ]
  },
  {
   "cell_type": "code",
   "execution_count": 4,
   "metadata": {
    "collapsed": true
   },
   "outputs": [],
   "source": [
    "model.load_weights('./checkpoints/201806162129_crnn_lstm_synthtext/weights.400000.h5')\n",
    "#model.load_weights('./checkpoints/201806190711_crnn_gru_synthtext/weights.400000.h5')\n",
    "#model.load_weights('./checkpoints/202001111100_crnn_cnn_synthtext/weights.600000.h5')"
   ]
  },
  {
   "cell_type": "code",
   "execution_count": 5,
   "metadata": {},
   "outputs": [
    {
     "name": "stdout",
     "output_type": "stream",
     "text": [
      "NEW epoch\n",
      "\n",
      "mean editdistance             0.346\n",
      "mean normalized editdistance  0.084\n",
      "character recogniton rate     0.913\n",
      "word recognition rate         0.853\n"
     ]
    }
   ],
   "source": [
    "g = gen_val.generate()\n",
    "n = 100000\n",
    "#n = batch_size\n",
    "\n",
    "mean_ed = 0\n",
    "mean_ed_norm = 0\n",
    "mean_character_recogniton_rate = 0\n",
    "sum_ed = 0\n",
    "char_count = 0\n",
    "correct_word_count = 0 \n",
    "\n",
    "word_recognition_rate = 0\n",
    "\n",
    "j = 0\n",
    "while j < n:\n",
    "    d = next(g)\n",
    "    res = model_pred.predict(d[0]['image_input'])\n",
    "\n",
    "    for i in range(len(res)):\n",
    "        if not j < n: break\n",
    "        j += 1\n",
    "        \n",
    "        # best path, real ocr applications use beam search with dictionary and language model\n",
    "        chars = [alphabet[c] for c in np.argmax(res[i], axis=1)]\n",
    "        gt_str = d[0]['source_str'][i]\n",
    "        res_str = decode(chars)\n",
    "        \n",
    "        ed = editdistance.eval(gt_str, res_str)\n",
    "        #ed = levenshtein(gt_str, res_str)\n",
    "        ed_norm = ed / len(gt_str)\n",
    "        mean_ed += ed\n",
    "        mean_ed_norm += ed_norm\n",
    "        \n",
    "        sum_ed += ed\n",
    "        char_count += len(gt_str)\n",
    "        if ed == 0.: correct_word_count += 1\n",
    "        \n",
    "        #print('%20s %20s %f' %(gt_str, res_str, ed))\n",
    "\n",
    "\n",
    "mean_ed /= j\n",
    "mean_ed_norm /= j\n",
    "character_recogniton_rate = (char_count-sum_ed) / char_count\n",
    "word_recognition_rate = correct_word_count / j\n",
    "\n",
    "print()\n",
    "print('mean editdistance             %0.3f' % (mean_ed))\n",
    "print('mean normalized editdistance  %0.3f' % (mean_ed_norm))\n",
    "print('character recogniton rate     %0.3f' % (character_recogniton_rate))\n",
    "print('word recognition rate         %0.3f' % (word_recognition_rate))"
   ]
  },
  {
   "cell_type": "code",
   "execution_count": null,
   "metadata": {
    "collapsed": true
   },
   "outputs": [],
   "source": []
  },
  {
   "cell_type": "code",
   "execution_count": 7,
   "metadata": {},
   "outputs": [
    {
     "name": "stdout",
     "output_type": "stream",
     "text": [
      "53.4 ms ± 188 µs per loop (mean ± std. dev. of 7 runs, 10 loops each)\n"
     ]
    }
   ],
   "source": [
    "%%timeit\n",
    "res = model_pred.predict(d[0]['image_input'][1,None], batch_size=1)\n",
    "for i in range(len(res)):\n",
    "    chars = [alphabet[c] for c in np.argmax(res[i], axis=1)]\n",
    "    res_str = decode(chars)"
   ]
  },
  {
   "cell_type": "code",
   "execution_count": 8,
   "metadata": {},
   "outputs": [
    {
     "name": "stdout",
     "output_type": "stream",
     "text": [
      "57.7 ms ± 178 µs per loop (mean ± std. dev. of 7 runs, 10 loops each)\n"
     ]
    }
   ],
   "source": [
    "%%timeit\n",
    "res = model_pred.predict(d[0]['image_input'][:16], batch_size=16)\n",
    "for i in range(len(res)):\n",
    "    chars = [alphabet[c] for c in np.argmax(res[i], axis=1)]\n",
    "    res_str = decode(chars)"
   ]
  },
  {
   "cell_type": "code",
   "execution_count": null,
   "metadata": {
    "collapsed": true,
    "scrolled": true
   },
   "outputs": [],
   "source": []
  },
  {
   "cell_type": "markdown",
   "metadata": {},
   "source": [
    "### Example plots"
   ]
  },
  {
   "cell_type": "code",
   "execution_count": 10,
   "metadata": {
    "scrolled": false
   },
   "outputs": [
    {
     "name": "stdout",
     "output_type": "stream",
     "text": [
      "NEW epoch\n"
     ]
    },
    {
     "data": {
      "image/png": "[encoded data removed]",
      "text/plain": [
       "<matplotlib.figure.Figure at 0x7f53db8ca048>"
      ]
     },
     "metadata": {},
     "output_type": "display_data"
    },
    {
     "data": {
      "image/png": "[encoded data removed]",
      "text/plain": [
       "<matplotlib.figure.Figure at 0x7f53daff3518>"
      ]
     },
     "metadata": {},
     "output_type": "display_data"
    },
    {
     "data": {
      "image/png": "[encoded data removed]",
      "text/plain": [
       "<matplotlib.figure.Figure at 0x7f53da9ee0f0>"
      ]
     },
     "metadata": {},
     "output_type": "display_data"
    },
    {
     "data": {
      "image/png": "[encoded data removed]",
      "text/plain": [
       "<matplotlib.figure.Figure at 0x7f53da9ee4a8>"
      ]
     },
     "metadata": {},
     "output_type": "display_data"
    },
    {
     "data": {
      "image/png": "[encoded data removed]",
      "text/plain": [
       "<matplotlib.figure.Figure at 0x7f53da9288d0>"
      ]
     },
     "metadata": {},
     "output_type": "display_data"
    },
    {
     "data": {
      "image/png": "[encoded data removed]",
      "text/plain": [
       "<matplotlib.figure.Figure at 0x7f53da95c0b8>"
      ]
     },
     "metadata": {},
     "output_type": "display_data"
    },
    {
     "data": {
      "image/png": "[encoded data removed]",
      "text/plain": [
       "<matplotlib.figure.Figure at 0x7f53da710208>"
      ]
     },
     "metadata": {},
     "output_type": "display_data"
    },
    {
     "data": {
      "image/png": "[encoded data removed]",
      "text/plain": [
       "<matplotlib.figure.Figure at 0x7f53da684c88>"
      ]
     },
     "metadata": {},
     "output_type": "display_data"
    },
    {
     "data": {
      "image/png": "[encoded data removed]",
      "text/plain": [
       "<matplotlib.figure.Figure at 0x7f53da03d390>"
      ]
     },
     "metadata": {},
     "output_type": "display_data"
    },
    {
     "data": {
      "image/png": "[encoded data removed]",
      "text/plain": [
       "<matplotlib.figure.Figure at 0x7f53d9171860>"
      ]
     },
     "metadata": {},
     "output_type": "display_data"
    },
    {
     "name": "stdout",
     "output_type": "stream",
     "text": [
      "\n",
      "mean editdistance: 0.008\n",
      "mean normalized editdistance: 0.004\n"
     ]
    }
   ],
   "source": [
    "g = gen_val.generate()\n",
    "d = next(g)\n",
    "\n",
    "res = model_pred.predict(d[0]['image_input'])\n",
    "\n",
    "mean_ed = 0\n",
    "mean_ed_norm = 0\n",
    "\n",
    "font = {'family': 'monospace',\n",
    "        'color':  'black',\n",
    "        'weight': 'normal',\n",
    "        'size': 12,\n",
    "        }\n",
    "\n",
    "plot_name = 'crnn_sythtext'\n",
    "\n",
    "#for i in range(len(res)):\n",
    "for i in range(10):\n",
    "    # best path, real ocr applications use beam search with dictionary and language model\n",
    "    chars = [alphabet[c] for c in np.argmax(res[i], axis=1)]\n",
    "    gt_str = d[0]['source_str'][i]\n",
    "    res_str = decode(chars)\n",
    "    \n",
    "    ed = editdistance.eval(gt_str, res_str)\n",
    "    #ed = levenshtein(gt_str, res_str)\n",
    "    ed_norm = ed / len(gt_str)\n",
    "    mean_ed += ed\n",
    "    mean_ed_norm += ed_norm\n",
    "    \n",
    "    # display image\n",
    "    img = d[0]['image_input'][i][:,:,0].T\n",
    "    plt.figure(figsize=[10,1.03])\n",
    "    plt.imshow(img, cmap='gray', interpolation=None)\n",
    "    ax = plt.gca()\n",
    "    ax.get_xaxis().set_visible(False)\n",
    "    ax.get_yaxis().set_visible(False)\n",
    "    plt.text(0, 45, '%s' % (''.join(chars)), fontdict=font)\n",
    "    plt.text(0, 60, 'GT: %-24s RT: %-24s %0.2f' % (gt_str, res_str, ed_norm), fontdict=font)\n",
    "    \n",
    "    #file_name = 'plots/%s_recogniton_%03d.pgf' % (plot_name, i)\n",
    "    file_name = 'plots/%s_recogniton_%03d.png' % (plot_name, i)\n",
    "    #plt.savefig(file_name, bbox_inches='tight', dpi=300)\n",
    "    #print(file_name)\n",
    "    \n",
    "    plt.show()\n",
    "    \n",
    "    #print('%-20s %-20s %s %0.2f' % (gt_str, res_str, ''.join(chars), ed_norm))\n",
    "\n",
    "mean_ed /= len(res)\n",
    "mean_ed_norm /= len(res)\n",
    "\n",
    "print('\\nmean editdistance: %0.3f\\nmean normalized editdistance: %0.3f' % (mean_ed, mean_ed_norm))"
   ]
  },
  {
   "cell_type": "code",
   "execution_count": null,
   "metadata": {
    "collapsed": true
   },
   "outputs": [],
   "source": []
  },
  {
   "cell_type": "code",
   "execution_count": 3,
   "metadata": {},
   "outputs": [
    {
     "name": "stdout",
     "output_type": "stream",
     "text": [
      "lstm\n",
      "model memory usage    41.17 MB\n",
      "trainable            8,745,303\n",
      "non-trainable            2,048\n",
      "\n",
      "gru\n",
      "model memory usage    38.17 MB\n",
      "trainable            7,957,847\n",
      "non-trainable            2,048\n",
      "\n",
      "cnn\n",
      "model memory usage    38.40 MB\n",
      "trainable            7,872,087\n",
      "non-trainable            5,632\n",
      "\n"
     ]
    }
   ],
   "source": [
    "from utils.model import calc_memory_usage, count_parameters\n",
    "\n",
    "from crnn_utils import alphabet87 as alphabet\n",
    "input_width = 256\n",
    "input_height = 32\n",
    "\n",
    "model_names = ['lstm', 'gru', 'cnn']\n",
    "models = [\n",
    "    CRNN((input_width, input_height, 1), len(alphabet), prediction_only=True),\n",
    "    CRNN((input_width, input_height, 1), len(alphabet), prediction_only=True, gru=True),\n",
    "    CRNN((input_width, input_height, 1), len(alphabet), prediction_only=True, cnn=True),\n",
    "]\n",
    "\n",
    "for n, m in zip(model_names, models):\n",
    "    print(n)\n",
    "    calc_memory_usage(m)\n",
    "    count_parameters(m)\n",
    "    print()"
   ]
  },
  {
   "cell_type": "code",
   "execution_count": 9,
   "metadata": {},
   "outputs": [
    {
     "name": "stdout",
     "output_type": "stream",
     "text": [
      "114 ms ± 2.75 ms per loop (mean ± std. dev. of 7 runs, 10 loops each)\n"
     ]
    }
   ],
   "source": [
    "%%timeit\n",
    "res = models[0].predict(d[0]['image_input'][:1], batch_size=1)\n",
    "for i in range(len(res)):\n",
    "    chars = [alphabet[c] for c in np.argmax(res[i], axis=1)]\n",
    "    res_str = decode(chars)"
   ]
  },
  {
   "cell_type": "code",
   "execution_count": 10,
   "metadata": {},
   "outputs": [
    {
     "name": "stdout",
     "output_type": "stream",
     "text": [
      "85.1 ms ± 1.19 ms per loop (mean ± std. dev. of 7 runs, 10 loops each)\n"
     ]
    }
   ],
   "source": [
    "%%timeit\n",
    "res = models[1].predict(d[0]['image_input'][:1], batch_size=1)\n",
    "for i in range(len(res)):\n",
    "    chars = [alphabet[c] for c in np.argmax(res[i], axis=1)]\n",
    "    res_str = decode(chars)"
   ]
  },
  {
   "cell_type": "code",
   "execution_count": 11,
   "metadata": {},
   "outputs": [
    {
     "name": "stdout",
     "output_type": "stream",
     "text": [
      "3.68 ms ± 24.5 µs per loop (mean ± std. dev. of 7 runs, 10 loops each)\n"
     ]
    }
   ],
   "source": [
    "%%timeit\n",
    "res = models[2].predict(d[0]['image_input'][:1], batch_size=1)\n",
    "for i in range(len(res)):\n",
    "    chars = [alphabet[c] for c in np.argmax(res[i], axis=1)]\n",
    "    res_str = decode(chars)"
   ]
  },
  {
   "cell_type": "code",
   "execution_count": null,
   "metadata": {},
   "outputs": [],
   "source": []
  },
  {
   "cell_type": "code",
   "execution_count": null,
   "metadata": {
    "collapsed": true
   },
   "outputs": [],
   "source": []
  }
 ],
 "metadata": {
  "kernelspec": {
   "display_name": "Python 3",
   "language": "python",
   "name": "python3"
  },
  "language_info": {
   "codemirror_mode": {
    "name": "ipython",
    "version": 3
   },
   "file_extension": ".py",
   "mimetype": "text/x-python",
   "name": "python",
   "nbconvert_exporter": "python",
   "pygments_lexer": "ipython3",
   "version": "3.6.10"
  },
  "toc": {
   "base_numbering": 1,
   "nav_menu": {},
   "number_sections": true,
   "sideBar": true,
   "skip_h1_title": false,
   "title_cell": "Table of Contents",
   "title_sidebar": "Contents",
   "toc_cell": false,
   "toc_position": {},
   "toc_section_display": true,
   "toc_window_display": false
  }
 },
 "nbformat": 4,
 "nbformat_minor": 2
}
